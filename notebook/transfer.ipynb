{
 "cells": [
  {
   "cell_type": "code",
   "execution_count": 1,
   "id": "917f6165",
   "metadata": {},
   "outputs": [],
   "source": [
    "import numpy as np\n",
    "import pandas as pd\n",
    "\n",
    "pd.set_option('display.max_rows', 80)\n",
    "\n",
    "import random\n",
    "\n",
    "import time\n",
    "\n",
    "import sys\n",
    "sys.path.append(\"../\")\n",
    "\n",
    "from src.object import *\n",
    "from src.create import *\n",
    "\n",
    "from config.formation import *\n",
    "from config.config import *\n",
    "\n",
    "from IPython.core.interactiveshell import InteractiveShell\n",
    "InteractiveShell.ast_node_interactivity = \"all\""
   ]
  },
  {
   "cell_type": "code",
   "execution_count": 2,
   "id": "887d7619",
   "metadata": {},
   "outputs": [],
   "source": [
    "df_name = pd.read_csv(\"../data/csv/NationalNames.csv\")\n",
    "df_name_list = list(df_name[df_name.Gender=='M'].Name.sample(1000))"
   ]
  },
  {
   "cell_type": "code",
   "execution_count": 3,
   "id": "ae3450ee",
   "metadata": {},
   "outputs": [],
   "source": [
    "df_place = pd.read_csv(\"../data/csv/results.csv\")\n",
    "df_place = df_place.city.unique()\n",
    "df_place_count = 0"
   ]
  },
  {
   "cell_type": "code",
   "execution_count": 4,
   "id": "56b88487",
   "metadata": {},
   "outputs": [],
   "source": [
    "league_team = []\n",
    "\n",
    "for i in range(20):\n",
    "    min_rate = np.random.normal(71, 2.5)\n",
    "    max_rate = min_rate + 17\n",
    "    Cp = Create_player(position_num={\"ST\":4, \"RW\":2, \"CAM\":3, \"RM\":2, \"CM\":5, \"CDM\":3, \"CB\":4, \"RB\":4, \"GK\":3}, \n",
    "                       min_rate=min_rate, max_rate=max_rate, \n",
    "                       age_mean=27,\n",
    "                       mean_rate=min_rate+7,\n",
    "                       df_name_list=df_name_list)\n",
    "    Cp.create_teams()\n",
    "    players = Cp.players\n",
    "    formation = random_create_formation()\n",
    "    A = Team(name=df_place[df_place_count], \n",
    "             formation=formation,\n",
    "             min_rate=min_rate,\n",
    "             max_rate=max_rate)\n",
    "    A.affilation_players = players\n",
    "    \n",
    "    league_team.append(A)\n",
    "    df_place_count += 1\n",
    "\n",
    "L1 = League(name=\"premia\", \n",
    "            teams=league_team,\n",
    "            num=20,\n",
    "            min_rate=75,\n",
    "            max_rate=95,\n",
    "            mean_rate=80,\n",
    "            category='top',\n",
    "            relegation_num=3)"
   ]
  },
  {
   "cell_type": "code",
   "execution_count": 5,
   "id": "8e86914d",
   "metadata": {},
   "outputs": [],
   "source": [
    "league_team = []\n",
    "\n",
    "for i in range(20):\n",
    "    min_rate = np.random.randint(63, 73)\n",
    "    max_rate = min_rate + 7\n",
    "    Cp = Create_player(position_num={\"ST\":4, \"RW\":2, \"CAM\":3, \"RM\":2, \"CM\":5, \"CDM\":3, \"CB\":4, \"RB\":4, \"GK\":3}, \n",
    "                       min_rate=min_rate, max_rate=max_rate, \n",
    "                       age_mean=27,\n",
    "                       mean_rate=min_rate+3,\n",
    "                       df_name_list=df_name_list)\n",
    "    Cp.create_teams()\n",
    "    players = Cp.players\n",
    "    formation = random_create_formation()\n",
    "    A = Team(name=df_place[df_place_count], \n",
    "             formation=formation,\n",
    "             min_rate=min_rate,\n",
    "             max_rate=max_rate)\n",
    "    A.affilation_players = players\n",
    "    \n",
    "    league_team.append(A)\n",
    "    df_place_count += 1\n",
    "\n",
    "L2 = League(name=\"championship\",\n",
    "            teams=league_team,\n",
    "            num=20,\n",
    "            min_rate=63,\n",
    "            max_rate=78,\n",
    "            mean_rate=70,\n",
    "            category='middle',\n",
    "            relegation_num=3,\n",
    "            promotion_num=3)"
   ]
  },
  {
   "cell_type": "code",
   "execution_count": 6,
   "id": "afd5156f",
   "metadata": {},
   "outputs": [],
   "source": [
    "England = ProSoccerLeague(name=\"england\", leagues=[L1, L2])"
   ]
  },
  {
   "cell_type": "code",
   "execution_count": 7,
   "id": "9b805a72",
   "metadata": {},
   "outputs": [],
   "source": [
    "for l in England.leagues:\n",
    "    for t in l.teams:\n",
    "        for p in t.affilation_players:\n",
    "            if np.random.normal(0, 1) > 1:\n",
    "                p.contract = 0"
   ]
  },
  {
   "cell_type": "code",
   "execution_count": 8,
   "id": "0fa78dcf",
   "metadata": {},
   "outputs": [
    {
     "name": "stdout",
     "output_type": "stream",
     "text": [
      "ST\n",
      "LB\n",
      "RW\n",
      "CM\n",
      "CDM\n",
      "GK\n",
      "ST\n",
      "CM\n",
      "CDM\n",
      "CB\n",
      "ST\n",
      "CAM\n",
      "LW\n",
      "RW\n",
      "CM\n",
      "ST\n",
      "CDM\n",
      "RB\n",
      "CDM\n",
      "CB\n",
      "ST\n",
      "ST\n",
      "CAM\n",
      "CM\n",
      "GK\n",
      "CDM\n",
      "ST\n",
      "RW\n",
      "CDM\n",
      "CB\n",
      "GK\n",
      "ST\n",
      "LW\n",
      "LW\n",
      "CM\n",
      "CB\n",
      "CM\n",
      "RB\n",
      "CB\n",
      "ST\n",
      "CAM\n",
      "CM\n",
      "CM\n",
      "CM\n",
      "CDM\n",
      "CB\n",
      "ST\n",
      "CF\n",
      "CM\n",
      "CDM\n",
      "GK\n",
      "ST\n",
      "CM\n",
      "CDM\n",
      "CB\n",
      "CM\n",
      "GK\n",
      "CM\n",
      "CM\n",
      "CB\n",
      "RW\n",
      "CDM\n",
      "ST\n",
      "RW\n",
      "CDM\n",
      "LWB\n",
      "ST\n",
      "CAM\n",
      "CDM\n",
      "CB\n",
      "CB\n",
      "CB\n",
      "CB\n",
      "LW\n",
      "CM\n",
      "CM\n",
      "CAM\n",
      "LW\n",
      "LW\n",
      "RB\n",
      "LB\n",
      "ST\n",
      "CAM\n",
      "LB\n",
      "CB\n",
      "GK\n",
      "ST\n",
      "ST\n",
      "ST\n",
      "CAM\n",
      "CB\n",
      "CB\n",
      "CB\n",
      "ST\n",
      "ST\n",
      "ST\n",
      "ST\n",
      "LW\n",
      "RW\n",
      "CM\n",
      "CB\n",
      "ST\n",
      "CAM\n",
      "LW\n",
      "RB\n",
      "ST\n",
      "ST\n",
      "LW\n",
      "LWB\n",
      "CB\n",
      "ST\n",
      "ST\n",
      "ST\n",
      "CAM\n",
      "RW\n",
      "LW\n",
      "CM\n",
      "CB\n",
      "CB\n",
      "ST\n",
      "ST\n",
      "RW\n",
      "LW\n",
      "CM\n",
      "ST\n",
      "ST\n",
      "CAM\n",
      "LW\n",
      "CM\n",
      "CB\n",
      "GK\n",
      "RW\n",
      "ST\n",
      "CM\n",
      "CDM\n",
      "GK\n",
      "RW\n",
      "RW\n",
      "CM\n",
      "CB\n",
      "ST\n",
      "ST\n",
      "ST\n",
      "CAM\n",
      "RB\n",
      "CB\n",
      "ST\n",
      "CM\n",
      "CDM\n",
      "CB\n",
      "ST\n",
      "ST\n",
      "RW\n",
      "LW\n",
      "RW\n",
      "RB\n",
      "CB\n",
      "LW\n",
      "CDM\n",
      "CAM\n",
      "LW\n",
      "GK\n"
     ]
    }
   ],
   "source": [
    "England.play_offseason(df_name_list=df_name_list)"
   ]
  },
  {
   "cell_type": "code",
   "execution_count": 9,
   "id": "3eecec69",
   "metadata": {},
   "outputs": [
    {
     "name": "stdout",
     "output_type": "stream",
     "text": [
      "30\n",
      "30\n",
      "30\n",
      "30\n",
      "30\n",
      "30\n",
      "30\n",
      "30\n",
      "30\n",
      "30\n",
      "30\n",
      "30\n",
      "30\n",
      "30\n",
      "30\n",
      "30\n",
      "30\n",
      "30\n",
      "30\n",
      "30\n",
      "30\n",
      "30\n",
      "30\n",
      "30\n",
      "30\n",
      "30\n",
      "30\n",
      "30\n",
      "30\n",
      "30\n",
      "30\n",
      "30\n",
      "30\n",
      "30\n",
      "30\n",
      "30\n",
      "30\n",
      "30\n",
      "30\n",
      "30\n"
     ]
    }
   ],
   "source": [
    "for l in England.leagues:\n",
    "    for t in l.teams:\n",
    "        print(len(t.affilation_players))"
   ]
  },
  {
   "cell_type": "code",
   "execution_count": 10,
   "id": "a28280a3",
   "metadata": {},
   "outputs": [
    {
     "data": {
      "text/plain": [
       "[<src.object.FieldPlayer at 0x7fd8d13376d0>,\n",
       " <src.object.FieldPlayer at 0x7fd8a0bd5280>,\n",
       " <src.object.FieldPlayer at 0x7fd8d1302910>,\n",
       " <src.object.FieldPlayer at 0x7fd8d13a04f0>,\n",
       " <src.object.FieldPlayer at 0x7fd8d128a9d0>,\n",
       " <src.object.FieldPlayer at 0x7fd8d1387160>,\n",
       " <src.object.FieldPlayer at 0x7fd8a0bd5a90>,\n",
       " <src.object.FieldPlayer at 0x7fd8d1337730>,\n",
       " <src.object.FieldPlayer at 0x7fd8d130e5e0>,\n",
       " <src.object.FieldPlayer at 0x7fd8d13a07f0>,\n",
       " <src.object.FieldPlayer at 0x7fd8d136de20>,\n",
       " <src.object.FieldPlayer at 0x7fd8d12f6670>,\n",
       " <src.object.FieldPlayer at 0x7fd8d136d5e0>,\n",
       " <src.object.FieldPlayer at 0x7fd8d12e8370>,\n",
       " <src.object.FieldPlayer at 0x7fd8a0a7a2b0>,\n",
       " <src.object.FieldPlayer at 0x7fd8d132c0d0>]"
      ]
     },
     "execution_count": 10,
     "metadata": {},
     "output_type": "execute_result"
    }
   ],
   "source": [
    "England.free_players"
   ]
  },
  {
   "cell_type": "code",
   "execution_count": 11,
   "id": "bc4f5ae6",
   "metadata": {},
   "outputs": [],
   "source": [
    "a = {}\n",
    "a[\"a\"] = 3\n",
    "a[\"b\"] = 5\n",
    "a[\"c\"] = 10"
   ]
  },
  {
   "cell_type": "code",
   "execution_count": 12,
   "id": "808f69bb",
   "metadata": {},
   "outputs": [
    {
     "data": {
      "text/plain": [
       "3"
      ]
     },
     "execution_count": 12,
     "metadata": {},
     "output_type": "execute_result"
    }
   ],
   "source": [
    "a.pop(\"a\")"
   ]
  },
  {
   "cell_type": "code",
   "execution_count": 13,
   "id": "c7dbcdea",
   "metadata": {},
   "outputs": [
    {
     "data": {
      "text/plain": [
       "{'b': 5, 'c': 10}"
      ]
     },
     "execution_count": 13,
     "metadata": {},
     "output_type": "execute_result"
    }
   ],
   "source": [
    "a"
   ]
  },
  {
   "cell_type": "code",
   "execution_count": 14,
   "id": "2c617896",
   "metadata": {},
   "outputs": [],
   "source": [
    "a = {}"
   ]
  },
  {
   "cell_type": "code",
   "execution_count": 15,
   "id": "ab3ed3dd",
   "metadata": {},
   "outputs": [
    {
     "data": {
      "text/plain": [
       "dict_keys([])"
      ]
     },
     "execution_count": 15,
     "metadata": {},
     "output_type": "execute_result"
    }
   ],
   "source": [
    "a.keys()"
   ]
  },
  {
   "cell_type": "code",
   "execution_count": null,
   "id": "98cbef1e",
   "metadata": {},
   "outputs": [],
   "source": [
    "np.random."
   ]
  }
 ],
 "metadata": {
  "kernelspec": {
   "display_name": "Python 3 (ipykernel)",
   "language": "python",
   "name": "python3"
  },
  "language_info": {
   "codemirror_mode": {
    "name": "ipython",
    "version": 3
   },
   "file_extension": ".py",
   "mimetype": "text/x-python",
   "name": "python",
   "nbconvert_exporter": "python",
   "pygments_lexer": "ipython3",
   "version": "3.8.10"
  }
 },
 "nbformat": 4,
 "nbformat_minor": 5
}
