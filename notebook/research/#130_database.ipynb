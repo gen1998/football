{
 "cells": [
  {
   "cell_type": "code",
   "execution_count": 31,
   "id": "b35af2ea",
   "metadata": {},
   "outputs": [],
   "source": [
    "import sqlite3\n",
    "import pandas as pd\n",
    "import numpy as np\n",
    "\n",
    "import uuid\n",
    "import os\n",
    "\n",
    "import random\n",
    "\n",
    "import time\n",
    "import sys"
   ]
  },
  {
   "cell_type": "code",
   "execution_count": 2,
   "id": "748e397e",
   "metadata": {},
   "outputs": [],
   "source": [
    "dbname = 'TEST.db'\n",
    "\n",
    "name = pd.read_csv(\"../../data/csv/NationalNames.csv\")\n",
    "name = name[name.Gender==\"M\"].Name.unique().tolist()"
   ]
  },
  {
   "cell_type": "code",
   "execution_count": 7,
   "id": "38ecd12e",
   "metadata": {},
   "outputs": [],
   "source": [
    "if os.path.exists(dbname):\n",
    "    os.remove(dbname)\n",
    "\n",
    "conn = sqlite3.connect(dbname)\n",
    "\n",
    "# sqliteを操作するカーソルオブジェクトを作成\n",
    "cur = conn.cursor()\n",
    "\n",
    "# personsというtableを作成してみる\n",
    "# 大文字部はSQL文。小文字でも問題ない。\n",
    "cur.execute(\n",
    "    'CREATE TABLE persons(uuid STRING, name STRING, age INTEGER, born_year INTEGER)')\n",
    "\n",
    "# データベースへコミット。これで変更が反映される。\n",
    "conn.commit()\n",
    "\n",
    "conn.close()"
   ]
  },
  {
   "cell_type": "code",
   "execution_count": 5,
   "id": "eddc7fb3",
   "metadata": {},
   "outputs": [],
   "source": [
    "class Player:\n",
    "    def __init__(self, name, uuid, age, born_year):\n",
    "        self.name = name\n",
    "        self.uuid = uuid\n",
    "        self.age = age\n",
    "        self.born_year = born_year"
   ]
  },
  {
   "cell_type": "code",
   "execution_count": 8,
   "id": "dc243e95",
   "metadata": {},
   "outputs": [],
   "source": [
    "conn = sqlite3.connect(dbname)\n",
    "cur = conn.cursor()\n",
    "\n",
    "players = []\n",
    "for i in range(10):\n",
    "    uuid_ = uuid.uuid1()\n",
    "    name = random.choice(name)\n",
    "    age = min(max(np.int8(np.round(np.random.normal(25, 5))), 18), 37)\n",
    "    born_year = 2024-age\n",
    "    cur.execute(f'INSERT INTO persons(name, uuid, age, born_year) values(\"{name}\", \"{uuid_}\", {age}, {born_year})')\n",
    "    \n",
    "    p = Player(name, uuid, age, born_year)\n",
    "    players.append(p)\n",
    "\n",
    "conn.commit()\n",
    "\n",
    "cur.close()\n",
    "conn.close()"
   ]
  },
  {
   "cell_type": "code",
   "execution_count": 28,
   "id": "8ab46c12",
   "metadata": {},
   "outputs": [],
   "source": [
    "s_ = time.time()\n",
    "for i in range(100000):\n",
    "    k = [p for p in players if p.age<25 and born_year<2000]\n",
    "f_ = time.time()\n",
    "\n",
    "conn = sqlite3.connect(dbname)\n",
    "cur = conn.cursor()\n",
    "\n",
    "s = time.time()\n",
    "for i in range(100000):\n",
    "    cur.execute('SELECT * FROM persons WHERE age<25 AND born_year<2000')\n",
    "f = time.time()\n",
    "\n",
    "cur.close()\n",
    "conn.close()"
   ]
  },
  {
   "cell_type": "code",
   "execution_count": null,
   "id": "6bb67d22",
   "metadata": {},
   "outputs": [],
   "source": [
    "conn = sqlite3.connect(dbname)\n",
    "cur = conn.cursor()\n",
    "\n",
    "# dbをpandasで読み出す。\n",
    "df = pd.read_sql('SELECT * FROM persons', conn)\n",
    "\n",
    "print(df)\n",
    "\n",
    "cur.close()\n",
    "conn.close()"
   ]
  },
  {
   "cell_type": "code",
   "execution_count": 32,
   "id": "dfea6576",
   "metadata": {},
   "outputs": [
    {
     "data": {
      "text/plain": [
       "184"
      ]
     },
     "execution_count": 32,
     "metadata": {},
     "output_type": "execute_result"
    }
   ],
   "source": [
    "sys.getsizeof(players)"
   ]
  },
  {
   "cell_type": "code",
   "execution_count": 36,
   "id": "4161eb33",
   "metadata": {},
   "outputs": [
    {
     "data": {
      "text/plain": [
       "120"
      ]
     },
     "execution_count": 36,
     "metadata": {},
     "output_type": "execute_result"
    }
   ],
   "source": [
    "sys.getsizeof(cur)"
   ]
  },
  {
   "cell_type": "code",
   "execution_count": null,
   "id": "ff1ff2b0",
   "metadata": {},
   "outputs": [],
   "source": []
  },
  {
   "cell_type": "code",
   "execution_count": null,
   "id": "2cb7dacd",
   "metadata": {},
   "outputs": [],
   "source": []
  }
 ],
 "metadata": {
  "kernelspec": {
   "display_name": "football",
   "language": "python",
   "name": "football"
  },
  "language_info": {
   "codemirror_mode": {
    "name": "ipython",
    "version": 3
   },
   "file_extension": ".py",
   "mimetype": "text/x-python",
   "name": "python",
   "nbconvert_exporter": "python",
   "pygments_lexer": "ipython3",
   "version": "3.11.4"
  }
 },
 "nbformat": 4,
 "nbformat_minor": 5
}
