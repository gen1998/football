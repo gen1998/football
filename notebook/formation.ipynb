{
 "cells": [
  {
   "cell_type": "code",
   "execution_count": 2,
   "id": "8c7b5a26",
   "metadata": {},
   "outputs": [],
   "source": [
    "import numpy as np\n",
    "import pandas as pd\n",
    "\n",
    "import collections"
   ]
  },
  {
   "cell_type": "code",
   "execution_count": 3,
   "id": "12a25552",
   "metadata": {},
   "outputs": [],
   "source": [
    "ALL_POSITON_LOW = [\"ST\", \"CAM\", \"RW\", \"RM\", \"CM\", \"CDM\", \"RB\", \"CB\", \"RWB\"]\n",
    "ALL_POSITON = [\"ST\", \"CF\", \"CAM\", \"RW\", \"LW\", \"RM\", \"LM\", \"CM\", \"CDM\", \"RB\", \"LB\", \"CB\", \"RWB\", \"LWB\"]"
   ]
  },
  {
   "cell_type": "code",
   "execution_count": 3,
   "id": "a9186b93",
   "metadata": {},
   "outputs": [],
   "source": [
    "class Player:\n",
    "    def __init__(self, name, age, position, pace, shooting, passing, dribbling, defending, physicality):\n",
    "        self.name = name\n",
    "        self.age = age\n",
    "        self.main_position = position\n",
    "        self.pace = pace\n",
    "        self.shooting = shooting\n",
    "        self.passing = passing\n",
    "        self.dribbling = dribbling\n",
    "        self.defending = defending\n",
    "        self.physicality = physicality\n",
    "        self.main_rate = self.cal_rate(self.main_position)\n",
    "    \n",
    "    def cal_rate(self, position):\n",
    "        if position=='ST':\n",
    "            pac, sho, pas, dri, de, phy = 0.10, 0.80, 0.00, 0.03, 0.00, 0.10\n",
    "        if position=='CAM' or position=='CF':\n",
    "            pac, sho, pas, dri, de, phy = 0.10, 0.30, 0.38, 0.20, 0.00, 0.05\n",
    "        if position=='CM':\n",
    "            pac, sho, pas, dri, de, phy = 0.05, 0.05, 0.58, 0.20, 0.10, 0.05\n",
    "        if position=='CDM':\n",
    "            pac, sho, pas, dri, de, phy = 0.03, 0.00, 0.30, 0.10, 0.40, 0.20\n",
    "\n",
    "        if position=='CB':\n",
    "            pac, sho, pas, dri, de, phy = 0.08, 0.00, 0.00, 0.00, 0.75, 0.20\n",
    "\n",
    "        if position=='RW' or position=='LW':\n",
    "            pac, sho, pas, dri, de, phy = 0.39, 0.10, 0.15, 0.39, 0.00, 0.00\n",
    "        if position=='LM' or position=='RM':\n",
    "            pac, sho, pas, dri, de, phy = 0.20, 0.20, 0.33, 0.20, 0.10, 0.00\n",
    "        if position=='LWB' or position=='RWB':\n",
    "            pac, sho, pas, dri, de, phy = 0.38, 0.00, 0.20, 0.10, 0.30, 0.05\n",
    "        if position=='LB' or position=='RB':\n",
    "            pac, sho, pas, dri, de, phy = 0.38, 0.00, 0.10, 0.20, 0.30, 0.05\n",
    "        \n",
    "        if position is None:\n",
    "            return 75\n",
    " \n",
    "        rate = self.pace*pac+self.shooting*sho+self.passing*pas+self.dribbling*dri+self.defending*de+self.physicality*phy\n",
    "        return np.int8(np.round(rate))\n",
    "    \n",
    "    def select_main_position(self):\n",
    "        rate_list = []\n",
    "        for pos in ALL_POSITON_LOW:\n",
    "            rate_list.append(self.cal_rate(pos))\n",
    "        self.main_position = ALL_POSITON_LOW[np.argmax(rate_list)]\n",
    "        self.main_rate = self.cal_rate(self.main_position)\n",
    "        \n",
    "        if self.main_position=='RW':\n",
    "            if np.random.rand()<0.5:\n",
    "                self.main_position='LW'\n",
    "\n",
    "        elif self.main_position=='RM':\n",
    "            if np.random.rand()<0.5:\n",
    "                self.main_position='LM'\n",
    "        \n",
    "        elif self.main_position=='CAM':\n",
    "            if np.random.rand()<0.1:\n",
    "                self.main_position='CF'\n",
    "        \n",
    "        elif self.main_position=='RWB':\n",
    "            if np.random.rand()<0.5:\n",
    "                self.main_position='LWB'\n",
    "        \n",
    "        if self.main_position=='RB':\n",
    "            if np.random.rand()<0.5:\n",
    "                self.main_position='LB'\n",
    "    \n",
    "    def print_player_data(self):\n",
    "        print(self.name, '  Rate:', self.main_rate, '(', self.main_position, ')')\n",
    "        print('-'*25)\n",
    "        print('  PAC ', self.pace, '  DRI ', self.dribbling)\n",
    "        print('  SHO ', self.shooting, '  DEF ', self.defending)\n",
    "        print('  PAS ', self.passing, '  PHY ', self.physicality)\n",
    "        print()\n",
    "        \n",
    "        print(f\"        ST:{self.cal_rate('ST')}\")\n",
    "        print(f\" LW:{self.cal_rate('LW')} CAM,CF:{self.cal_rate('CAM')} RW:{self.cal_rate('RW')}\")\n",
    "        print(f\" LM:{self.cal_rate('LM')}  CM:{self.cal_rate('CM')}    RM:{self.cal_rate('RM')}\")\n",
    "        print(f\"LWB:{self.cal_rate('LWB')} CDM:{self.cal_rate('CDM')}    RWB:{self.cal_rate('RWB')}\")\n",
    "        print(f\" LB:{self.cal_rate('LB')}  CB:{self.cal_rate('CB')}    RB:{self.cal_rate('RB')}\")\n",
    "        print()"
   ]
  },
  {
   "cell_type": "code",
   "execution_count": 4,
   "id": "4936241e",
   "metadata": {},
   "outputs": [],
   "source": [
    "class Team:\n",
    "    def __init_(self, name):\n",
    "        self.name = name\n",
    "        self.team_player = []\n",
    "    \n",
    "    def add_player(self, player):\n",
    "        self.team_player.push(player)"
   ]
  },
  {
   "cell_type": "code",
   "execution_count": 5,
   "id": "54e657fb",
   "metadata": {},
   "outputs": [],
   "source": [
    "df_name = pd.read_csv(\"../data/csv/NationalNames.csv\")\n",
    "df_name_list = list(df_name[df_name.Gender=='M'].Name.sample(500))"
   ]
  },
  {
   "cell_type": "markdown",
   "id": "ddedc583",
   "metadata": {},
   "source": [
    "# それぞれの数値がとる値\n",
    "- pac, sho, pas, dri, phy\n",
    "    - 70, 10\n",
    "- def\n",
    "    - 50, 20"
   ]
  },
  {
   "cell_type": "code",
   "execution_count": 13,
   "id": "63073a16",
   "metadata": {},
   "outputs": [],
   "source": [
    "class Formation:\n",
    "    def __init__(self, name, formation, formation_priority):\n",
    "        self.name = name\n",
    "        self.formation = formation\n",
    "        self.formation_priority = formation_priority\n",
    "        self.formation_flat = self.__flat_formation()\n",
    "        self.players = self.__set_players_position()\n",
    "    \n",
    "    def __flat_formation(self):\n",
    "        output = []\n",
    "        for _, value in self.formation.items():\n",
    "            output.extend(value)\n",
    "        return output\n",
    "    \n",
    "    def __set_players_position(self):\n",
    "        output = {}\n",
    "        for ff in self.formation_flat:\n",
    "            output[ff] = None\n",
    "        return output"
   ]
  },
  {
   "cell_type": "code",
   "execution_count": 14,
   "id": "e8404948",
   "metadata": {},
   "outputs": [],
   "source": [
    "name = \"3-4-3\"\n",
    "formation = {\"ATT\":[\"LW\", \"ST\", \"RW\"], \"MID\":[\"LM\", \"LCM\", \"RCM\", \"RM\"], \"DFE\":[\"LCB\", \"CB\", \"RCB\"]}\n",
    "formation_priority = [\"ST\", \"CB\", \"LCM\", \"RCM\", \"LCB\", \"RCB\", \"LW\", \"RW\", \"LM\", \"RM\"]\n",
    "\n",
    "_343 = Formation(name=name,\n",
    "                 formation=formation,\n",
    "                 formation_priority=formation_priority)"
   ]
  },
  {
   "cell_type": "code",
   "execution_count": 15,
   "id": "faf0bc9c",
   "metadata": {},
   "outputs": [
    {
     "data": {
      "text/plain": [
       "{'LW': None,\n",
       " 'ST': None,\n",
       " 'RW': None,\n",
       " 'LM': None,\n",
       " 'LCM': None,\n",
       " 'RCM': None,\n",
       " 'RM': None,\n",
       " 'LCB': None,\n",
       " 'CB': None,\n",
       " 'RCB': None}"
      ]
     },
     "execution_count": 15,
     "metadata": {},
     "output_type": "execute_result"
    }
   ],
   "source": [
    "_343.players"
   ]
  },
  {
   "cell_type": "code",
   "execution_count": 13,
   "id": "02cb6b44",
   "metadata": {},
   "outputs": [],
   "source": [
    "name = \"3-4-3\"\n",
    "formation = [\"LW\", \"ST\", \"RW\", \"LM\", \"LCM\", \"RCM\", \"RM\", \"LCB\", \"CB\", \"RCB\", \"GK\"]\n",
    "\n",
    "_343 = Formation(name=name, formation=formation)"
   ]
  },
  {
   "cell_type": "code",
   "execution_count": 14,
   "id": "3f18059c",
   "metadata": {},
   "outputs": [
    {
     "data": {
      "text/plain": [
       "{'LW': None,\n",
       " 'ST': None,\n",
       " 'RW': None,\n",
       " 'LM': None,\n",
       " 'LCM': None,\n",
       " 'RCM': None,\n",
       " 'RM': None,\n",
       " 'LCB': None,\n",
       " 'CB': None,\n",
       " 'RCB': None,\n",
       " 'GK': None}"
      ]
     },
     "execution_count": 14,
     "metadata": {},
     "output_type": "execute_result"
    }
   ],
   "source": [
    "_343.players"
   ]
  },
  {
   "cell_type": "code",
   "execution_count": null,
   "id": "8ddf54f2",
   "metadata": {},
   "outputs": [],
   "source": []
  }
 ],
 "metadata": {
  "kernelspec": {
   "display_name": "Python 3 (ipykernel)",
   "language": "python",
   "name": "python3"
  },
  "language_info": {
   "codemirror_mode": {
    "name": "ipython",
    "version": 3
   },
   "file_extension": ".py",
   "mimetype": "text/x-python",
   "name": "python",
   "nbconvert_exporter": "python",
   "pygments_lexer": "ipython3",
   "version": "3.8.10"
  }
 },
 "nbformat": 4,
 "nbformat_minor": 5
}
