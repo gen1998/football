{
 "cells": [
  {
   "cell_type": "code",
   "execution_count": 1,
   "id": "b22f5d15",
   "metadata": {},
   "outputs": [],
   "source": [
    "import numpy as np\n",
    "import pandas as pd\n",
    "import matplotlib.pyplot as plt\n",
    "\n",
    "pd.set_option('display.max_rows', 80)\n",
    "\n",
    "import random\n",
    "\n",
    "import time\n",
    "\n",
    "import sys\n",
    "sys.path.append(\"../\")\n",
    "\n",
    "from src.object import *\n",
    "from src.create import *\n",
    "\n",
    "from config.formation import *\n",
    "\n",
    "from IPython.core.interactiveshell import InteractiveShell\n",
    "InteractiveShell.ast_node_interactivity = \"all\""
   ]
  },
  {
   "cell_type": "code",
   "execution_count": 2,
   "id": "aca9eb8b",
   "metadata": {},
   "outputs": [],
   "source": [
    "df_name = pd.read_csv(\"../data/csv/NationalNames.csv\")\n",
    "df_name_list = list(df_name[df_name.Gender=='M'].Name.sample(500))"
   ]
  },
  {
   "cell_type": "code",
   "execution_count": 3,
   "id": "73074b30",
   "metadata": {},
   "outputs": [],
   "source": [
    "df_place = pd.read_csv(\"../data/csv/results.csv\")\n",
    "df_place = df_place.city.unique()"
   ]
  },
  {
   "cell_type": "code",
   "execution_count": 4,
   "id": "650e15bb",
   "metadata": {},
   "outputs": [],
   "source": [
    "league_team = []\n",
    "\n",
    "for i in range(20):\n",
    "    min_rate = np.random.randint(70, 78)\n",
    "    max_rate = min_rate + 15\n",
    "    players = random_create_players(27, 3, min_rate, max_rate, df_name_list)\n",
    "    formation = random_create_formation()\n",
    "    A = Team(name=df_place[i], \n",
    "             formation=formation,\n",
    "             min_rate=min_rate)\n",
    "    A.affilation_players = players\n",
    "    \n",
    "    league_team.append(A)\n",
    "\n",
    "L1 = League(name=\"premia\", \n",
    "            teams=league_team,\n",
    "            num=20,\n",
    "            category='top',\n",
    "            relegation_num=3)"
   ]
  },
  {
   "cell_type": "code",
   "execution_count": 5,
   "id": "ab48437c",
   "metadata": {},
   "outputs": [],
   "source": [
    "for t in league_team:\n",
    "    for p in t.affilation_players:\n",
    "        p.consider_retirement()"
   ]
  },
  {
   "cell_type": "code",
   "execution_count": 6,
   "id": "c5f65983",
   "metadata": {},
   "outputs": [],
   "source": [
    "def change_players(team, df_name_list):\n",
    "    retire_player = [p for p in team.affilation_players if p.retire==1]\n",
    "    \n",
    "    num_gk = len([p for p in retire_player if p.main_position==\"GK\"])\n",
    "    num_fieldplayer = len(retire_player) - num_gk\n",
    "    \n",
    "    # チームから外す あとあとそれぞれの人間についてチームから外す操作を付け加えたい\n",
    "    team.affilation_players = [p for p in team.affilation_players if p not in retire_player]\n",
    "    \n",
    "    new_players = random_create_players(num_fieldplayer, num_gk, team.min_rate, team.min_rate+15, df_name_list, 20)\n",
    "    \n",
    "    team.affilation_players.extend(new_players)"
   ]
  },
  {
   "cell_type": "code",
   "execution_count": 13,
   "id": "2b52e3a5",
   "metadata": {},
   "outputs": [
    {
     "name": "stdout",
     "output_type": "stream",
     "text": [
      "6 1\n"
     ]
    }
   ],
   "source": [
    "change_players(league_team[7], df_name_list)"
   ]
  },
  {
   "cell_type": "code",
   "execution_count": 14,
   "id": "f4eb3b14",
   "metadata": {},
   "outputs": [
    {
     "data": {
      "text/plain": [
       "[<src.object.FieldPlayer at 0x7f8d5e1e7790>,\n",
       " <src.object.FieldPlayer at 0x7f8d5e1e7760>,\n",
       " <src.object.FieldPlayer at 0x7f8d5e1e7a90>,\n",
       " <src.object.FieldPlayer at 0x7f8d5e1e7850>,\n",
       " <src.object.FieldPlayer at 0x7f8d5e1e78b0>,\n",
       " <src.object.FieldPlayer at 0x7f8d5e1e7880>,\n",
       " <src.object.FieldPlayer at 0x7f8d5e1e7ac0>,\n",
       " <src.object.FieldPlayer at 0x7f8d5e1e7d00>,\n",
       " <src.object.FieldPlayer at 0x7f8d5e1e7c10>,\n",
       " <src.object.FieldPlayer at 0x7f8d5e1e7d60>,\n",
       " <src.object.FieldPlayer at 0x7f8d5e1e7dc0>,\n",
       " <src.object.FieldPlayer at 0x7f8d5e1e7e20>,\n",
       " <src.object.FieldPlayer at 0x7f8d5e1e7ee0>,\n",
       " <src.object.FieldPlayer at 0x7f8d5e1e7f40>,\n",
       " <src.object.FieldPlayer at 0x7f8d5e1e7fa0>,\n",
       " <src.object.FieldPlayer at 0x7f8d5e152070>,\n",
       " <src.object.FieldPlayer at 0x7f8d5e152040>,\n",
       " <src.object.FieldPlayer at 0x7f8d5e152160>,\n",
       " <src.object.FieldPlayer at 0x7f8d5e1521c0>,\n",
       " <src.object.FieldPlayer at 0x7f8d5e152280>,\n",
       " <src.object.FieldPlayer at 0x7f8d5e152220>,\n",
       " <src.object.GK at 0x7f8d5e1523a0>,\n",
       " <src.object.GK at 0x7f8d5e152400>,\n",
       " <src.object.FieldPlayer at 0x7f8d5e0da0d0>,\n",
       " <src.object.FieldPlayer at 0x7f8d5e1e7250>,\n",
       " <src.object.FieldPlayer at 0x7f8d5e1e7340>,\n",
       " <src.object.FieldPlayer at 0x7f8d5e1e7220>,\n",
       " <src.object.FieldPlayer at 0x7f8d5e1db400>,\n",
       " <src.object.FieldPlayer at 0x7f8d5e1db040>,\n",
       " <src.object.GK at 0x7f8d5e1db160>]"
      ]
     },
     "execution_count": 14,
     "metadata": {},
     "output_type": "execute_result"
    }
   ],
   "source": [
    "league_team[7].affilation_players"
   ]
  },
  {
   "cell_type": "code",
   "execution_count": null,
   "id": "a807f309",
   "metadata": {},
   "outputs": [],
   "source": []
  }
 ],
 "metadata": {
  "kernelspec": {
   "display_name": "Python 3 (ipykernel)",
   "language": "python",
   "name": "python3"
  },
  "language_info": {
   "codemirror_mode": {
    "name": "ipython",
    "version": 3
   },
   "file_extension": ".py",
   "mimetype": "text/x-python",
   "name": "python",
   "nbconvert_exporter": "python",
   "pygments_lexer": "ipython3",
   "version": "3.8.10"
  }
 },
 "nbformat": 4,
 "nbformat_minor": 5
}
