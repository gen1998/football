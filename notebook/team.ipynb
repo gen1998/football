{
 "cells": [
  {
   "cell_type": "code",
   "execution_count": 1,
   "id": "1899ad89",
   "metadata": {},
   "outputs": [],
   "source": [
    "import numpy as np\n",
    "import pandas as pd\n",
    "\n",
    "import sys\n",
    "sys.path.append(\"../\")\n",
    "\n",
    "from src.object import *\n",
    "from src.config import *\n",
    "from src.create import *"
   ]
  },
  {
   "cell_type": "code",
   "execution_count": 2,
   "id": "a382d48a",
   "metadata": {},
   "outputs": [],
   "source": [
    "df_name = pd.read_csv(\"../data/csv/NationalNames.csv\")\n",
    "df_name_list = list(df_name[df_name.Gender=='M'].Name.sample(500))"
   ]
  },
  {
   "cell_type": "code",
   "execution_count": 3,
   "id": "000bda85",
   "metadata": {},
   "outputs": [],
   "source": [
    "class Formation:\n",
    "    def __init__(self, name, formation, formation_priority, formation_num):\n",
    "        self.name = name\n",
    "        self.formation = formation\n",
    "        self.formation_priority = formation_priority\n",
    "        self.formation_num = formation_num\n",
    "        self.formation_flat = self.__flat_formation()\n",
    "        self.players = self.__set_players_position()\n",
    "    \n",
    "    def __flat_formation(self):\n",
    "        output = []\n",
    "        for _, value in self.formation.items():\n",
    "            output.extend(value)\n",
    "        output.append(\"GK\")\n",
    "        return output\n",
    "    \n",
    "    def __set_players_position(self):\n",
    "        output = {}\n",
    "        for ff in self.formation_flat:\n",
    "            output[ff] = []\n",
    "        output[\"GK\"] = []\n",
    "        return output\n",
    "    \n",
    "    def print_formation(self):\n",
    "        for pos in self.formation_flat:\n",
    "            player = self.players[pos]\n",
    "            if pos == \"GK\":\n",
    "                player = player[0]\n",
    "                print(player.name, '  Rate:', player.main_rate, '(', player.main_position, ')')\n",
    "                print('-'*25)\n",
    "                print('  DIV ', player.diving, '  REF ', player.reflexes)\n",
    "                print('  HAN ', player.handling, '  SPE ', player.speed)\n",
    "                print('  KIC ', player.kicking, '  POS ', player.positioning)\n",
    "                print()\n",
    "            else:\n",
    "                for player_ in player:\n",
    "                    print(player_.name, '  Rate:', player_.position_all_rate[player_.partification_position], '(', player_.partification_position, ')')\n",
    "                    print('-'*25)\n",
    "                    print('  PAC ', player_.pace, '  DRI ', player_.dribbling)\n",
    "                    print('  SHO ', player_.shooting, '  DEF ', player_.defending)\n",
    "                    print('  PAS ', player_.passing, '  PHY ', player_.physicality)\n",
    "                    print()"
   ]
  },
  {
   "cell_type": "code",
   "execution_count": 4,
   "id": "bb9ca6ee",
   "metadata": {},
   "outputs": [],
   "source": [
    "class Team:\n",
    "    def __init__(self, name, formation):\n",
    "        self.name = name\n",
    "        self.formation = formation\n",
    "    \n",
    "    def set_all_players(self, players):\n",
    "        self.affilation_players = players\n",
    "        output = pd.DataFrame(columns=ALL_POSITON)\n",
    "        output_gk = pd.DataFrame(columns=[\"GK\"])\n",
    "\n",
    "        for i, p in enumerate(self.affilation_players):\n",
    "            if p.main_position!=\"GK\":\n",
    "                df = p.position_all_rate\n",
    "                output = pd.concat([output, pd.DataFrame(np.array(list(df.values())).reshape(1, -1), columns=df.keys(), index=[i])])\n",
    "            else:\n",
    "                output_gk = pd.concat([output_gk, pd.DataFrame([p.main_rate], columns=[\"GK\"], index=[i])])\n",
    "        output[\"partification\"] = 0\n",
    "        self.affilation_players_all_rate = output\n",
    "        self.affilation_players_gk_rate = output_gk\n",
    "    \n",
    "    def set_starting_players(self):\n",
    "        for fp in self.formation.formation_priority:\n",
    "            select_num = self.formation.formation_num[fp]\n",
    "            df = self.affilation_players_all_rate[self.affilation_players_all_rate.partification==0]\n",
    "            select_index = df.sort_values(fp, ascending=False).index.values[:select_num]\n",
    "            self.affilation_players_all_rate.loc[select_index, \"partification\"] = 1\n",
    "            \n",
    "            for index in select_index:\n",
    "                self.affilation_players[index].partification = 1\n",
    "                self.affilation_players[index].partification_position = fp\n",
    "                self.formation.players[fp].append(self.affilation_players[index])\n",
    "        \n",
    "        gk_index = self.affilation_players_gk_rate.sort_values(\"GK\", ascending=False).index.values[0]\n",
    "        self.formation.players[\"GK\"].append(self.affilation_players[gk_index])"
   ]
  },
  {
   "cell_type": "code",
   "execution_count": 5,
   "id": "d0b29992",
   "metadata": {},
   "outputs": [],
   "source": [
    "name = \"3-4-3\"\n",
    "formation = {\"ATT\":[\"LW\", \"ST\", \"RW\"], \"MID\":[\"LM\", \"CM\", \"RM\"], \"DEF\":[\"CB\"]}\n",
    "formation_priority = [\"ST\", \"CB\", \"CM\", \"LW\", \"RW\", \"LM\", \"RM\"]\n",
    "formation_num = {\"ST\":1, \"CB\":3, \"CM\":2, \"LW\":1, \"RW\":1, \"LM\":1, \"RM\":1}\n",
    "\n",
    "_343 = Formation(name=name,\n",
    "                 formation=formation,\n",
    "                 formation_priority=formation_priority,\n",
    "                 formation_num=formation_num)"
   ]
  },
  {
   "cell_type": "code",
   "execution_count": 6,
   "id": "d0190030",
   "metadata": {},
   "outputs": [],
   "source": [
    "players = random_create_players(27, 3, 78, 95, df_name_list)\n",
    "spurs = Team(name=\"Spurs\", formation=_343)"
   ]
  },
  {
   "cell_type": "code",
   "execution_count": 7,
   "id": "932540de",
   "metadata": {},
   "outputs": [],
   "source": [
    "spurs.set_all_players(players)\n",
    "spurs.set_starting_players()"
   ]
  },
  {
   "cell_type": "code",
   "execution_count": 9,
   "id": "d1c573dc",
   "metadata": {
    "scrolled": false
   },
   "outputs": [
    {
     "name": "stdout",
     "output_type": "stream",
     "text": [
      "Mabel   Rate: 88 ( LW )\n",
      "-------------------------\n",
      "  PAC  92   DRI  93\n",
      "  SHO  55   DEF  49\n",
      "  PAS  68   PHY  68\n",
      "\n",
      "Gleen   Rate: 82 ( ST )\n",
      "-------------------------\n",
      "  PAC  67   DRI  61\n",
      "  SHO  82   DEF  53\n",
      "  PAS  46   PHY  76\n",
      "\n",
      "Uthman   Rate: 81 ( RW )\n",
      "-------------------------\n",
      "  PAC  79   DRI  87\n",
      "  SHO  61   DEF  65\n",
      "  PAS  69   PHY  64\n",
      "\n",
      "Jayvin   Rate: 76 ( LM )\n",
      "-------------------------\n",
      "  PAC  84   DRI  71\n",
      "  SHO  73   DEF  62\n",
      "  PAS  72   PHY  80\n",
      "\n",
      "Sisto   Rate: 79 ( CM )\n",
      "-------------------------\n",
      "  PAC  62   DRI  64\n",
      "  SHO  65   DEF  72\n",
      "  PAS  84   PHY  80\n",
      "\n",
      "Gilles   Rate: 78 ( CM )\n",
      "-------------------------\n",
      "  PAC  65   DRI  56\n",
      "  SHO  58   DEF  61\n",
      "  PAS  88   PHY  76\n",
      "\n",
      "Anders   Rate: 74 ( RM )\n",
      "-------------------------\n",
      "  PAC  66   DRI  65\n",
      "  SHO  83   DEF  50\n",
      "  PAS  78   PHY  66\n",
      "\n",
      "Frederico   Rate: 88 ( CB )\n",
      "-------------------------\n",
      "  PAC  50   DRI  61\n",
      "  SHO  46   DEF  89\n",
      "  PAS  49   PHY  86\n",
      "\n",
      "Tonny   Rate: 83 ( CB )\n",
      "-------------------------\n",
      "  PAC  70   DRI  62\n",
      "  SHO  57   DEF  80\n",
      "  PAS  59   PHY  86\n",
      "\n",
      "Dewie   Rate: 82 ( CB )\n",
      "-------------------------\n",
      "  PAC  69   DRI  41\n",
      "  SHO  56   DEF  81\n",
      "  PAS  63   PHY  77\n",
      "\n",
      "Ancel   Rate: 88 ( GK )\n",
      "-------------------------\n",
      "  DIV  84   REF  90\n",
      "  HAN  83   SPE  68\n",
      "  KIC  66   POS  93\n",
      "\n"
     ]
    }
   ],
   "source": [
    "spurs.formation.print_formation()"
   ]
  },
  {
   "cell_type": "code",
   "execution_count": null,
   "id": "e6c548c4",
   "metadata": {},
   "outputs": [],
   "source": [
    "spurs.formation.players[\"ST\"][0]"
   ]
  },
  {
   "cell_type": "code",
   "execution_count": null,
   "id": "71592697",
   "metadata": {},
   "outputs": [],
   "source": [
    "pd.DataFrame([70], columns=[\"GK\"], index=[3])"
   ]
  },
  {
   "cell_type": "code",
   "execution_count": null,
   "id": "32eb02c1",
   "metadata": {},
   "outputs": [],
   "source": []
  }
 ],
 "metadata": {
  "kernelspec": {
   "display_name": "Python 3 (ipykernel)",
   "language": "python",
   "name": "python3"
  },
  "language_info": {
   "codemirror_mode": {
    "name": "ipython",
    "version": 3
   },
   "file_extension": ".py",
   "mimetype": "text/x-python",
   "name": "python",
   "nbconvert_exporter": "python",
   "pygments_lexer": "ipython3",
   "version": "3.8.10"
  }
 },
 "nbformat": 4,
 "nbformat_minor": 5
}
