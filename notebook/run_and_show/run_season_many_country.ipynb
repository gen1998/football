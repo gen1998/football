{
 "cells": [
  {
   "cell_type": "code",
   "execution_count": 1,
   "id": "b135d3a6",
   "metadata": {},
   "outputs": [],
   "source": [
    "import numpy as np\n",
    "import pandas as pd\n",
    "import math\n",
    "\n",
    "pd.set_option('display.max_rows', 80)\n",
    "\n",
    "import random\n",
    "import time\n",
    "import pickle\n",
    "\n",
    "import sys\n",
    "sys.path.append(\"../../\")\n",
    "\n",
    "from src.object import *\n",
    "from src.create import *\n",
    "from src.print_result import *\n",
    "\n",
    "from config.formation import *\n",
    "from config.config import *"
   ]
  },
  {
   "cell_type": "code",
   "execution_count": 2,
   "id": "8ca6d351",
   "metadata": {},
   "outputs": [],
   "source": [
    "df_name = pd.read_csv(\"../../data/csv/NationalNames.csv\")\n",
    "df_name_list = list(df_name[df_name.Gender=='M'].Name.sample(10000))"
   ]
  },
  {
   "cell_type": "code",
   "execution_count": 3,
   "id": "0395a2bf",
   "metadata": {},
   "outputs": [],
   "source": [
    "team_names = pd.read_excel(\"../../data/excel/team_name.xlsx\")"
   ]
  },
  {
   "cell_type": "code",
   "execution_count": 4,
   "id": "efc2de46",
   "metadata": {},
   "outputs": [],
   "source": [
    "#イングランド\n",
    "teams = create_team(20, team_names[\"premier\"].values, df_name_list,\n",
    "                    mean_rate=65, min_rate=72)\n",
    "E1 = League(name=\"Premier\", teams=teams,\n",
    "            league_level=1,\n",
    "            num=20, min_rate=75, max_rate=99, mean_rate=65,\n",
    "            category='top', relegation_num=3)\n",
    "\n",
    "teams = create_team(20, team_names['Championship'].values, df_name_list,\n",
    "                    mean_rate=64, min_rate=58, max_rate=77, age_mean=26)\n",
    "E2 = League(name=\"Championship\", teams=teams,\n",
    "            league_level=2,\n",
    "            num=20, min_rate=58, max_rate=77, mean_rate=64,\n",
    "            category='middle', relegation_num=3, promotion_num=3)\n",
    "\n",
    "teams = create_team(20, team_names['EFL1'].values, df_name_list,\n",
    "                    mean_rate=63, min_rate=47, max_rate=71, age_mean=25)\n",
    "E3 = League(name=\"EFL1\", teams=teams,\n",
    "            league_level=3,\n",
    "            num=20, min_rate=47, max_rate=71, mean_rate=63,\n",
    "            category='lowest', promotion_num=3)\n",
    "\n",
    "England = CountryLeague(name=\"England\", leagues=[E1, E2, E3], competition_name=\"FA杯\")"
   ]
  },
  {
   "cell_type": "code",
   "execution_count": 5,
   "id": "e605ffc1",
   "metadata": {},
   "outputs": [],
   "source": [
    "#スペイン\n",
    "teams = create_team(20, team_names[\"LaLiga\"].values, df_name_list,\n",
    "                    mean_rate=65, min_rate=72)\n",
    "S1 = League(name=\"La Liga Santander\", teams=teams,\n",
    "            league_level=1,\n",
    "            num=20, min_rate=75, max_rate=99, mean_rate=65,\n",
    "            category='top', relegation_num=3)\n",
    "\n",
    "teams = create_team(20, team_names['smartbank'].values, df_name_list,\n",
    "                    mean_rate=64, min_rate=58, max_rate=77, age_mean=26)\n",
    "S2 = League(name=\"La Liga SmartBank\", teams=teams,\n",
    "            league_level=2,\n",
    "            num=20, min_rate=58, max_rate=77, mean_rate=64,\n",
    "            category='middle', relegation_num=3, promotion_num=3)\n",
    "\n",
    "teams = create_team(20, team_names['primera'].values, df_name_list,\n",
    "                    mean_rate=63, min_rate=47, max_rate=71, age_mean=25)\n",
    "S3 = League(name=\"Primera Division RFEF\", teams=teams,\n",
    "            league_level=3,\n",
    "            num=20, min_rate=47, max_rate=71, mean_rate=63,\n",
    "            category='lowest', promotion_num=3)\n",
    "\n",
    "Spain = CountryLeague(name=\"Spain\", leagues=[S1, S2, S3], competition_name=\"カラバオ杯\")"
   ]
  },
  {
   "cell_type": "code",
   "execution_count": 6,
   "id": "e3931880",
   "metadata": {},
   "outputs": [],
   "source": [
    "#ドイツ\n",
    "teams = create_team(20, team_names[\"Bundesliga\"].values, df_name_list,\n",
    "                    mean_rate=65, min_rate=72)\n",
    "G1 = League(name=\"Bundesliga\", teams=teams,\n",
    "            league_level=1,\n",
    "            num=20, min_rate=75, max_rate=99, mean_rate=65,\n",
    "            category='top', relegation_num=3)\n",
    "\n",
    "teams = create_team(20, team_names['2bundesliga'].values, df_name_list,\n",
    "                    mean_rate=64, min_rate=58, max_rate=77, age_mean=26)\n",
    "G2 = League(name=\"2.Bundesliga\", teams=teams,\n",
    "            league_level=2,\n",
    "            num=20, min_rate=68, max_rate=77, mean_rate=64,\n",
    "            category='middle', relegation_num=3, promotion_num=3)\n",
    "\n",
    "teams = create_team(20, team_names['3bundesliga'].values, df_name_list,\n",
    "                    mean_rate=63, min_rate=47, max_rate=71, age_mean=25)\n",
    "G3 = League(name=\"3.Bundeliga\", teams=teams,\n",
    "            league_level=3,\n",
    "            num=20, min_rate=47, max_rate=71, mean_rate=63,\n",
    "            category='lowest', promotion_num=3)\n",
    "\n",
    "Germany = CountryLeague(name=\"Germany\", leagues=[G1, G2, G3], competition_name=\"DFBポカール\")"
   ]
  },
  {
   "cell_type": "code",
   "execution_count": 7,
   "id": "554f2688",
   "metadata": {},
   "outputs": [],
   "source": [
    "#フランス\n",
    "teams = create_team(20, team_names[\"Ligue1\"].values, df_name_list,\n",
    "                    mean_rate=65, min_rate=72)\n",
    "F1 = League(name=\"Ligue1\", teams=teams,\n",
    "            league_level=1,\n",
    "            num=20, min_rate=75, max_rate=99, mean_rate=65,\n",
    "            category='top', relegation_num=3)\n",
    "\n",
    "teams = create_team(20, team_names['Ligue2'].values, df_name_list,\n",
    "                    mean_rate=64, min_rate=58, max_rate=77, age_mean=26)\n",
    "F2 = League(name=\"Ligue2\", teams=teams,\n",
    "            league_level=2,\n",
    "            num=20, min_rate=58, max_rate=77, mean_rate=64,\n",
    "            category='middle', relegation_num=3, promotion_num=3)\n",
    "\n",
    "teams = create_team(20, team_names['Ligue3'].values, df_name_list,\n",
    "                    mean_rate=63, min_rate=47, max_rate=71, age_mean=25)\n",
    "F3 = League(name=\"Ligue3\", teams=teams,\n",
    "            league_level=3,\n",
    "            num=20, min_rate=47, max_rate=71, mean_rate=63,\n",
    "            category='lowest', promotion_num=3)\n",
    "\n",
    "France = CountryLeague(name=\"France\", leagues=[F1, F2, F3], competition_name=\"クープ・デュ・フランス\")"
   ]
  },
  {
   "cell_type": "code",
   "execution_count": 8,
   "id": "72919fe0",
   "metadata": {},
   "outputs": [],
   "source": [
    "#イタリア\n",
    "teams = create_team(20, team_names[\"SerieA\"].values, df_name_list,\n",
    "                    mean_rate=65, min_rate=72)\n",
    "I1 = League(name=\"SerieA\", teams=teams,\n",
    "            league_level=1,\n",
    "            num=20, min_rate=75, max_rate=99, mean_rate=65,\n",
    "            category='top', relegation_num=3)\n",
    "\n",
    "teams = create_team(20, team_names['SerieB'].values, df_name_list,\n",
    "                    mean_rate=64, min_rate=58, max_rate=77, age_mean=26)\n",
    "I2 = League(name=\"SerieB\", teams=teams,\n",
    "            league_level=2,\n",
    "            num=20, min_rate=58, max_rate=77, mean_rate=64,\n",
    "            category='middle', relegation_num=3, promotion_num=3)\n",
    "\n",
    "teams = create_team(20, team_names['SerieC'].values, df_name_list,\n",
    "                    mean_rate=63, min_rate=47, max_rate=71, age_mean=25)\n",
    "I3 = League(name=\"SerieC\", teams=teams,\n",
    "            league_level=3,\n",
    "            num=20, min_rate=47, max_rate=71, mean_rate=63,\n",
    "            category='lowest', promotion_num=3)\n",
    "\n",
    "Italy = CountryLeague(name=\"Italy\", leagues=[I1, I2, I3], competition_name=\"コパ・イタリア\")"
   ]
  },
  {
   "cell_type": "code",
   "execution_count": 9,
   "id": "73cdf29a",
   "metadata": {},
   "outputs": [],
   "source": [
    "#ポルトガル\n",
    "teams = create_team(20, team_names[\"LigaPortugal\"].values, df_name_list,\n",
    "                    mean_rate=64, min_rate=66)\n",
    "P1 = League(name=\"Liga Portugal\", teams=teams,\n",
    "            league_level=2,\n",
    "            num=20, min_rate=66, max_rate=81, mean_rate=64,\n",
    "            category='top', relegation_num=3)\n",
    "\n",
    "teams = create_team(20, team_names['LigaPortugal2'].values, df_name_list,\n",
    "                    mean_rate=63, min_rate=43, max_rate=74, age_mean=25)\n",
    "P2 = League(name=\"Liga Portugal2\", teams=teams,\n",
    "            league_level=3,\n",
    "            num=20, min_rate=43, max_rate=74, mean_rate=63,\n",
    "            category='lowest', promotion_num=3)\n",
    "\n",
    "Portugal = CountryLeague(name=\"Portugal\", leagues=[P1, P2], competition_name=\"ポルトガル杯\")"
   ]
  },
  {
   "cell_type": "code",
   "execution_count": 10,
   "id": "fdad1fb2",
   "metadata": {},
   "outputs": [],
   "source": [
    "#ベルギー\n",
    "teams = create_team(20, team_names[\"ProLeague\"].values, df_name_list,\n",
    "                    mean_rate=64, min_rate=66)\n",
    "Be1 = League(name=\"Pro League\", teams=teams,\n",
    "             league_level=2,\n",
    "            num=20, min_rate=66, max_rate=79, mean_rate=64,\n",
    "            category='top', relegation_num=3)\n",
    "\n",
    "teams = create_team(20, team_names['ChallengerProLeague'].values, df_name_list,\n",
    "                    mean_rate=63, min_rate=43, max_rate=71, age_mean=25)\n",
    "Be2 = League(name=\"ChallengerProLeague\", teams=teams,\n",
    "             league_level=3,\n",
    "            num=20, min_rate=43, max_rate=71, mean_rate=63,\n",
    "            category='lowest', promotion_num=3)\n",
    "\n",
    "Belgium = CountryLeague(name=\"Belgium\", leagues=[Be1, Be2], competition_name=\"ベルギー杯\")"
   ]
  },
  {
   "cell_type": "code",
   "execution_count": 11,
   "id": "93a0af17",
   "metadata": {
    "scrolled": true
   },
   "outputs": [
    {
     "name": "stdout",
     "output_type": "stream",
     "text": [
      "2000\n"
     ]
    },
    {
     "name": "stderr",
     "output_type": "stream",
     "text": [
      "100%|███████████████████████████████████████████████████████████████████████████████████| 38/38 [00:38<00:00,  1.03s/it]\n"
     ]
    },
    {
     "name": "stdout",
     "output_type": "stream",
     "text": [
      "オフシーズン\n",
      "------------------------------\n",
      " 引退人数   　:  653\n",
      " 移籍市場人数 :  3036\n",
      "2001\n"
     ]
    },
    {
     "name": "stderr",
     "output_type": "stream",
     "text": [
      "100%|███████████████████████████████████████████████████████████████████████████████████| 38/38 [00:39<00:00,  1.03s/it]\n"
     ]
    },
    {
     "name": "stdout",
     "output_type": "stream",
     "text": [
      "オフシーズン\n",
      "------------------------------\n",
      " 引退人数   　:  584\n",
      " 移籍市場人数 :  4218\n",
      "2002\n"
     ]
    },
    {
     "name": "stderr",
     "output_type": "stream",
     "text": [
      "100%|███████████████████████████████████████████████████████████████████████████████████| 38/38 [00:40<00:00,  1.06s/it]\n"
     ]
    },
    {
     "name": "stdout",
     "output_type": "stream",
     "text": [
      "オフシーズン\n",
      "------------------------------\n",
      " 引退人数   　:  757\n",
      " 移籍市場人数 :  5791\n",
      "2003\n"
     ]
    },
    {
     "name": "stderr",
     "output_type": "stream",
     "text": [
      "100%|███████████████████████████████████████████████████████████████████████████████████| 38/38 [00:41<00:00,  1.10s/it]\n"
     ]
    },
    {
     "name": "stdout",
     "output_type": "stream",
     "text": [
      "オフシーズン\n",
      "------------------------------\n",
      " 引退人数   　:  765\n",
      " 移籍市場人数 :  7227\n",
      "2004\n"
     ]
    },
    {
     "name": "stderr",
     "output_type": "stream",
     "text": [
      "100%|███████████████████████████████████████████████████████████████████████████████████| 38/38 [00:41<00:00,  1.09s/it]\n"
     ]
    },
    {
     "name": "stdout",
     "output_type": "stream",
     "text": [
      "オフシーズン\n",
      "------------------------------\n",
      " 引退人数   　:  902\n",
      " 移籍市場人数 :  7670\n",
      "2005\n"
     ]
    },
    {
     "name": "stderr",
     "output_type": "stream",
     "text": [
      "100%|███████████████████████████████████████████████████████████████████████████████████| 38/38 [00:40<00:00,  1.08s/it]\n"
     ]
    },
    {
     "name": "stdout",
     "output_type": "stream",
     "text": [
      "オフシーズン\n",
      "------------------------------\n",
      " 引退人数   　:  830\n",
      " 移籍市場人数 :  7919\n",
      "2006\n"
     ]
    },
    {
     "name": "stderr",
     "output_type": "stream",
     "text": [
      "100%|███████████████████████████████████████████████████████████████████████████████████| 38/38 [00:41<00:00,  1.10s/it]\n"
     ]
    },
    {
     "name": "stdout",
     "output_type": "stream",
     "text": [
      "オフシーズン\n",
      "------------------------------\n",
      " 引退人数   　:  1030\n",
      " 移籍市場人数 :  7852\n",
      "2007\n"
     ]
    },
    {
     "name": "stderr",
     "output_type": "stream",
     "text": [
      "100%|███████████████████████████████████████████████████████████████████████████████████| 38/38 [00:42<00:00,  1.11s/it]\n"
     ]
    },
    {
     "name": "stdout",
     "output_type": "stream",
     "text": [
      "オフシーズン\n",
      "------------------------------\n",
      " 引退人数   　:  1004\n",
      " 移籍市場人数 :  7821\n",
      "2008\n"
     ]
    },
    {
     "name": "stderr",
     "output_type": "stream",
     "text": [
      "100%|███████████████████████████████████████████████████████████████████████████████████| 38/38 [00:41<00:00,  1.10s/it]\n"
     ]
    },
    {
     "name": "stdout",
     "output_type": "stream",
     "text": [
      "オフシーズン\n",
      "------------------------------\n",
      " 引退人数   　:  948\n",
      " 移籍市場人数 :  7684\n",
      "2009\n"
     ]
    },
    {
     "name": "stderr",
     "output_type": "stream",
     "text": [
      " 63%|████████████████████████████████████████████████████▍                              | 24/38 [00:26<00:14,  1.03s/it]/home/takagi/program/game/football/notebook/run_and_show/../../src/object.py:109: RuntimeWarning: invalid value encountered in byte_scalars\n",
      "  random_rating = (self.position_all_rate[self.partification_position]-min_rate)/(max_rate-min_rate)*self.today_playing_time/all_time*min(np.random.normal(0.7, 0.2), 1.0)\n",
      "100%|███████████████████████████████████████████████████████████████████████████████████| 38/38 [00:41<00:00,  1.10s/it]\n"
     ]
    },
    {
     "name": "stdout",
     "output_type": "stream",
     "text": [
      "オフシーズン\n",
      "------------------------------\n",
      " 引退人数   　:  933\n",
      " 移籍市場人数 :  7927\n",
      "2010\n"
     ]
    },
    {
     "name": "stderr",
     "output_type": "stream",
     "text": [
      "100%|███████████████████████████████████████████████████████████████████████████████████| 38/38 [00:42<00:00,  1.11s/it]\n"
     ]
    },
    {
     "name": "stdout",
     "output_type": "stream",
     "text": [
      "オフシーズン\n",
      "------------------------------\n",
      " 引退人数   　:  1052\n",
      " 移籍市場人数 :  7360\n",
      "2011\n"
     ]
    },
    {
     "name": "stderr",
     "output_type": "stream",
     "text": [
      "  0%|                                                                                            | 0/38 [00:00<?, ?it/s]/home/takagi/program/game/football/notebook/run_and_show/../../src/object.py:109: RuntimeWarning: invalid value encountered in byte_scalars\n",
      "  random_rating = (self.position_all_rate[self.partification_position]-min_rate)/(max_rate-min_rate)*self.today_playing_time/all_time*min(np.random.normal(0.7, 0.2), 1.0)\n",
      " 18%|███████████████▍                                                                    | 7/38 [00:08<00:42,  1.39s/it]/home/takagi/program/game/football/notebook/run_and_show/../../src/object.py:109: RuntimeWarning: invalid value encountered in byte_scalars\n",
      "  random_rating = (self.position_all_rate[self.partification_position]-min_rate)/(max_rate-min_rate)*self.today_playing_time/all_time*min(np.random.normal(0.7, 0.2), 1.0)\n",
      " 55%|█████████████████████████████████████████████▊                                     | 21/38 [00:24<00:19,  1.15s/it]/home/takagi/program/game/football/notebook/run_and_show/../../src/object.py:109: RuntimeWarning: invalid value encountered in byte_scalars\n",
      "  random_rating = (self.position_all_rate[self.partification_position]-min_rate)/(max_rate-min_rate)*self.today_playing_time/all_time*min(np.random.normal(0.7, 0.2), 1.0)\n",
      " 63%|████████████████████████████████████████████████████▍                              | 24/38 [00:27<00:15,  1.07s/it]/home/takagi/program/game/football/notebook/run_and_show/../../src/object.py:109: RuntimeWarning: invalid value encountered in byte_scalars\n",
      "  random_rating = (self.position_all_rate[self.partification_position]-min_rate)/(max_rate-min_rate)*self.today_playing_time/all_time*min(np.random.normal(0.7, 0.2), 1.0)\n",
      " 79%|█████████████████████████████████████████████████████████████████▌                 | 30/38 [00:33<00:08,  1.06s/it]/home/takagi/program/game/football/notebook/run_and_show/../../src/object.py:109: RuntimeWarning: invalid value encountered in byte_scalars\n",
      "  random_rating = (self.position_all_rate[self.partification_position]-min_rate)/(max_rate-min_rate)*self.today_playing_time/all_time*min(np.random.normal(0.7, 0.2), 1.0)\n",
      "100%|███████████████████████████████████████████████████████████████████████████████████| 38/38 [00:42<00:00,  1.11s/it]\n"
     ]
    },
    {
     "name": "stdout",
     "output_type": "stream",
     "text": [
      "オフシーズン\n",
      "------------------------------\n",
      " 引退人数   　:  955\n",
      " 移籍市場人数 :  7368\n",
      "2012\n"
     ]
    },
    {
     "name": "stderr",
     "output_type": "stream",
     "text": [
      " 11%|████████▊                                                                           | 4/38 [00:04<00:35,  1.03s/it]/home/takagi/program/game/football/notebook/run_and_show/../../src/object.py:109: RuntimeWarning: invalid value encountered in byte_scalars\n",
      "  random_rating = (self.position_all_rate[self.partification_position]-min_rate)/(max_rate-min_rate)*self.today_playing_time/all_time*min(np.random.normal(0.7, 0.2), 1.0)\n",
      " 24%|███████████████████▉                                                                | 9/38 [00:10<00:34,  1.19s/it]/home/takagi/program/game/football/notebook/run_and_show/../../src/object.py:109: RuntimeWarning: invalid value encountered in byte_scalars\n",
      "  random_rating = (self.position_all_rate[self.partification_position]-min_rate)/(max_rate-min_rate)*self.today_playing_time/all_time*min(np.random.normal(0.7, 0.2), 1.0)\n",
      " 34%|████████████████████████████▍                                                      | 13/38 [00:15<00:31,  1.26s/it]/home/takagi/program/game/football/notebook/run_and_show/../../src/object.py:109: RuntimeWarning: invalid value encountered in byte_scalars\n",
      "  random_rating = (self.position_all_rate[self.partification_position]-min_rate)/(max_rate-min_rate)*self.today_playing_time/all_time*min(np.random.normal(0.7, 0.2), 1.0)\n",
      " 47%|███████████████████████████████████████▎                                           | 18/38 [00:20<00:20,  1.04s/it]/home/takagi/program/game/football/notebook/run_and_show/../../src/object.py:109: RuntimeWarning: invalid value encountered in byte_scalars\n",
      "  random_rating = (self.position_all_rate[self.partification_position]-min_rate)/(max_rate-min_rate)*self.today_playing_time/all_time*min(np.random.normal(0.7, 0.2), 1.0)\n",
      " 50%|█████████████████████████████████████████▌                                         | 19/38 [00:21<00:22,  1.20s/it]/home/takagi/program/game/football/notebook/run_and_show/../../src/object.py:109: RuntimeWarning: invalid value encountered in byte_scalars\n",
      "  random_rating = (self.position_all_rate[self.partification_position]-min_rate)/(max_rate-min_rate)*self.today_playing_time/all_time*min(np.random.normal(0.7, 0.2), 1.0)\n",
      " 66%|██████████████████████████████████████████████████████▌                            | 25/38 [00:28<00:14,  1.12s/it]/home/takagi/program/game/football/notebook/run_and_show/../../src/object.py:109: RuntimeWarning: invalid value encountered in byte_scalars\n",
      "  random_rating = (self.position_all_rate[self.partification_position]-min_rate)/(max_rate-min_rate)*self.today_playing_time/all_time*min(np.random.normal(0.7, 0.2), 1.0)\n",
      "100%|███████████████████████████████████████████████████████████████████████████████████| 38/38 [00:41<00:00,  1.10s/it]\n"
     ]
    },
    {
     "name": "stdout",
     "output_type": "stream",
     "text": [
      "オフシーズン\n",
      "------------------------------\n",
      " 引退人数   　:  988\n",
      " 移籍市場人数 :  7284\n",
      "2013\n"
     ]
    },
    {
     "name": "stderr",
     "output_type": "stream",
     "text": [
      "  0%|                                                                                            | 0/38 [00:00<?, ?it/s]/home/takagi/program/game/football/notebook/run_and_show/../../src/object.py:109: RuntimeWarning: invalid value encountered in byte_scalars\n",
      "  random_rating = (self.position_all_rate[self.partification_position]-min_rate)/(max_rate-min_rate)*self.today_playing_time/all_time*min(np.random.normal(0.7, 0.2), 1.0)\n",
      " 24%|███████████████████▉                                                                | 9/38 [00:10<00:35,  1.21s/it]/home/takagi/program/game/football/notebook/run_and_show/../../src/object.py:109: RuntimeWarning: invalid value encountered in byte_scalars\n",
      "  random_rating = (self.position_all_rate[self.partification_position]-min_rate)/(max_rate-min_rate)*self.today_playing_time/all_time*min(np.random.normal(0.7, 0.2), 1.0)\n",
      " 32%|██████████████████████████▏                                                        | 12/38 [00:13<00:28,  1.10s/it]/home/takagi/program/game/football/notebook/run_and_show/../../src/object.py:109: RuntimeWarning: invalid value encountered in byte_scalars\n",
      "  random_rating = (self.position_all_rate[self.partification_position]-min_rate)/(max_rate-min_rate)*self.today_playing_time/all_time*min(np.random.normal(0.7, 0.2), 1.0)\n",
      " 47%|███████████████████████████████████████▎                                           | 18/38 [00:20<00:21,  1.06s/it]/home/takagi/program/game/football/notebook/run_and_show/../../src/object.py:109: RuntimeWarning: invalid value encountered in byte_scalars\n",
      "  random_rating = (self.position_all_rate[self.partification_position]-min_rate)/(max_rate-min_rate)*self.today_playing_time/all_time*min(np.random.normal(0.7, 0.2), 1.0)\n",
      " 53%|███████████████████████████████████████████▋                                       | 20/38 [00:22<00:20,  1.13s/it]/home/takagi/program/game/football/notebook/run_and_show/../../src/object.py:109: RuntimeWarning: invalid value encountered in byte_scalars\n",
      "  random_rating = (self.position_all_rate[self.partification_position]-min_rate)/(max_rate-min_rate)*self.today_playing_time/all_time*min(np.random.normal(0.7, 0.2), 1.0)\n",
      "100%|███████████████████████████████████████████████████████████████████████████████████| 38/38 [00:41<00:00,  1.10s/it]\n"
     ]
    },
    {
     "name": "stdout",
     "output_type": "stream",
     "text": [
      "オフシーズン\n",
      "------------------------------\n",
      " 引退人数   　:  1181\n",
      " 移籍市場人数 :  7255\n",
      "2014\n"
     ]
    },
    {
     "name": "stderr",
     "output_type": "stream",
     "text": [
      "100%|███████████████████████████████████████████████████████████████████████████████████| 38/38 [00:43<00:00,  1.14s/it]\n"
     ]
    },
    {
     "name": "stdout",
     "output_type": "stream",
     "text": [
      "オフシーズン\n",
      "------------------------------\n",
      " 引退人数   　:  1199\n",
      " 移籍市場人数 :  6858\n",
      "2015\n"
     ]
    },
    {
     "name": "stderr",
     "output_type": "stream",
     "text": [
      "100%|███████████████████████████████████████████████████████████████████████████████████| 38/38 [00:41<00:00,  1.10s/it]\n"
     ]
    },
    {
     "name": "stdout",
     "output_type": "stream",
     "text": [
      "オフシーズン\n",
      "------------------------------\n",
      " 引退人数   　:  1338\n",
      " 移籍市場人数 :  6986\n",
      "2016\n"
     ]
    },
    {
     "name": "stderr",
     "output_type": "stream",
     "text": [
      "  5%|████▍                                                                               | 2/38 [00:02<00:37,  1.03s/it]/home/takagi/program/game/football/notebook/run_and_show/../../src/object.py:109: RuntimeWarning: invalid value encountered in byte_scalars\n",
      "  random_rating = (self.position_all_rate[self.partification_position]-min_rate)/(max_rate-min_rate)*self.today_playing_time/all_time*min(np.random.normal(0.7, 0.2), 1.0)\n",
      "100%|███████████████████████████████████████████████████████████████████████████████████| 38/38 [00:43<00:00,  1.13s/it]\n"
     ]
    },
    {
     "name": "stdout",
     "output_type": "stream",
     "text": [
      "オフシーズン\n",
      "------------------------------\n",
      " 引退人数   　:  1356\n",
      " 移籍市場人数 :  7130\n",
      "2017\n"
     ]
    },
    {
     "name": "stderr",
     "output_type": "stream",
     "text": [
      "100%|███████████████████████████████████████████████████████████████████████████████████| 38/38 [00:43<00:00,  1.13s/it]\n"
     ]
    },
    {
     "name": "stdout",
     "output_type": "stream",
     "text": [
      "オフシーズン\n",
      "------------------------------\n",
      " 引退人数   　:  1254\n",
      " 移籍市場人数 :  7083\n",
      "2018\n"
     ]
    },
    {
     "name": "stderr",
     "output_type": "stream",
     "text": [
      "  0%|                                                                                            | 0/38 [00:00<?, ?it/s]/home/takagi/program/game/football/notebook/run_and_show/../../src/object.py:109: RuntimeWarning: invalid value encountered in byte_scalars\n",
      "  random_rating = (self.position_all_rate[self.partification_position]-min_rate)/(max_rate-min_rate)*self.today_playing_time/all_time*min(np.random.normal(0.7, 0.2), 1.0)\n",
      " 16%|█████████████▎                                                                      | 6/38 [00:06<00:33,  1.06s/it]/home/takagi/program/game/football/notebook/run_and_show/../../src/object.py:109: RuntimeWarning: invalid value encountered in byte_scalars\n",
      "  random_rating = (self.position_all_rate[self.partification_position]-min_rate)/(max_rate-min_rate)*self.today_playing_time/all_time*min(np.random.normal(0.7, 0.2), 1.0)\n",
      " 18%|███████████████▍                                                                    | 7/38 [00:08<00:42,  1.38s/it]/home/takagi/program/game/football/notebook/run_and_show/../../src/object.py:109: RuntimeWarning: invalid value encountered in byte_scalars\n",
      "  random_rating = (self.position_all_rate[self.partification_position]-min_rate)/(max_rate-min_rate)*self.today_playing_time/all_time*min(np.random.normal(0.7, 0.2), 1.0)\n",
      " 32%|██████████████████████████▏                                                        | 12/38 [00:13<00:29,  1.15s/it]/home/takagi/program/game/football/notebook/run_and_show/../../src/object.py:109: RuntimeWarning: invalid value encountered in byte_scalars\n",
      "  random_rating = (self.position_all_rate[self.partification_position]-min_rate)/(max_rate-min_rate)*self.today_playing_time/all_time*min(np.random.normal(0.7, 0.2), 1.0)\n",
      "/home/takagi/program/game/football/notebook/run_and_show/../../src/object.py:109: RuntimeWarning: invalid value encountered in byte_scalars\n",
      "  random_rating = (self.position_all_rate[self.partification_position]-min_rate)/(max_rate-min_rate)*self.today_playing_time/all_time*min(np.random.normal(0.7, 0.2), 1.0)\n",
      " 34%|████████████████████████████▍                                                      | 13/38 [00:15<00:33,  1.33s/it]/home/takagi/program/game/football/notebook/run_and_show/../../src/object.py:109: RuntimeWarning: invalid value encountered in byte_scalars\n",
      "  random_rating = (self.position_all_rate[self.partification_position]-min_rate)/(max_rate-min_rate)*self.today_playing_time/all_time*min(np.random.normal(0.7, 0.2), 1.0)\n",
      " 47%|███████████████████████████████████████▎                                           | 18/38 [00:20<00:22,  1.11s/it]/home/takagi/program/game/football/notebook/run_and_show/../../src/object.py:109: RuntimeWarning: invalid value encountered in byte_scalars\n",
      "  random_rating = (self.position_all_rate[self.partification_position]-min_rate)/(max_rate-min_rate)*self.today_playing_time/all_time*min(np.random.normal(0.7, 0.2), 1.0)\n",
      " 50%|█████████████████████████████████████████▌                                         | 19/38 [00:22<00:22,  1.18s/it]/home/takagi/program/game/football/notebook/run_and_show/../../src/object.py:109: RuntimeWarning: invalid value encountered in byte_scalars\n",
      "  random_rating = (self.position_all_rate[self.partification_position]-min_rate)/(max_rate-min_rate)*self.today_playing_time/all_time*min(np.random.normal(0.7, 0.2), 1.0)\n",
      " 63%|████████████████████████████████████████████████████▍                              | 24/38 [00:27<00:15,  1.14s/it]/home/takagi/program/game/football/notebook/run_and_show/../../src/object.py:109: RuntimeWarning: invalid value encountered in byte_scalars\n",
      "  random_rating = (self.position_all_rate[self.partification_position]-min_rate)/(max_rate-min_rate)*self.today_playing_time/all_time*min(np.random.normal(0.7, 0.2), 1.0)\n",
      " 68%|████████████████████████████████████████████████████████▊                          | 26/38 [00:30<00:13,  1.14s/it]/home/takagi/program/game/football/notebook/run_and_show/../../src/object.py:109: RuntimeWarning: invalid value encountered in byte_scalars\n",
      "  random_rating = (self.position_all_rate[self.partification_position]-min_rate)/(max_rate-min_rate)*self.today_playing_time/all_time*min(np.random.normal(0.7, 0.2), 1.0)\n",
      "100%|███████████████████████████████████████████████████████████████████████████████████| 38/38 [00:42<00:00,  1.12s/it]\n"
     ]
    },
    {
     "name": "stdout",
     "output_type": "stream",
     "text": [
      "オフシーズン\n",
      "------------------------------\n",
      " 引退人数   　:  1231\n",
      " 移籍市場人数 :  7558\n",
      "2019\n"
     ]
    },
    {
     "name": "stderr",
     "output_type": "stream",
     "text": [
      "  5%|████▍                                                                               | 2/38 [00:02<00:37,  1.04s/it]/home/takagi/program/game/football/notebook/run_and_show/../../src/object.py:109: RuntimeWarning: invalid value encountered in byte_scalars\n",
      "  random_rating = (self.position_all_rate[self.partification_position]-min_rate)/(max_rate-min_rate)*self.today_playing_time/all_time*min(np.random.normal(0.7, 0.2), 1.0)\n",
      " 45%|█████████████████████████████████████▏                                             | 17/38 [00:19<00:23,  1.10s/it]/home/takagi/program/game/football/notebook/run_and_show/../../src/object.py:109: RuntimeWarning: invalid value encountered in byte_scalars\n",
      "  random_rating = (self.position_all_rate[self.partification_position]-min_rate)/(max_rate-min_rate)*self.today_playing_time/all_time*min(np.random.normal(0.7, 0.2), 1.0)\n",
      " 47%|███████████████████████████████████████▎                                           | 18/38 [00:20<00:21,  1.10s/it]/home/takagi/program/game/football/notebook/run_and_show/../../src/object.py:109: RuntimeWarning: invalid value encountered in byte_scalars\n",
      "  random_rating = (self.position_all_rate[self.partification_position]-min_rate)/(max_rate-min_rate)*self.today_playing_time/all_time*min(np.random.normal(0.7, 0.2), 1.0)\n",
      "100%|███████████████████████████████████████████████████████████████████████████████████| 38/38 [00:42<00:00,  1.12s/it]\n"
     ]
    },
    {
     "name": "stdout",
     "output_type": "stream",
     "text": [
      "オフシーズン\n",
      "------------------------------\n",
      " 引退人数   　:  1169\n",
      " 移籍市場人数 :  7609\n",
      "2020\n"
     ]
    },
    {
     "name": "stderr",
     "output_type": "stream",
     "text": [
      "  0%|                                                                                            | 0/38 [00:00<?, ?it/s]/home/takagi/program/game/football/notebook/run_and_show/../../src/object.py:109: RuntimeWarning: invalid value encountered in byte_scalars\n",
      "  random_rating = (self.position_all_rate[self.partification_position]-min_rate)/(max_rate-min_rate)*self.today_playing_time/all_time*min(np.random.normal(0.7, 0.2), 1.0)\n",
      " 16%|█████████████▎                                                                      | 6/38 [00:06<00:35,  1.12s/it]/home/takagi/program/game/football/notebook/run_and_show/../../src/object.py:109: RuntimeWarning: invalid value encountered in byte_scalars\n",
      "  random_rating = (self.position_all_rate[self.partification_position]-min_rate)/(max_rate-min_rate)*self.today_playing_time/all_time*min(np.random.normal(0.7, 0.2), 1.0)\n",
      " 29%|████████████████████████                                                           | 11/38 [00:13<00:30,  1.13s/it]/home/takagi/program/game/football/notebook/run_and_show/../../src/object.py:109: RuntimeWarning: invalid value encountered in byte_scalars\n",
      "  random_rating = (self.position_all_rate[self.partification_position]-min_rate)/(max_rate-min_rate)*self.today_playing_time/all_time*min(np.random.normal(0.7, 0.2), 1.0)\n",
      " 32%|██████████████████████████▏                                                        | 12/38 [00:14<00:29,  1.15s/it]/home/takagi/program/game/football/notebook/run_and_show/../../src/object.py:109: RuntimeWarning: invalid value encountered in byte_scalars\n",
      "  random_rating = (self.position_all_rate[self.partification_position]-min_rate)/(max_rate-min_rate)*self.today_playing_time/all_time*min(np.random.normal(0.7, 0.2), 1.0)\n",
      "100%|███████████████████████████████████████████████████████████████████████████████████| 38/38 [00:44<00:00,  1.16s/it]\n"
     ]
    },
    {
     "name": "stdout",
     "output_type": "stream",
     "text": [
      "オフシーズン\n",
      "------------------------------\n",
      " 引退人数   　:  1068\n",
      " 移籍市場人数 :  7700\n",
      "2021\n"
     ]
    },
    {
     "name": "stderr",
     "output_type": "stream",
     "text": [
      "  0%|                                                                                            | 0/38 [00:00<?, ?it/s]/home/takagi/program/game/football/notebook/run_and_show/../../src/object.py:109: RuntimeWarning: invalid value encountered in byte_scalars\n",
      "  random_rating = (self.position_all_rate[self.partification_position]-min_rate)/(max_rate-min_rate)*self.today_playing_time/all_time*min(np.random.normal(0.7, 0.2), 1.0)\n",
      " 18%|███████████████▍                                                                    | 7/38 [00:08<00:43,  1.40s/it]/home/takagi/program/game/football/notebook/run_and_show/../../src/object.py:109: RuntimeWarning: invalid value encountered in byte_scalars\n",
      "  random_rating = (self.position_all_rate[self.partification_position]-min_rate)/(max_rate-min_rate)*self.today_playing_time/all_time*min(np.random.normal(0.7, 0.2), 1.0)\n",
      " 55%|█████████████████████████████████████████████▊                                     | 21/38 [00:24<00:19,  1.17s/it]/home/takagi/program/game/football/notebook/run_and_show/../../src/object.py:109: RuntimeWarning: invalid value encountered in byte_scalars\n",
      "  random_rating = (self.position_all_rate[self.partification_position]-min_rate)/(max_rate-min_rate)*self.today_playing_time/all_time*min(np.random.normal(0.7, 0.2), 1.0)\n",
      " 97%|████████████████████████████████████████████████████████████████████████████████▊  | 37/38 [00:41<00:01,  1.09s/it]/home/takagi/program/game/football/notebook/run_and_show/../../src/object.py:109: RuntimeWarning: invalid value encountered in byte_scalars\n",
      "  random_rating = (self.position_all_rate[self.partification_position]-min_rate)/(max_rate-min_rate)*self.today_playing_time/all_time*min(np.random.normal(0.7, 0.2), 1.0)\n",
      "100%|███████████████████████████████████████████████████████████████████████████████████| 38/38 [00:42<00:00,  1.13s/it]\n"
     ]
    },
    {
     "name": "stdout",
     "output_type": "stream",
     "text": [
      "オフシーズン\n",
      "------------------------------\n",
      " 引退人数   　:  1115\n",
      " 移籍市場人数 :  7913\n",
      "2022\n"
     ]
    },
    {
     "name": "stderr",
     "output_type": "stream",
     "text": [
      "100%|███████████████████████████████████████████████████████████████████████████████████| 38/38 [00:43<00:00,  1.14s/it]\n"
     ]
    },
    {
     "name": "stdout",
     "output_type": "stream",
     "text": [
      "オフシーズン\n",
      "------------------------------\n",
      " 引退人数   　:  1135\n",
      " 移籍市場人数 :  8151\n",
      "2023\n"
     ]
    },
    {
     "name": "stderr",
     "output_type": "stream",
     "text": [
      "  0%|                                                                                            | 0/38 [00:00<?, ?it/s]/home/takagi/program/game/football/notebook/run_and_show/../../src/object.py:109: RuntimeWarning: invalid value encountered in byte_scalars\n",
      "  random_rating = (self.position_all_rate[self.partification_position]-min_rate)/(max_rate-min_rate)*self.today_playing_time/all_time*min(np.random.normal(0.7, 0.2), 1.0)\n",
      " 16%|█████████████▎                                                                      | 6/38 [00:06<00:34,  1.08s/it]/home/takagi/program/game/football/notebook/run_and_show/../../src/object.py:109: RuntimeWarning: invalid value encountered in byte_scalars\n",
      "  random_rating = (self.position_all_rate[self.partification_position]-min_rate)/(max_rate-min_rate)*self.today_playing_time/all_time*min(np.random.normal(0.7, 0.2), 1.0)\n",
      " 18%|███████████████▍                                                                    | 7/38 [00:08<00:44,  1.43s/it]/home/takagi/program/game/football/notebook/run_and_show/../../src/object.py:109: RuntimeWarning: invalid value encountered in byte_scalars\n",
      "  random_rating = (self.position_all_rate[self.partification_position]-min_rate)/(max_rate-min_rate)*self.today_playing_time/all_time*min(np.random.normal(0.7, 0.2), 1.0)\n",
      " 32%|██████████████████████████▏                                                        | 12/38 [00:14<00:29,  1.13s/it]/home/takagi/program/game/football/notebook/run_and_show/../../src/object.py:109: RuntimeWarning: invalid value encountered in byte_scalars\n",
      "  random_rating = (self.position_all_rate[self.partification_position]-min_rate)/(max_rate-min_rate)*self.today_playing_time/all_time*min(np.random.normal(0.7, 0.2), 1.0)\n",
      "/home/takagi/program/game/football/notebook/run_and_show/../../src/object.py:109: RuntimeWarning: invalid value encountered in byte_scalars\n",
      "  random_rating = (self.position_all_rate[self.partification_position]-min_rate)/(max_rate-min_rate)*self.today_playing_time/all_time*min(np.random.normal(0.7, 0.2), 1.0)\n",
      " 34%|████████████████████████████▍                                                      | 13/38 [00:15<00:33,  1.33s/it]/home/takagi/program/game/football/notebook/run_and_show/../../src/object.py:109: RuntimeWarning: invalid value encountered in byte_scalars\n",
      "  random_rating = (self.position_all_rate[self.partification_position]-min_rate)/(max_rate-min_rate)*self.today_playing_time/all_time*min(np.random.normal(0.7, 0.2), 1.0)\n",
      " 47%|███████████████████████████████████████▎                                           | 18/38 [00:21<00:22,  1.15s/it]/home/takagi/program/game/football/notebook/run_and_show/../../src/object.py:109: RuntimeWarning: invalid value encountered in byte_scalars\n",
      "  random_rating = (self.position_all_rate[self.partification_position]-min_rate)/(max_rate-min_rate)*self.today_playing_time/all_time*min(np.random.normal(0.7, 0.2), 1.0)\n",
      "/home/takagi/program/game/football/notebook/run_and_show/../../src/object.py:109: RuntimeWarning: invalid value encountered in byte_scalars\n",
      "  random_rating = (self.position_all_rate[self.partification_position]-min_rate)/(max_rate-min_rate)*self.today_playing_time/all_time*min(np.random.normal(0.7, 0.2), 1.0)\n",
      " 53%|███████████████████████████████████████████▋                                       | 20/38 [00:23<00:21,  1.19s/it]/home/takagi/program/game/football/notebook/run_and_show/../../src/object.py:109: RuntimeWarning: invalid value encountered in byte_scalars\n",
      "  random_rating = (self.position_all_rate[self.partification_position]-min_rate)/(max_rate-min_rate)*self.today_playing_time/all_time*min(np.random.normal(0.7, 0.2), 1.0)\n",
      " 66%|██████████████████████████████████████████████████████▌                            | 25/38 [00:29<00:15,  1.22s/it]/home/takagi/program/game/football/notebook/run_and_show/../../src/object.py:109: RuntimeWarning: invalid value encountered in byte_scalars\n",
      "  random_rating = (self.position_all_rate[self.partification_position]-min_rate)/(max_rate-min_rate)*self.today_playing_time/all_time*min(np.random.normal(0.7, 0.2), 1.0)\n",
      " 79%|█████████████████████████████████████████████████████████████████▌                 | 30/38 [00:34<00:08,  1.10s/it]/home/takagi/program/game/football/notebook/run_and_show/../../src/object.py:109: RuntimeWarning: invalid value encountered in byte_scalars\n",
      "  random_rating = (self.position_all_rate[self.partification_position]-min_rate)/(max_rate-min_rate)*self.today_playing_time/all_time*min(np.random.normal(0.7, 0.2), 1.0)\n",
      "/home/takagi/program/game/football/notebook/run_and_show/../../src/object.py:109: RuntimeWarning: invalid value encountered in byte_scalars\n",
      "  random_rating = (self.position_all_rate[self.partification_position]-min_rate)/(max_rate-min_rate)*self.today_playing_time/all_time*min(np.random.normal(0.7, 0.2), 1.0)\n",
      "100%|███████████████████████████████████████████████████████████████████████████████████| 38/38 [00:44<00:00,  1.16s/it]\n"
     ]
    },
    {
     "name": "stdout",
     "output_type": "stream",
     "text": [
      "オフシーズン\n",
      "------------------------------\n",
      " 引退人数   　:  1088\n",
      " 移籍市場人数 :  8510\n",
      "2024\n"
     ]
    },
    {
     "name": "stderr",
     "output_type": "stream",
     "text": [
      "  5%|████▍                                                                               | 2/38 [00:02<00:38,  1.08s/it]/home/takagi/program/game/football/notebook/run_and_show/../../src/object.py:109: RuntimeWarning: invalid value encountered in byte_scalars\n",
      "  random_rating = (self.position_all_rate[self.partification_position]-min_rate)/(max_rate-min_rate)*self.today_playing_time/all_time*min(np.random.normal(0.7, 0.2), 1.0)\n",
      " 21%|█████████████████▋                                                                  | 8/38 [00:09<00:40,  1.34s/it]/home/takagi/program/game/football/notebook/run_and_show/../../src/object.py:109: RuntimeWarning: invalid value encountered in byte_scalars\n",
      "  random_rating = (self.position_all_rate[self.partification_position]-min_rate)/(max_rate-min_rate)*self.today_playing_time/all_time*min(np.random.normal(0.7, 0.2), 1.0)\n",
      " 32%|██████████████████████████▏                                                        | 12/38 [00:14<00:29,  1.14s/it]/home/takagi/program/game/football/notebook/run_and_show/../../src/object.py:109: RuntimeWarning: invalid value encountered in byte_scalars\n",
      "  random_rating = (self.position_all_rate[self.partification_position]-min_rate)/(max_rate-min_rate)*self.today_playing_time/all_time*min(np.random.normal(0.7, 0.2), 1.0)\n",
      "/home/takagi/program/game/football/notebook/run_and_show/../../src/object.py:109: RuntimeWarning: invalid value encountered in byte_scalars\n",
      "  random_rating = (self.position_all_rate[self.partification_position]-min_rate)/(max_rate-min_rate)*self.today_playing_time/all_time*min(np.random.normal(0.7, 0.2), 1.0)\n",
      " 58%|████████████████████████████████████████████████                                   | 22/38 [00:26<00:18,  1.15s/it]/home/takagi/program/game/football/notebook/run_and_show/../../src/object.py:109: RuntimeWarning: invalid value encountered in byte_scalars\n",
      "  random_rating = (self.position_all_rate[self.partification_position]-min_rate)/(max_rate-min_rate)*self.today_playing_time/all_time*min(np.random.normal(0.7, 0.2), 1.0)\n",
      " 63%|████████████████████████████████████████████████████▍                              | 24/38 [00:28<00:15,  1.10s/it]/home/takagi/program/game/football/notebook/run_and_show/../../src/object.py:109: RuntimeWarning: invalid value encountered in byte_scalars\n",
      "  random_rating = (self.position_all_rate[self.partification_position]-min_rate)/(max_rate-min_rate)*self.today_playing_time/all_time*min(np.random.normal(0.7, 0.2), 1.0)\n",
      " 87%|████████████████████████████████████████████████████████████████████████           | 33/38 [00:39<00:05,  1.12s/it]/home/takagi/program/game/football/notebook/run_and_show/../../src/object.py:109: RuntimeWarning: invalid value encountered in byte_scalars\n",
      "  random_rating = (self.position_all_rate[self.partification_position]-min_rate)/(max_rate-min_rate)*self.today_playing_time/all_time*min(np.random.normal(0.7, 0.2), 1.0)\n",
      "100%|███████████████████████████████████████████████████████████████████████████████████| 38/38 [00:44<00:00,  1.17s/it]\n"
     ]
    },
    {
     "name": "stdout",
     "output_type": "stream",
     "text": [
      "オフシーズン\n",
      "------------------------------\n",
      " 引退人数   　:  1130\n",
      " 移籍市場人数 :  8219\n",
      "2025\n"
     ]
    },
    {
     "name": "stderr",
     "output_type": "stream",
     "text": [
      "100%|███████████████████████████████████████████████████████████████████████████████████| 38/38 [00:44<00:00,  1.16s/it]\n"
     ]
    },
    {
     "name": "stdout",
     "output_type": "stream",
     "text": [
      "オフシーズン\n",
      "------------------------------\n",
      " 引退人数   　:  1093\n",
      " 移籍市場人数 :  8490\n",
      "2026\n"
     ]
    },
    {
     "name": "stderr",
     "output_type": "stream",
     "text": [
      "100%|███████████████████████████████████████████████████████████████████████████████████| 38/38 [00:42<00:00,  1.12s/it]\n"
     ]
    },
    {
     "name": "stdout",
     "output_type": "stream",
     "text": [
      "オフシーズン\n",
      "------------------------------\n",
      " 引退人数   　:  1149\n",
      " 移籍市場人数 :  8510\n",
      "2027\n"
     ]
    },
    {
     "name": "stderr",
     "output_type": "stream",
     "text": [
      "100%|███████████████████████████████████████████████████████████████████████████████████| 38/38 [00:43<00:00,  1.14s/it]\n"
     ]
    },
    {
     "name": "stdout",
     "output_type": "stream",
     "text": [
      "オフシーズン\n",
      "------------------------------\n",
      " 引退人数   　:  1151\n",
      " 移籍市場人数 :  7990\n",
      "2028\n"
     ]
    },
    {
     "name": "stderr",
     "output_type": "stream",
     "text": [
      " 53%|███████████████████████████████████████████▋                                       | 20/38 [00:23<00:20,  1.13s/it]/home/takagi/program/game/football/notebook/run_and_show/../../src/object.py:109: RuntimeWarning: invalid value encountered in byte_scalars\n",
      "  random_rating = (self.position_all_rate[self.partification_position]-min_rate)/(max_rate-min_rate)*self.today_playing_time/all_time*min(np.random.normal(0.7, 0.2), 1.0)\n",
      " 66%|██████████████████████████████████████████████████████▌                            | 25/38 [00:28<00:15,  1.18s/it]/home/takagi/program/game/football/notebook/run_and_show/../../src/object.py:109: RuntimeWarning: invalid value encountered in byte_scalars\n",
      "  random_rating = (self.position_all_rate[self.partification_position]-min_rate)/(max_rate-min_rate)*self.today_playing_time/all_time*min(np.random.normal(0.7, 0.2), 1.0)\n",
      "100%|███████████████████████████████████████████████████████████████████████████████████| 38/38 [00:42<00:00,  1.12s/it]\n"
     ]
    },
    {
     "name": "stdout",
     "output_type": "stream",
     "text": [
      "オフシーズン\n",
      "------------------------------\n",
      " 引退人数   　:  1139\n",
      " 移籍市場人数 :  7993\n",
      "2029\n"
     ]
    },
    {
     "name": "stderr",
     "output_type": "stream",
     "text": [
      "  8%|██████▋                                                                             | 3/38 [00:03<00:35,  1.01s/it]/home/takagi/program/game/football/notebook/run_and_show/../../src/object.py:109: RuntimeWarning: invalid value encountered in byte_scalars\n",
      "  random_rating = (self.position_all_rate[self.partification_position]-min_rate)/(max_rate-min_rate)*self.today_playing_time/all_time*min(np.random.normal(0.7, 0.2), 1.0)\n",
      " 18%|███████████████▍                                                                    | 7/38 [00:08<00:40,  1.32s/it]/home/takagi/program/game/football/notebook/run_and_show/../../src/object.py:109: RuntimeWarning: invalid value encountered in byte_scalars\n",
      "  random_rating = (self.position_all_rate[self.partification_position]-min_rate)/(max_rate-min_rate)*self.today_playing_time/all_time*min(np.random.normal(0.7, 0.2), 1.0)\n",
      " 34%|████████████████████████████▍                                                      | 13/38 [00:15<00:32,  1.32s/it]/home/takagi/program/game/football/notebook/run_and_show/../../src/object.py:109: RuntimeWarning: invalid value encountered in byte_scalars\n",
      "  random_rating = (self.position_all_rate[self.partification_position]-min_rate)/(max_rate-min_rate)*self.today_playing_time/all_time*min(np.random.normal(0.7, 0.2), 1.0)\n",
      " 53%|███████████████████████████████████████████▋                                       | 20/38 [00:22<00:19,  1.11s/it]/home/takagi/program/game/football/notebook/run_and_show/../../src/object.py:109: RuntimeWarning: invalid value encountered in byte_scalars\n",
      "  random_rating = (self.position_all_rate[self.partification_position]-min_rate)/(max_rate-min_rate)*self.today_playing_time/all_time*min(np.random.normal(0.7, 0.2), 1.0)\n",
      " 66%|██████████████████████████████████████████████████████▌                            | 25/38 [00:27<00:14,  1.11s/it]/home/takagi/program/game/football/notebook/run_and_show/../../src/object.py:109: RuntimeWarning: invalid value encountered in byte_scalars\n",
      "  random_rating = (self.position_all_rate[self.partification_position]-min_rate)/(max_rate-min_rate)*self.today_playing_time/all_time*min(np.random.normal(0.7, 0.2), 1.0)\n",
      " 79%|█████████████████████████████████████████████████████████████████▌                 | 30/38 [00:33<00:08,  1.05s/it]/home/takagi/program/game/football/notebook/run_and_show/../../src/object.py:109: RuntimeWarning: invalid value encountered in byte_scalars\n",
      "  random_rating = (self.position_all_rate[self.partification_position]-min_rate)/(max_rate-min_rate)*self.today_playing_time/all_time*min(np.random.normal(0.7, 0.2), 1.0)\n",
      " 87%|████████████████████████████████████████████████████████████████████████           | 33/38 [00:36<00:05,  1.05s/it]/home/takagi/program/game/football/notebook/run_and_show/../../src/object.py:109: RuntimeWarning: invalid value encountered in byte_scalars\n",
      "  random_rating = (self.position_all_rate[self.partification_position]-min_rate)/(max_rate-min_rate)*self.today_playing_time/all_time*min(np.random.normal(0.7, 0.2), 1.0)\n",
      "100%|███████████████████████████████████████████████████████████████████████████████████| 38/38 [00:42<00:00,  1.11s/it]\n"
     ]
    },
    {
     "name": "stdout",
     "output_type": "stream",
     "text": [
      "オフシーズン\n",
      "------------------------------\n",
      " 引退人数   　:  1261\n",
      " 移籍市場人数 :  7720\n"
     ]
    }
   ],
   "source": [
    "country_leagues = [England, Spain, Germany, France, Italy, Portugal, Belgium]\n",
    "\n",
    "ws = World_soccer(country_leagues=country_leagues)\n",
    "\n",
    "for year in range(2000, 2030):\n",
    "    print(year)\n",
    "    ws.play_1season(year)\n",
    "    ws.play_offseason(df_name_list, year)\n",
    "    \n",
    "    with open('../../data/pickle/20230111v1_30y.pickle', mode='wb') as f:\n",
    "        pickle.dump(ws, f)"
   ]
  },
  {
   "cell_type": "markdown",
   "id": "46cf0b49",
   "metadata": {},
   "source": [
    "for year in range(2030,  2050):\n",
    "    print(year)\n",
    "    ws.play_1season(year)\n",
    "    ws.play_offseason(df_name_list, year)"
   ]
  },
  {
   "cell_type": "code",
   "execution_count": 4,
   "id": "364344f6",
   "metadata": {},
   "outputs": [],
   "source": [
    "with open('../../data/pickle/20221122v1_30y.pickle', mode='rb') as f:\n",
    "    ws = pickle.load(f)"
   ]
  },
  {
   "cell_type": "code",
   "execution_count": null,
   "id": "57db2b73",
   "metadata": {},
   "outputs": [],
   "source": [
    "for year in range(2026, 2030):\n",
    "    print(year)\n",
    "    ws.play_1season(year)\n",
    "    ws.play_offseason(df_name_list, year)\n",
    "    \n",
    "    with open('../../data/pickle/20221122v1_30y.pickle', mode='wb') as f:\n",
    "        pickle.dump(ws, f)"
   ]
  },
  {
   "cell_type": "code",
   "execution_count": null,
   "id": "0b46d3bd",
   "metadata": {},
   "outputs": [],
   "source": [
    "with open('../../data/pickle/20221113v2_50y.pickle', mode='wb') as f:\n",
    "    pickle.dump(ws, f)"
   ]
  },
  {
   "cell_type": "code",
   "execution_count": 5,
   "id": "6d41d79e",
   "metadata": {},
   "outputs": [
    {
     "data": {
      "text/html": [
       "<div>\n",
       "<style scoped>\n",
       "    .dataframe tbody tr th:only-of-type {\n",
       "        vertical-align: middle;\n",
       "    }\n",
       "\n",
       "    .dataframe tbody tr th {\n",
       "        vertical-align: top;\n",
       "    }\n",
       "\n",
       "    .dataframe thead th {\n",
       "        text-align: right;\n",
       "    }\n",
       "</style>\n",
       "<table border=\"1\" class=\"dataframe\">\n",
       "  <thead>\n",
       "    <tr style=\"text-align: right;\">\n",
       "      <th></th>\n",
       "      <th>名前</th>\n",
       "      <th>uuid</th>\n",
       "      <th>年齢</th>\n",
       "      <th>Rate</th>\n",
       "      <th>残契約</th>\n",
       "      <th>ポジション</th>\n",
       "      <th>リーグ</th>\n",
       "      <th>年度</th>\n",
       "      <th>国</th>\n",
       "      <th>チーム</th>\n",
       "      <th>...</th>\n",
       "      <th>出場時間</th>\n",
       "      <th>goal</th>\n",
       "      <th>assist</th>\n",
       "      <th>CS</th>\n",
       "      <th>評価点</th>\n",
       "      <th>MOM</th>\n",
       "      <th>怪我欠場</th>\n",
       "      <th>怪我回数</th>\n",
       "      <th>賞</th>\n",
       "      <th>全ポジション回数</th>\n",
       "    </tr>\n",
       "  </thead>\n",
       "  <tbody>\n",
       "    <tr>\n",
       "      <th>0</th>\n",
       "      <td>Auston</td>\n",
       "      <td>4ddff78c-7aa8-11ed-afce-dd98bab97bdd</td>\n",
       "      <td>19</td>\n",
       "      <td>56</td>\n",
       "      <td>0</td>\n",
       "      <td>CB</td>\n",
       "      <td>practice_league</td>\n",
       "      <td>2001</td>\n",
       "      <td>rental</td>\n",
       "      <td>practice_team</td>\n",
       "      <td>...</td>\n",
       "      <td>1800</td>\n",
       "      <td>0</td>\n",
       "      <td>0</td>\n",
       "      <td>0</td>\n",
       "      <td>0</td>\n",
       "      <td>0</td>\n",
       "      <td>0</td>\n",
       "      <td>0</td>\n",
       "      <td></td>\n",
       "      <td></td>\n",
       "    </tr>\n",
       "    <tr>\n",
       "      <th>1</th>\n",
       "      <td>Duc</td>\n",
       "      <td>4df3f890-7aa8-11ed-afce-dd98bab97bdd</td>\n",
       "      <td>37</td>\n",
       "      <td>44</td>\n",
       "      <td>0</td>\n",
       "      <td>GK</td>\n",
       "      <td>所属なし</td>\n",
       "      <td>2001</td>\n",
       "      <td>rental</td>\n",
       "      <td>所属なし</td>\n",
       "      <td>...</td>\n",
       "      <td>0</td>\n",
       "      <td>0</td>\n",
       "      <td>0</td>\n",
       "      <td>0</td>\n",
       "      <td>0</td>\n",
       "      <td>0</td>\n",
       "      <td>0</td>\n",
       "      <td>0</td>\n",
       "      <td></td>\n",
       "      <td></td>\n",
       "    </tr>\n",
       "    <tr>\n",
       "      <th>2</th>\n",
       "      <td>Harlen</td>\n",
       "      <td>4dc19314-7aa8-11ed-afce-dd98bab97bdd</td>\n",
       "      <td>23</td>\n",
       "      <td>57</td>\n",
       "      <td>0</td>\n",
       "      <td>CM</td>\n",
       "      <td>practice_league</td>\n",
       "      <td>2001</td>\n",
       "      <td>rental</td>\n",
       "      <td>practice_team</td>\n",
       "      <td>...</td>\n",
       "      <td>1800</td>\n",
       "      <td>0</td>\n",
       "      <td>0</td>\n",
       "      <td>0</td>\n",
       "      <td>0</td>\n",
       "      <td>0</td>\n",
       "      <td>0</td>\n",
       "      <td>0</td>\n",
       "      <td></td>\n",
       "      <td></td>\n",
       "    </tr>\n",
       "    <tr>\n",
       "      <th>3</th>\n",
       "      <td>Rae</td>\n",
       "      <td>4ab224ae-7aa8-11ed-afce-dd98bab97bdd</td>\n",
       "      <td>19</td>\n",
       "      <td>57</td>\n",
       "      <td>0</td>\n",
       "      <td>CB</td>\n",
       "      <td>practice_league</td>\n",
       "      <td>2001</td>\n",
       "      <td>rental</td>\n",
       "      <td>practice_team</td>\n",
       "      <td>...</td>\n",
       "      <td>1800</td>\n",
       "      <td>0</td>\n",
       "      <td>0</td>\n",
       "      <td>0</td>\n",
       "      <td>0</td>\n",
       "      <td>0</td>\n",
       "      <td>0</td>\n",
       "      <td>0</td>\n",
       "      <td></td>\n",
       "      <td></td>\n",
       "    </tr>\n",
       "    <tr>\n",
       "      <th>4</th>\n",
       "      <td>Rod</td>\n",
       "      <td>4e3de4e6-7aa8-11ed-afce-dd98bab97bdd</td>\n",
       "      <td>35</td>\n",
       "      <td>58</td>\n",
       "      <td>0</td>\n",
       "      <td>ST</td>\n",
       "      <td>所属なし</td>\n",
       "      <td>2001</td>\n",
       "      <td>rental</td>\n",
       "      <td>所属なし</td>\n",
       "      <td>...</td>\n",
       "      <td>0</td>\n",
       "      <td>0</td>\n",
       "      <td>0</td>\n",
       "      <td>0</td>\n",
       "      <td>0</td>\n",
       "      <td>0</td>\n",
       "      <td>0</td>\n",
       "      <td>0</td>\n",
       "      <td></td>\n",
       "      <td></td>\n",
       "    </tr>\n",
       "    <tr>\n",
       "      <th>...</th>\n",
       "      <td>...</td>\n",
       "      <td>...</td>\n",
       "      <td>...</td>\n",
       "      <td>...</td>\n",
       "      <td>...</td>\n",
       "      <td>...</td>\n",
       "      <td>...</td>\n",
       "      <td>...</td>\n",
       "      <td>...</td>\n",
       "      <td>...</td>\n",
       "      <td>...</td>\n",
       "      <td>...</td>\n",
       "      <td>...</td>\n",
       "      <td>...</td>\n",
       "      <td>...</td>\n",
       "      <td>...</td>\n",
       "      <td>...</td>\n",
       "      <td>...</td>\n",
       "      <td>...</td>\n",
       "      <td>...</td>\n",
       "      <td>...</td>\n",
       "    </tr>\n",
       "    <tr>\n",
       "      <th>18132</th>\n",
       "      <td>Norma</td>\n",
       "      <td>369cf19c-7aa8-11ed-afce-dd98bab97bdd</td>\n",
       "      <td>34</td>\n",
       "      <td>64</td>\n",
       "      <td>0</td>\n",
       "      <td>CAM</td>\n",
       "      <td>所属なし</td>\n",
       "      <td>2010</td>\n",
       "      <td>rental</td>\n",
       "      <td>所属なし</td>\n",
       "      <td>...</td>\n",
       "      <td>0</td>\n",
       "      <td>0</td>\n",
       "      <td>0</td>\n",
       "      <td>0</td>\n",
       "      <td>0</td>\n",
       "      <td>0</td>\n",
       "      <td>0</td>\n",
       "      <td>0</td>\n",
       "      <td></td>\n",
       "      <td></td>\n",
       "    </tr>\n",
       "    <tr>\n",
       "      <th>18133</th>\n",
       "      <td>Keagen</td>\n",
       "      <td>36a35b2c-7aa8-11ed-afce-dd98bab97bdd</td>\n",
       "      <td>34</td>\n",
       "      <td>65</td>\n",
       "      <td>0</td>\n",
       "      <td>LWB</td>\n",
       "      <td>所属なし</td>\n",
       "      <td>2010</td>\n",
       "      <td>rental</td>\n",
       "      <td>所属なし</td>\n",
       "      <td>...</td>\n",
       "      <td>0</td>\n",
       "      <td>0</td>\n",
       "      <td>0</td>\n",
       "      <td>0</td>\n",
       "      <td>0</td>\n",
       "      <td>0</td>\n",
       "      <td>0</td>\n",
       "      <td>0</td>\n",
       "      <td></td>\n",
       "      <td></td>\n",
       "    </tr>\n",
       "    <tr>\n",
       "      <th>18134</th>\n",
       "      <td>Phalon</td>\n",
       "      <td>37a40a12-7aa8-11ed-afce-dd98bab97bdd</td>\n",
       "      <td>36</td>\n",
       "      <td>64</td>\n",
       "      <td>0</td>\n",
       "      <td>RB</td>\n",
       "      <td>所属なし</td>\n",
       "      <td>2010</td>\n",
       "      <td>rental</td>\n",
       "      <td>所属なし</td>\n",
       "      <td>...</td>\n",
       "      <td>0</td>\n",
       "      <td>0</td>\n",
       "      <td>0</td>\n",
       "      <td>0</td>\n",
       "      <td>0</td>\n",
       "      <td>0</td>\n",
       "      <td>0</td>\n",
       "      <td>0</td>\n",
       "      <td></td>\n",
       "      <td></td>\n",
       "    </tr>\n",
       "    <tr>\n",
       "      <th>18135</th>\n",
       "      <td>Brodie</td>\n",
       "      <td>4e407f30-7aa8-11ed-afce-dd98bab97bdd</td>\n",
       "      <td>35</td>\n",
       "      <td>63</td>\n",
       "      <td>0</td>\n",
       "      <td>RB</td>\n",
       "      <td>所属なし</td>\n",
       "      <td>2010</td>\n",
       "      <td>rental</td>\n",
       "      <td>所属なし</td>\n",
       "      <td>...</td>\n",
       "      <td>0</td>\n",
       "      <td>0</td>\n",
       "      <td>0</td>\n",
       "      <td>0</td>\n",
       "      <td>0</td>\n",
       "      <td>0</td>\n",
       "      <td>0</td>\n",
       "      <td>0</td>\n",
       "      <td></td>\n",
       "      <td></td>\n",
       "    </tr>\n",
       "    <tr>\n",
       "      <th>18136</th>\n",
       "      <td>Harvie</td>\n",
       "      <td>4c1df20a-7aa8-11ed-afce-dd98bab97bdd</td>\n",
       "      <td>35</td>\n",
       "      <td>62</td>\n",
       "      <td>0</td>\n",
       "      <td>RB</td>\n",
       "      <td>所属なし</td>\n",
       "      <td>2010</td>\n",
       "      <td>rental</td>\n",
       "      <td>所属なし</td>\n",
       "      <td>...</td>\n",
       "      <td>0</td>\n",
       "      <td>0</td>\n",
       "      <td>0</td>\n",
       "      <td>0</td>\n",
       "      <td>0</td>\n",
       "      <td>0</td>\n",
       "      <td>0</td>\n",
       "      <td>0</td>\n",
       "      <td></td>\n",
       "      <td></td>\n",
       "    </tr>\n",
       "  </tbody>\n",
       "</table>\n",
       "<p>18137 rows × 24 columns</p>\n",
       "</div>"
      ],
      "text/plain": [
       "           名前                                  uuid  年齢  Rate  残契約 ポジション  \\\n",
       "0      Auston  4ddff78c-7aa8-11ed-afce-dd98bab97bdd  19    56    0    CB   \n",
       "1         Duc  4df3f890-7aa8-11ed-afce-dd98bab97bdd  37    44    0    GK   \n",
       "2      Harlen  4dc19314-7aa8-11ed-afce-dd98bab97bdd  23    57    0    CM   \n",
       "3         Rae  4ab224ae-7aa8-11ed-afce-dd98bab97bdd  19    57    0    CB   \n",
       "4         Rod  4e3de4e6-7aa8-11ed-afce-dd98bab97bdd  35    58    0    ST   \n",
       "...       ...                                   ...  ..   ...  ...   ...   \n",
       "18132   Norma  369cf19c-7aa8-11ed-afce-dd98bab97bdd  34    64    0   CAM   \n",
       "18133  Keagen  36a35b2c-7aa8-11ed-afce-dd98bab97bdd  34    65    0   LWB   \n",
       "18134  Phalon  37a40a12-7aa8-11ed-afce-dd98bab97bdd  36    64    0    RB   \n",
       "18135  Brodie  4e407f30-7aa8-11ed-afce-dd98bab97bdd  35    63    0    RB   \n",
       "18136  Harvie  4c1df20a-7aa8-11ed-afce-dd98bab97bdd  35    62    0    RB   \n",
       "\n",
       "                   リーグ    年度       国            チーム  ...  出場時間 goal assist  \\\n",
       "0      practice_league  2001  rental  practice_team  ...  1800    0      0   \n",
       "1                 所属なし  2001  rental           所属なし  ...     0    0      0   \n",
       "2      practice_league  2001  rental  practice_team  ...  1800    0      0   \n",
       "3      practice_league  2001  rental  practice_team  ...  1800    0      0   \n",
       "4                 所属なし  2001  rental           所属なし  ...     0    0      0   \n",
       "...                ...   ...     ...            ...  ...   ...  ...    ...   \n",
       "18132             所属なし  2010  rental           所属なし  ...     0    0      0   \n",
       "18133             所属なし  2010  rental           所属なし  ...     0    0      0   \n",
       "18134             所属なし  2010  rental           所属なし  ...     0    0      0   \n",
       "18135             所属なし  2010  rental           所属なし  ...     0    0      0   \n",
       "18136             所属なし  2010  rental           所属なし  ...     0    0      0   \n",
       "\n",
       "       CS  評価点  MOM  怪我欠場  怪我回数  賞  全ポジション回数  \n",
       "0       0    0    0     0     0               \n",
       "1       0    0    0     0     0               \n",
       "2       0    0    0     0     0               \n",
       "3       0    0    0     0     0               \n",
       "4       0    0    0     0     0               \n",
       "...    ..  ...  ...   ...   ... ..       ...  \n",
       "18132   0    0    0     0     0               \n",
       "18133   0    0    0     0     0               \n",
       "18134   0    0    0     0     0               \n",
       "18135   0    0    0     0     0               \n",
       "18136   0    0    0     0     0               \n",
       "\n",
       "[18137 rows x 24 columns]"
      ]
     },
     "execution_count": 5,
     "metadata": {},
     "output_type": "execute_result"
    }
   ],
   "source": [
    "ws.players_result"
   ]
  },
  {
   "cell_type": "code",
   "execution_count": null,
   "id": "007ea523",
   "metadata": {},
   "outputs": [],
   "source": []
  }
 ],
 "metadata": {
  "kernelspec": {
   "display_name": "Python 3 (ipykernel)",
   "language": "python",
   "name": "python3"
  },
  "language_info": {
   "codemirror_mode": {
    "name": "ipython",
    "version": 3
   },
   "file_extension": ".py",
   "mimetype": "text/x-python",
   "name": "python",
   "nbconvert_exporter": "python",
   "pygments_lexer": "ipython3",
   "version": "3.8.13"
  }
 },
 "nbformat": 4,
 "nbformat_minor": 5
}
