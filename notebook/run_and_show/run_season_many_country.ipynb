{
 "cells": [
  {
   "cell_type": "code",
   "execution_count": 1,
   "id": "b135d3a6",
   "metadata": {},
   "outputs": [],
   "source": [
    "\n",
    "import pandas as pd\n",
    "pd.set_option('display.max_rows', 80)\n",
    "pd.set_option('display.max_columns', 80)\n",
    "\n",
    "import pickle\n",
    "\n",
    "import sys\n",
    "sys.path.append(\"../../\")\n",
    "\n",
    "from config.name import load_names\n",
    "load_names()\n",
    "\n",
    "from config.league_set import create_Proleague\n",
    "from src.worldsoccer import Worldsoccer"
   ]
  },
  {
   "cell_type": "code",
   "execution_count": 2,
   "id": "0395a2bf",
   "metadata": {},
   "outputs": [],
   "source": [
    "with open('../../data/excel/team_name.pkl', 'rb') as f:\n",
    "    team_names = pickle.load(f)"
   ]
  },
  {
   "cell_type": "code",
   "execution_count": 3,
   "id": "b8a82776",
   "metadata": {},
   "outputs": [],
   "source": [
    "England = create_Proleague(name=\"England\", name_competition=\"FA杯\",\n",
    "                           league_display_name_list=[\"Premier\", \"Championship\", \"EFL1\"],\n",
    "                           tier_list=[\"Tier1\", \"Tier3\", \"Tier4\",],\n",
    "                           team_names=team_names, league_num=[20, 24, 24],\n",
    "                           category_list=['top', 'midlle', 'lowest'])\n",
    "\n",
    "Spain = create_Proleague(\"Spain\", \"カラパオ杯\",\n",
    "                        [\"La Liga Santander\", \"La Liga SmartBank\", \"Primera Division RFEF\"],\n",
    "                        [\"Tier1\", \"Tier3\", \"Tier4\",], team_names, [20, 22, 20], ['top', 'midlle', 'lowest'])\n",
    "\n",
    "Portugal = create_Proleague(\"Portugal\", \"ポルトガル杯\",\n",
    "                           [\"Liga Portugal\", \"LigaPortugal2\"],\n",
    "                           [\"Tier2\", \"Tier4\",], team_names, [18, 18], ['top', 'lowest'])"
   ]
  },
  {
   "cell_type": "code",
   "execution_count": 6,
   "id": "3e8c0423",
   "metadata": {},
   "outputs": [],
   "source": [
    "Germany = create_Proleague(\"Germany\", \"DFBポカール\",\n",
    "                           [\"Bundesliga\", \"2Bundesliga\", \"3Bundesliga\"],\n",
    "                           [\"Tier1\", \"Tier3\", \"Tier4\",], team_names, [18, 18, 20], ['top', 'midlle', 'lowest'])\n",
    "\n",
    "France = create_Proleague(\"France\", \"クープ・デュ・フランス\",\n",
    "                         [\"Ligue1\", \"Ligue2\", \"Ligue3\"],\n",
    "                         [\"Tier1\", \"Tier3\", \"Tier4\",], team_names, [18, 18, 18], ['top', 'midlle', 'lowest'])\n",
    "\n",
    "Italy = create_Proleague(\"Italy\", \"コパ・イタリア\",\n",
    "                         [\"SerieA\", \"SerieB\", \"SerieC\"],\n",
    "                         [\"Tier1\", \"Tier3\", \"Tier4\",], team_names, [20, 20, 20], ['top', 'midlle', 'lowest'])\n",
    "\n",
    "Belgium = create_Proleague(\"Belgium\", \"ベルギー杯\",\n",
    "                          [\"Pro League\", \"Challenger ProLeague\"],\n",
    "                          [\"Tier2\", \"Tier4\"], team_names, [16, 16], ['top', 'lowest'])"
   ]
  },
  {
   "cell_type": "code",
   "execution_count": null,
   "id": "93a0af17",
   "metadata": {
    "scrolled": true
   },
   "outputs": [],
   "source": [
    "country_leagues = [England, Spain, Germany, France, Italy, Portugal, Belgium]\n",
    "#country_leagues = [England, Spain, Portugal]\n",
    "\n",
    "ws = Worldsoccer(country_leagues=country_leagues)\n",
    "\n",
    "for year in range(2000, 2004):\n",
    "    print(year)\n",
    "    ws.play_1season(year)\n",
    "    ws.play_offseason(year)\n",
    "    \n",
    "    with open('../../data/pickle/20240930v1_30y.pickle', mode='wb') as f:\n",
    "        pickle.dump(ws, f)"
   ]
  },
  {
   "cell_type": "code",
   "execution_count": null,
   "id": "b7e5963a",
   "metadata": {},
   "outputs": [],
   "source": []
  }
 ],
 "metadata": {
  "kernelspec": {
   "display_name": "Python 3 (ipykernel)",
   "language": "python",
   "name": "python3"
  },
  "language_info": {
   "codemirror_mode": {
    "name": "ipython",
    "version": 3
   },
   "file_extension": ".py",
   "mimetype": "text/x-python",
   "name": "python",
   "nbconvert_exporter": "python",
   "pygments_lexer": "ipython3",
   "version": "3.11.10"
  }
 },
 "nbformat": 4,
 "nbformat_minor": 5
}
