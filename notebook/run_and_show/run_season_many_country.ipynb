{
 "cells": [
  {
   "cell_type": "code",
   "execution_count": null,
   "id": "b135d3a6",
   "metadata": {},
   "outputs": [],
   "source": [
    "import pandas as pd\n",
    "pd.set_option('display.max_rows', 80)\n",
    "pd.set_option('display.max_columns', 80)\n",
    "\n",
    "import pickle\n",
    "\n",
    "import sys\n",
    "sys.path.append(\"../../\")\n",
    "\n",
    "from config.league_set import create_Proleague\n",
    "from src.worldsoccer import Worldsoccer"
   ]
  },
  {
   "cell_type": "code",
   "execution_count": null,
   "id": "8ca6d351",
   "metadata": {},
   "outputs": [],
   "source": [
    "df_name = pd.read_csv(\"../../data/csv/NationalNames.csv\")\n",
    "df_name_list = list(df_name[df_name.Gender=='M'].Name.sample(10000))"
   ]
  },
  {
   "cell_type": "code",
   "execution_count": null,
   "id": "0395a2bf",
   "metadata": {},
   "outputs": [],
   "source": [
    "team_names = pd.read_excel(\"../../data/excel/team_name.xlsx\")"
   ]
  },
  {
   "cell_type": "code",
   "execution_count": null,
   "id": "b8a82776",
   "metadata": {},
   "outputs": [],
   "source": [
    "\n",
    "England = create_Proleague(\"England\", \"FA 杯\",\n",
    "                           [\"premier\", \"Championship\", \"EFL1\"], [\"Premier\", \"Championship\", \"EFL1\"],\n",
    "                           [\"Tier1\", \"Tier3\", \"Tier4\",], team_names,\n",
    "                           df_name_list, ['top', 'midlle', 'lowest'])\n",
    "\n",
    "Spain = create_Proleague(\"Spain\", \"カラパオ杯\",\n",
    "                           [\"LaLiga\", \"smartbank\", \"primera\"], [\"La Liga Santander\", \"La Liga SmartBank\", \"Primera Division RFEF\"],\n",
    "                           [\"Tier1\", \"Tier3\", \"Tier4\",], team_names,\n",
    "                           df_name_list, ['top', 'midlle', 'lowest'])\n",
    "\n",
    "Germany = create_Proleague(\"Germany\", \"DFBポカール\",\n",
    "                           [\"Bundesliga\", \"2bundesliga\", \"3bundesliga\"], [\"Bundesliga\", \"2,Bundesliga\", \"3.Bundesliga\"],\n",
    "                           [\"Tier1\", \"Tier3\", \"Tier4\",], team_names,\n",
    "                           df_name_list, ['top', 'midlle', 'lowest'])\n",
    "\n",
    "France = create_Proleague(\"France\", \"クープ・デュ・フランス\",\n",
    "                           [\"Ligue1\", \"Ligue2\", \"Ligue3\"], [\"Ligue1\", \"Ligue2\", \"Ligue3\"],\n",
    "                           [\"Tier1\", \"Tier3\", \"Tier4\",], team_names,\n",
    "                           df_name_list, ['top', 'midlle', 'lowest'])\n",
    "\n",
    "Italy = create_Proleague(\"Italy\", \"コパ・イタリア\",\n",
    "                           [\"SerieA\", \"SerieB\", \"SerieC\"], [\"SerieA\", \"SerieB\", \"SerieC\"],\n",
    "                           [\"Tier1\", \"Tier3\", \"Tier4\",], team_names,\n",
    "                           df_name_list, ['top', 'midlle', 'lowest'])"
   ]
  },
  {
   "cell_type": "code",
   "execution_count": null,
   "id": "e3ce371c",
   "metadata": {},
   "outputs": [],
   "source": [
    "Portugal = create_Proleague(\"Portugal\", \"ポルトガル杯\",\n",
    "                           [\"LigaPortugal\", \"LigaPortugal2\"], [\"Liga Portugal\", \"LigaPortugal2\"],\n",
    "                           [\"Tier2\", \"Tier4\",], team_names,\n",
    "                           df_name_list, ['top', 'lowest'])\n",
    "\n",
    "Belgium = create_Proleague(\"Belgium\", \"ベルギー杯\",\n",
    "                           [\"ProLeague\", \"ChallengerProLeague\"], [\"Pro League\", \"Challenger ProLeague\"],\n",
    "                           [\"Tier2\", \"Tier4\"], team_names,\n",
    "                           df_name_list, ['top', 'lowest'])"
   ]
  },
  {
   "cell_type": "code",
   "execution_count": null,
   "id": "93a0af17",
   "metadata": {
    "scrolled": true
   },
   "outputs": [],
   "source": [
    "country_leagues = [England, Spain, Germany, France, Italy, Portugal, Belgium]\n",
    "#country_leagues = [England, Spain, Portugal, Belgium]\n",
    "\n",
    "ws = Worldsoccer(country_leagues=country_leagues)\n",
    "\n",
    "for year in range(2000, 2030):\n",
    "    print(year)\n",
    "    ws.play_1season(year)\n",
    "    ws.play_offseason(df_name_list, year)\n",
    "    \n",
    "    with open('../../data/pickle/20230111v1_30y.pickle', mode='wb') as f:\n",
    "        pickle.dump(ws, f)"
   ]
  },
  {
   "cell_type": "code",
   "execution_count": null,
   "id": "cb9cfd15",
   "metadata": {},
   "outputs": [],
   "source": [
    "for l in ws.country_leagues[0].leagues:\n",
    "    for t in l.teams:\n",
    "        for p in t.register_players:\n",
    "            if \"FA 杯_2001\" not in p.result.keys():\n",
    "                print(p.result.keys())"
   ]
  },
  {
   "cell_type": "markdown",
   "id": "46cf0b49",
   "metadata": {},
   "source": [
    "for year in range(2030,  2050):\n",
    "    print(year)\n",
    "    ws.play_1season(year)\n",
    "    ws.play_offseason(df_name_list, year)"
   ]
  },
  {
   "cell_type": "code",
   "execution_count": null,
   "id": "364344f6",
   "metadata": {},
   "outputs": [],
   "source": [
    "with open('../../data/pickle/20221122v1_30y.pickle', mode='rb') as f:\n",
    "    ws = pickle.load(f)"
   ]
  },
  {
   "cell_type": "code",
   "execution_count": null,
   "id": "57db2b73",
   "metadata": {},
   "outputs": [],
   "source": [
    "for year in range(2026, 2030):\n",
    "    print(year)\n",
    "    ws.play_1season(year)\n",
    "    ws.play_offseason(df_name_list, year)\n",
    "    \n",
    "    with open('../../data/pickle/20221122v1_30y.pickle', mode='wb') as f:\n",
    "        pickle.dump(ws, f)"
   ]
  },
  {
   "cell_type": "code",
   "execution_count": null,
   "id": "0b46d3bd",
   "metadata": {},
   "outputs": [],
   "source": [
    "with open('../../data/pickle/20221113v2_50y.pickle', mode='wb') as f:\n",
    "    pickle.dump(ws, f)"
   ]
  },
  {
   "cell_type": "code",
   "execution_count": null,
   "id": "6d41d79e",
   "metadata": {},
   "outputs": [],
   "source": [
    "ws.players_result"
   ]
  },
  {
   "cell_type": "code",
   "execution_count": null,
   "id": "007ea523",
   "metadata": {},
   "outputs": [],
   "source": []
  }
 ],
 "metadata": {
  "kernelspec": {
   "display_name": "Python 3 (ipykernel)",
   "language": "python",
   "name": "python3"
  },
  "language_info": {
   "codemirror_mode": {
    "name": "ipython",
    "version": 3
   },
   "file_extension": ".py",
   "mimetype": "text/x-python",
   "name": "python",
   "nbconvert_exporter": "python",
   "pygments_lexer": "ipython3",
   "version": "3.8.10"
  }
 },
 "nbformat": 4,
 "nbformat_minor": 5
}
