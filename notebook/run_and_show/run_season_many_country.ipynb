{
 "cells": [
  {
   "cell_type": "code",
   "execution_count": 1,
   "id": "b135d3a6",
   "metadata": {},
   "outputs": [],
   "source": [
    "import numpy as np\n",
    "import pandas as pd\n",
    "import math\n",
    "\n",
    "pd.set_option('display.max_rows', 80)\n",
    "\n",
    "import random\n",
    "import time\n",
    "import pickle\n",
    "\n",
    "import sys\n",
    "sys.path.append(\"../../\")\n",
    "\n",
    "from src.object import *\n",
    "from src.create import *\n",
    "from src.print_result import *\n",
    "\n",
    "from config.formation import *\n",
    "from config.config import *"
   ]
  },
  {
   "cell_type": "code",
   "execution_count": 2,
   "id": "8ca6d351",
   "metadata": {},
   "outputs": [],
   "source": [
    "df_name = pd.read_csv(\"../../data/csv/NationalNames.csv\")\n",
    "df_name_list = list(df_name[df_name.Gender=='M'].Name.sample(10000))"
   ]
  },
  {
   "cell_type": "code",
   "execution_count": 3,
   "id": "0395a2bf",
   "metadata": {},
   "outputs": [],
   "source": [
    "team_names = pd.read_excel(\"../../data/excel/team_name.xlsx\")"
   ]
  },
  {
   "cell_type": "code",
   "execution_count": 4,
   "id": "efc2de46",
   "metadata": {},
   "outputs": [],
   "source": [
    "#イングランド\n",
    "teams = create_team(20, team_names[\"premier\"].values, df_name_list,\n",
    "                    mean_rate=69, min_rate=72)\n",
    "E1 = League(name=\"Premier\", teams=teams,\n",
    "            num=20, min_rate=75, max_rate=99, mean_rate=69,\n",
    "            category='top', relegation_num=3)\n",
    "\n",
    "teams = create_team(20, team_names['Championship'].values, df_name_list,\n",
    "                    mean_rate=64, min_rate=58, max_rate=78, age_mean=26)\n",
    "E2 = League(name=\"Championship\", teams=teams,\n",
    "            num=20, min_rate=60, max_rate=78, mean_rate=64,\n",
    "            category='middle', relegation_num=3, promotion_num=3)\n",
    "\n",
    "teams = create_team(20, team_names['EFL1'].values, df_name_list,\n",
    "                    mean_rate=59, min_rate=47, max_rate=73, age_mean=25)\n",
    "E3 = League(name=\"EFL1\", teams=teams,\n",
    "            num=20, min_rate=47, max_rate=73, mean_rate=59,\n",
    "            category='lowest', promotion_num=3)\n",
    "\n",
    "England = CountryLeague(name=\"England\", leagues=[E1, E2, E3], competition_name=\"FA杯\")"
   ]
  },
  {
   "cell_type": "code",
   "execution_count": 5,
   "id": "e605ffc1",
   "metadata": {},
   "outputs": [],
   "source": [
    "#スペイン\n",
    "teams = create_team(20, team_names[\"LaLiga\"].values, df_name_list,\n",
    "                    mean_rate=69, min_rate=72)\n",
    "S1 = League(name=\"La Liga Santander\", teams=teams,\n",
    "            num=20, min_rate=75, max_rate=99, mean_rate=69,\n",
    "            category='top', relegation_num=3)\n",
    "\n",
    "teams = create_team(20, team_names['smartbank'].values, df_name_list,\n",
    "                    mean_rate=64, min_rate=58, max_rate=78, age_mean=26)\n",
    "S2 = League(name=\"La Liga SmartBank\", teams=teams,\n",
    "            num=20, min_rate=60, max_rate=78, mean_rate=64,\n",
    "            category='middle', relegation_num=3, promotion_num=3)\n",
    "\n",
    "teams = create_team(20, team_names['primera'].values, df_name_list,\n",
    "                    mean_rate=59, min_rate=47, max_rate=73, age_mean=25)\n",
    "S3 = League(name=\"Primera Division RFEF\", teams=teams,\n",
    "            num=20, min_rate=47, max_rate=73, mean_rate=59,\n",
    "            category='lowest', promotion_num=3)\n",
    "\n",
    "Spain = CountryLeague(name=\"Spain\", leagues=[S1, S2, S3], competition_name=\"カラバオ杯\")"
   ]
  },
  {
   "cell_type": "code",
   "execution_count": 6,
   "id": "e3931880",
   "metadata": {},
   "outputs": [],
   "source": [
    "#ドイツ\n",
    "teams = create_team(20, team_names[\"Bundesliga\"].values, df_name_list,\n",
    "                    mean_rate=69, min_rate=72)\n",
    "G1 = League(name=\"Bundesliga\", teams=teams,\n",
    "            num=20, min_rate=75, max_rate=99, mean_rate=69,\n",
    "            category='top', relegation_num=3)\n",
    "\n",
    "teams = create_team(20, team_names['2bundesliga'].values, df_name_list,\n",
    "                    mean_rate=64, min_rate=58, max_rate=78, age_mean=26)\n",
    "G2 = League(name=\"2.Bundesliga\", teams=teams,\n",
    "            num=20, min_rate=60, max_rate=78, mean_rate=64,\n",
    "            category='middle', relegation_num=3, promotion_num=3)\n",
    "\n",
    "teams = create_team(20, team_names['3bundesliga'].values, df_name_list,\n",
    "                    mean_rate=59, min_rate=47, max_rate=73, age_mean=25)\n",
    "G3 = League(name=\"3.Bundeliga\", teams=teams,\n",
    "            num=20, min_rate=47, max_rate=73, mean_rate=59,\n",
    "            category='lowest', promotion_num=3)\n",
    "\n",
    "Germany = CountryLeague(name=\"Germany\", leagues=[G1, G2, G3], competition_name=\"DFBポカール\")"
   ]
  },
  {
   "cell_type": "code",
   "execution_count": 6,
   "id": "73cdf29a",
   "metadata": {},
   "outputs": [],
   "source": [
    "#ポルトガル\n",
    "teams = create_team(20, team_names[\"LigaPortugal\"].values, df_name_list,\n",
    "                    mean_rate=66, min_rate=66)\n",
    "P1 = League(name=\"Liga Portugal\", teams=teams,\n",
    "            num=20, min_rate=66, max_rate=82, mean_rate=66,\n",
    "            category='top', relegation_num=3)\n",
    "\n",
    "teams = create_team(20, team_names['LigaPortugal2'].values, df_name_list,\n",
    "                    mean_rate=60, min_rate=47, max_rate=75, age_mean=25)\n",
    "P2 = League(name=\"Liga Portugal2\", teams=teams,\n",
    "            num=20, min_rate=47, max_rate=75, mean_rate=60,\n",
    "            category='lowest', promotion_num=3)\n",
    "\n",
    "Portugal = CountryLeague(name=\"Portugal\", leagues=[P1, P2], competition_name=\"ポルトガル杯\")"
   ]
  },
  {
   "cell_type": "code",
   "execution_count": 11,
   "id": "fdad1fb2",
   "metadata": {},
   "outputs": [],
   "source": [
    "#ベルギー\n",
    "teams = create_team(20, team_names[\"ProLeague\"].values, df_name_list,\n",
    "                    mean_rate=66, min_rate=66)\n",
    "Be1 = League(name=\"Pro League\", teams=teams,\n",
    "            num=20, min_rate=66, max_rate=82, mean_rate=66,\n",
    "            category='top', relegation_num=3)\n",
    "\n",
    "teams = create_team(20, team_names['ChallengerProLeague'].values, df_name_list,\n",
    "                    mean_rate=60, min_rate=47, max_rate=75, age_mean=25)\n",
    "Be2 = League(name=\"ChallengerProLeague\", teams=teams,\n",
    "            num=20, min_rate=47, max_rate=75, mean_rate=60,\n",
    "            category='lowest', promotion_num=3)\n",
    "\n",
    "Belgium = CountryLeague(name=\"Belgium\", leagues=[Be1, Be2], competition_name=\"ベルギー杯\")"
   ]
  },
  {
   "cell_type": "code",
   "execution_count": 7,
   "id": "93a0af17",
   "metadata": {
    "scrolled": false
   },
   "outputs": [
    {
     "name": "stdout",
     "output_type": "stream",
     "text": [
      "2000\n"
     ]
    },
    {
     "name": "stderr",
     "output_type": "stream",
     "text": [
      "100%|█████████████████████████████████████████████████████████████████████████████████████████████████████████████████████████████| 38/38 [00:11<00:00,  3.21it/s]\n"
     ]
    },
    {
     "name": "stdout",
     "output_type": "stream",
     "text": [
      "2001\n"
     ]
    },
    {
     "name": "stderr",
     "output_type": "stream",
     "text": [
      "100%|█████████████████████████████████████████████████████████████████████████████████████████████████████████████████████████████| 38/38 [00:11<00:00,  3.27it/s]\n"
     ]
    },
    {
     "name": "stdout",
     "output_type": "stream",
     "text": [
      "2002\n"
     ]
    },
    {
     "name": "stderr",
     "output_type": "stream",
     "text": [
      "100%|█████████████████████████████████████████████████████████████████████████████████████████████████████████████████████████████| 38/38 [00:11<00:00,  3.19it/s]\n"
     ]
    },
    {
     "name": "stdout",
     "output_type": "stream",
     "text": [
      "2003\n"
     ]
    },
    {
     "name": "stderr",
     "output_type": "stream",
     "text": [
      "100%|█████████████████████████████████████████████████████████████████████████████████████████████████████████████████████████████| 38/38 [00:12<00:00,  2.96it/s]\n"
     ]
    },
    {
     "name": "stdout",
     "output_type": "stream",
     "text": [
      "2004\n"
     ]
    },
    {
     "name": "stderr",
     "output_type": "stream",
     "text": [
      "100%|█████████████████████████████████████████████████████████████████████████████████████████████████████████████████████████████| 38/38 [00:12<00:00,  3.14it/s]\n"
     ]
    }
   ],
   "source": [
    "country_leagues = [England, Spain, Germany, Portugal, Belgium]\n",
    "\n",
    "ws = World_soccer(country_leagues=country_leagues)\n",
    "\n",
    "for year in range(2000, 2005):\n",
    "    print(year)\n",
    "    ws.play_1season(year)\n",
    "    ws.play_offseason(df_name_list, year)"
   ]
  },
  {
   "cell_type": "markdown",
   "id": "d8f5825c",
   "metadata": {},
   "source": [
    "for year in range(2030,  2040):\n",
    "    print(year)\n",
    "    competition = Competition(name=f\"FA杯_{year}\")\n",
    "\n",
    "    England.play_1season(year, competition)\n",
    "    England.play_offseason(df_name_list, year)"
   ]
  },
  {
   "cell_type": "code",
   "execution_count": 8,
   "id": "0b46d3bd",
   "metadata": {},
   "outputs": [],
   "source": [
    "with open('../../data/pickle/20221108v1_5y.pickle', mode='wb') as f:\n",
    "    pickle.dump(ws, f)"
   ]
  },
  {
   "cell_type": "code",
   "execution_count": null,
   "id": "51a74e1d",
   "metadata": {},
   "outputs": [],
   "source": []
  }
 ],
 "metadata": {
  "kernelspec": {
   "display_name": "Python 3 (ipykernel)",
   "language": "python",
   "name": "python3"
  },
  "language_info": {
   "codemirror_mode": {
    "name": "ipython",
    "version": 3
   },
   "file_extension": ".py",
   "mimetype": "text/x-python",
   "name": "python",
   "nbconvert_exporter": "python",
   "pygments_lexer": "ipython3",
   "version": "3.8.10"
  }
 },
 "nbformat": 4,
 "nbformat_minor": 5
}
