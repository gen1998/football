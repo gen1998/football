{
 "cells": [
  {
   "cell_type": "code",
   "execution_count": 1,
   "id": "b135d3a6",
   "metadata": {},
   "outputs": [],
   "source": [
    "import numpy as np\n",
    "import pandas as pd\n",
    "import math\n",
    "\n",
    "pd.set_option('display.max_rows', 80)\n",
    "\n",
    "import random\n",
    "import time\n",
    "import pickle\n",
    "\n",
    "import sys\n",
    "sys.path.append(\"../../\")\n",
    "\n",
    "from src.object import *\n",
    "from src.create import *\n",
    "from src.print_result import *\n",
    "\n",
    "from config.formation import *\n",
    "from config.config import *"
   ]
  },
  {
   "cell_type": "code",
   "execution_count": 2,
   "id": "8ca6d351",
   "metadata": {},
   "outputs": [],
   "source": [
    "df_name = pd.read_csv(\"../../data/csv/NationalNames.csv\")\n",
    "df_name_list = list(df_name[df_name.Gender=='M'].Name.sample(10000))"
   ]
  },
  {
   "cell_type": "code",
   "execution_count": 3,
   "id": "df1d12e0",
   "metadata": {},
   "outputs": [],
   "source": [
    "df_place = pd.read_csv(\"../../data/csv/results.csv\")\n",
    "df_place = df_place.city.unique()\n",
    "df_place_count = 0"
   ]
  },
  {
   "cell_type": "code",
   "execution_count": 4,
   "id": "d4c60866",
   "metadata": {},
   "outputs": [],
   "source": [
    "league_team = []\n",
    "\n",
    "for i in range(20):\n",
    "    mean_rate = np.random.normal(69, 1)\n",
    "    Cp = Create_player(position_num={\"ST\":2, \"RW\":2, \"CAM\":2, \"RM\":2, \"CM\":4, \"CDM\":2, \"CB\":4, \"RB\":4, \"GK\":3}, \n",
    "                       min_rate=72, max_rate=100, \n",
    "                       age_mean=27,\n",
    "                       mean_rate=mean_rate,\n",
    "                       now_year=2000,\n",
    "                       df_name_list=df_name_list)\n",
    "    Cp.create_teams()\n",
    "    players = Cp.players\n",
    "    Cp = Create_player(position_num={\"ST\":1, \"RW\":1, \"CM\":1, \"CB\":1, \"GK\":1}, \n",
    "                       min_rate=50, max_rate=100, \n",
    "                       age_mean=27,\n",
    "                       mean_rate=mean_rate,\n",
    "                       now_year=2000,\n",
    "                       df_name_list=df_name_list)\n",
    "    Cp.create_teams(new=True)\n",
    "    players.extend(Cp.players)\n",
    "    formation = random_create_formation()\n",
    "    A = Team(name=df_place[df_place_count], \n",
    "             formation=formation,\n",
    "             min_rate=0,#これたぶんいらない\n",
    "             max_rate=100)#これもいらない\n",
    "    A.affilation_players = players\n",
    "    \n",
    "    league_team.append(A)\n",
    "    df_place_count += 1\n",
    "\n",
    "L1 = League(name=\"premier\", \n",
    "            teams=league_team,\n",
    "            num=20,\n",
    "            min_rate=75,\n",
    "            max_rate=99,\n",
    "            mean_rate=67,\n",
    "            category='top',\n",
    "            relegation_num=3)"
   ]
  },
  {
   "cell_type": "code",
   "execution_count": 5,
   "id": "24eb5b64",
   "metadata": {},
   "outputs": [],
   "source": [
    "league_team = []\n",
    "\n",
    "for i in range(20):\n",
    "    mean_rate = np.random.normal(64, 1)\n",
    "    Cp = Create_player(position_num={\"ST\":2, \"RW\":2, \"CAM\":2, \"RM\":2, \"CM\":4, \"CDM\":2, \"CB\":4, \"RB\":4, \"GK\":3}, \n",
    "                       min_rate=58, max_rate=78, \n",
    "                       age_mean=26,\n",
    "                       mean_rate=mean_rate,\n",
    "                       now_year=2000,\n",
    "                       df_name_list=df_name_list)\n",
    "    Cp.create_teams()\n",
    "    players = Cp.players\n",
    "    Cp = Create_player(position_num={\"ST\":1, \"RW\":1, \"CM\":1, \"CB\":1, \"GK\":1}, \n",
    "                       min_rate=50, max_rate=78, \n",
    "                       age_mean=26,\n",
    "                       mean_rate=mean_rate,\n",
    "                       now_year=2000,\n",
    "                       df_name_list=df_name_list)\n",
    "    Cp.create_teams(new=True)\n",
    "    players.extend(Cp.players)\n",
    "    formation = random_create_formation()\n",
    "    A = Team(name=df_place[df_place_count], \n",
    "             formation=formation,\n",
    "             min_rate=0,\n",
    "             max_rate=100)\n",
    "    A.affilation_players = players\n",
    "    \n",
    "    league_team.append(A)\n",
    "    df_place_count += 1\n",
    "\n",
    "L2 = League(name=\"championship\",\n",
    "            teams=league_team,\n",
    "            num=20,\n",
    "            min_rate=60,\n",
    "            max_rate=78,\n",
    "            mean_rate=62,\n",
    "            category='middle',\n",
    "            relegation_num=3,\n",
    "            promotion_num=3)"
   ]
  },
  {
   "cell_type": "code",
   "execution_count": 6,
   "id": "dd5bc3a3",
   "metadata": {},
   "outputs": [],
   "source": [
    "league_team = []\n",
    "\n",
    "for i in range(20):\n",
    "    mean_rate = np.random.normal(59, 1)\n",
    "    Cp = Create_player(position_num={\"ST\":2, \"RW\":2, \"CAM\":2, \"RM\":2, \"CM\":4, \"CDM\":2, \"CB\":4, \"RB\":4, \"GK\":3}, \n",
    "                       min_rate=47, max_rate=73, \n",
    "                       age_mean=25,\n",
    "                       mean_rate=mean_rate,\n",
    "                       now_year=2000,\n",
    "                       df_name_list=df_name_list)\n",
    "    Cp.create_teams()\n",
    "    players = Cp.players\n",
    "    Cp = Create_player(position_num={\"ST\":1, \"RW\":1, \"CM\":1, \"CB\":1, \"GK\":1}, \n",
    "                       min_rate=50, max_rate=100, \n",
    "                       age_mean=27,\n",
    "                       mean_rate=mean_rate,\n",
    "                       now_year=2000,\n",
    "                       df_name_list=df_name_list)\n",
    "    Cp.create_teams(new=True)\n",
    "    players.extend(Cp.players)\n",
    "    formation = random_create_formation()\n",
    "    A = Team(name=df_place[df_place_count], \n",
    "             formation=formation,\n",
    "             min_rate=0,\n",
    "             max_rate=100)\n",
    "    A.affilation_players = players\n",
    "    \n",
    "    league_team.append(A)\n",
    "    df_place_count += 1\n",
    "\n",
    "L3 = League(name=\"EFL-1\",\n",
    "            teams=league_team,\n",
    "            num=20,\n",
    "            min_rate=47,\n",
    "            max_rate=73,\n",
    "            mean_rate=58,\n",
    "            category='middle',\n",
    "            relegation_num=3,\n",
    "            promotion_num=3)"
   ]
  },
  {
   "cell_type": "code",
   "execution_count": 7,
   "id": "fc40c253",
   "metadata": {},
   "outputs": [],
   "source": [
    "league_team = []\n",
    "\n",
    "for i in range(20):\n",
    "    mean_rate = np.random.normal(54, 1)\n",
    "    Cp = Create_player(position_num={\"ST\":2, \"RW\":2, \"CAM\":2, \"RM\":2, \"CM\":4, \"CDM\":2, \"CB\":4, \"RB\":4, \"GK\":3}, \n",
    "                       min_rate=40, max_rate=68, \n",
    "                       age_mean=25,\n",
    "                       mean_rate=mean_rate,\n",
    "                       now_year=2000,\n",
    "                       df_name_list=df_name_list)\n",
    "    Cp.create_teams()\n",
    "    players = Cp.players\n",
    "    Cp = Create_player(position_num={\"ST\":1, \"RW\":1, \"CM\":1, \"CB\":1, \"GK\":1}, \n",
    "                       min_rate=50, max_rate=100, \n",
    "                       age_mean=27,\n",
    "                       mean_rate=mean_rate,\n",
    "                       now_year=2000,\n",
    "                       df_name_list=df_name_list)\n",
    "    Cp.create_teams(new=True)\n",
    "    players.extend(Cp.players)\n",
    "    formation = random_create_formation()\n",
    "    A = Team(name=df_place[df_place_count], \n",
    "             formation=formation,\n",
    "             min_rate=0,\n",
    "             max_rate=100)\n",
    "    A.affilation_players = players\n",
    "    \n",
    "    league_team.append(A)\n",
    "    df_place_count += 1\n",
    "\n",
    "L4 = League(name=\"EFL-2\",\n",
    "            teams=league_team,\n",
    "            num=20,\n",
    "            min_rate=40,\n",
    "            max_rate=68,\n",
    "            mean_rate=53,\n",
    "            category='lowest',\n",
    "            relegation_num=0,\n",
    "            promotion_num=3)"
   ]
  },
  {
   "cell_type": "code",
   "execution_count": 8,
   "id": "93a0af17",
   "metadata": {},
   "outputs": [
    {
     "name": "stdout",
     "output_type": "stream",
     "text": [
      "2000\n"
     ]
    },
    {
     "name": "stderr",
     "output_type": "stream",
     "text": [
      "100%|███████████████████████████████████████████████████████████████████████████████████| 38/38 [00:07<00:00,  5.11it/s]\n"
     ]
    },
    {
     "name": "stdout",
     "output_type": "stream",
     "text": [
      "off_season now\n",
      "2001\n"
     ]
    },
    {
     "name": "stderr",
     "output_type": "stream",
     "text": [
      "100%|███████████████████████████████████████████████████████████████████████████████████| 38/38 [00:07<00:00,  4.97it/s]\n"
     ]
    },
    {
     "name": "stdout",
     "output_type": "stream",
     "text": [
      "off_season now\n",
      "2002\n"
     ]
    },
    {
     "name": "stderr",
     "output_type": "stream",
     "text": [
      "100%|███████████████████████████████████████████████████████████████████████████████████| 38/38 [00:07<00:00,  5.28it/s]\n"
     ]
    },
    {
     "name": "stdout",
     "output_type": "stream",
     "text": [
      "off_season now\n",
      "2003\n"
     ]
    },
    {
     "name": "stderr",
     "output_type": "stream",
     "text": [
      "100%|███████████████████████████████████████████████████████████████████████████████████| 38/38 [00:07<00:00,  5.07it/s]\n"
     ]
    },
    {
     "name": "stdout",
     "output_type": "stream",
     "text": [
      "off_season now\n",
      "2004\n"
     ]
    },
    {
     "name": "stderr",
     "output_type": "stream",
     "text": [
      "100%|███████████████████████████████████████████████████████████████████████████████████| 38/38 [00:07<00:00,  4.86it/s]\n"
     ]
    },
    {
     "name": "stdout",
     "output_type": "stream",
     "text": [
      "off_season now\n",
      "2005\n"
     ]
    },
    {
     "name": "stderr",
     "output_type": "stream",
     "text": [
      "100%|███████████████████████████████████████████████████████████████████████████████████| 38/38 [00:07<00:00,  5.03it/s]\n"
     ]
    },
    {
     "name": "stdout",
     "output_type": "stream",
     "text": [
      "off_season now\n",
      "2006\n"
     ]
    },
    {
     "name": "stderr",
     "output_type": "stream",
     "text": [
      "100%|███████████████████████████████████████████████████████████████████████████████████| 38/38 [00:07<00:00,  4.91it/s]\n"
     ]
    },
    {
     "name": "stdout",
     "output_type": "stream",
     "text": [
      "off_season now\n",
      "2007\n"
     ]
    },
    {
     "name": "stderr",
     "output_type": "stream",
     "text": [
      "100%|███████████████████████████████████████████████████████████████████████████████████| 38/38 [00:07<00:00,  4.90it/s]\n"
     ]
    },
    {
     "name": "stdout",
     "output_type": "stream",
     "text": [
      "off_season now\n",
      "2008\n"
     ]
    },
    {
     "name": "stderr",
     "output_type": "stream",
     "text": [
      "100%|███████████████████████████████████████████████████████████████████████████████████| 38/38 [00:07<00:00,  4.81it/s]\n"
     ]
    },
    {
     "name": "stdout",
     "output_type": "stream",
     "text": [
      "off_season now\n",
      "2009\n"
     ]
    },
    {
     "name": "stderr",
     "output_type": "stream",
     "text": [
      "100%|███████████████████████████████████████████████████████████████████████████████████| 38/38 [00:07<00:00,  4.98it/s]\n"
     ]
    },
    {
     "name": "stdout",
     "output_type": "stream",
     "text": [
      "off_season now\n",
      "2010\n"
     ]
    },
    {
     "name": "stderr",
     "output_type": "stream",
     "text": [
      "100%|███████████████████████████████████████████████████████████████████████████████████| 38/38 [00:07<00:00,  5.00it/s]\n"
     ]
    },
    {
     "name": "stdout",
     "output_type": "stream",
     "text": [
      "off_season now\n",
      "2011\n"
     ]
    },
    {
     "name": "stderr",
     "output_type": "stream",
     "text": [
      "100%|███████████████████████████████████████████████████████████████████████████████████| 38/38 [00:07<00:00,  5.16it/s]\n"
     ]
    },
    {
     "name": "stdout",
     "output_type": "stream",
     "text": [
      "off_season now\n",
      "2012\n"
     ]
    },
    {
     "name": "stderr",
     "output_type": "stream",
     "text": [
      "100%|███████████████████████████████████████████████████████████████████████████████████| 38/38 [00:07<00:00,  4.89it/s]\n"
     ]
    },
    {
     "name": "stdout",
     "output_type": "stream",
     "text": [
      "off_season now\n",
      "2013\n"
     ]
    },
    {
     "name": "stderr",
     "output_type": "stream",
     "text": [
      "100%|███████████████████████████████████████████████████████████████████████████████████| 38/38 [00:07<00:00,  5.15it/s]\n"
     ]
    },
    {
     "name": "stdout",
     "output_type": "stream",
     "text": [
      "off_season now\n",
      "2014\n"
     ]
    },
    {
     "name": "stderr",
     "output_type": "stream",
     "text": [
      "100%|███████████████████████████████████████████████████████████████████████████████████| 38/38 [00:07<00:00,  4.97it/s]\n"
     ]
    },
    {
     "name": "stdout",
     "output_type": "stream",
     "text": [
      "off_season now\n",
      "2015\n"
     ]
    },
    {
     "name": "stderr",
     "output_type": "stream",
     "text": [
      "100%|███████████████████████████████████████████████████████████████████████████████████| 38/38 [00:07<00:00,  5.10it/s]\n"
     ]
    },
    {
     "name": "stdout",
     "output_type": "stream",
     "text": [
      "off_season now\n",
      "2016\n"
     ]
    },
    {
     "name": "stderr",
     "output_type": "stream",
     "text": [
      "100%|███████████████████████████████████████████████████████████████████████████████████| 38/38 [00:08<00:00,  4.69it/s]\n"
     ]
    },
    {
     "name": "stdout",
     "output_type": "stream",
     "text": [
      "off_season now\n",
      "2017\n"
     ]
    },
    {
     "name": "stderr",
     "output_type": "stream",
     "text": [
      "100%|███████████████████████████████████████████████████████████████████████████████████| 38/38 [00:08<00:00,  4.58it/s]\n"
     ]
    },
    {
     "name": "stdout",
     "output_type": "stream",
     "text": [
      "off_season now\n",
      "2018\n"
     ]
    },
    {
     "name": "stderr",
     "output_type": "stream",
     "text": [
      "100%|███████████████████████████████████████████████████████████████████████████████████| 38/38 [00:07<00:00,  5.10it/s]\n"
     ]
    },
    {
     "name": "stdout",
     "output_type": "stream",
     "text": [
      "off_season now\n",
      "2019\n"
     ]
    },
    {
     "name": "stderr",
     "output_type": "stream",
     "text": [
      "100%|███████████████████████████████████████████████████████████████████████████████████| 38/38 [00:07<00:00,  4.86it/s]\n"
     ]
    },
    {
     "name": "stdout",
     "output_type": "stream",
     "text": [
      "off_season now\n",
      "2020\n"
     ]
    },
    {
     "name": "stderr",
     "output_type": "stream",
     "text": [
      "100%|███████████████████████████████████████████████████████████████████████████████████| 38/38 [00:07<00:00,  5.01it/s]\n"
     ]
    },
    {
     "name": "stdout",
     "output_type": "stream",
     "text": [
      "off_season now\n",
      "2021\n"
     ]
    },
    {
     "name": "stderr",
     "output_type": "stream",
     "text": [
      "100%|███████████████████████████████████████████████████████████████████████████████████| 38/38 [00:07<00:00,  4.78it/s]\n"
     ]
    },
    {
     "name": "stdout",
     "output_type": "stream",
     "text": [
      "off_season now\n",
      "2022\n"
     ]
    },
    {
     "name": "stderr",
     "output_type": "stream",
     "text": [
      "100%|███████████████████████████████████████████████████████████████████████████████████| 38/38 [00:07<00:00,  5.00it/s]\n"
     ]
    },
    {
     "name": "stdout",
     "output_type": "stream",
     "text": [
      "off_season now\n",
      "2023\n"
     ]
    },
    {
     "name": "stderr",
     "output_type": "stream",
     "text": [
      "100%|███████████████████████████████████████████████████████████████████████████████████| 38/38 [00:07<00:00,  4.99it/s]\n"
     ]
    },
    {
     "name": "stdout",
     "output_type": "stream",
     "text": [
      "off_season now\n",
      "2024\n"
     ]
    },
    {
     "name": "stderr",
     "output_type": "stream",
     "text": [
      "100%|███████████████████████████████████████████████████████████████████████████████████| 38/38 [00:07<00:00,  4.96it/s]\n"
     ]
    },
    {
     "name": "stdout",
     "output_type": "stream",
     "text": [
      "off_season now\n",
      "2025\n"
     ]
    },
    {
     "name": "stderr",
     "output_type": "stream",
     "text": [
      "100%|███████████████████████████████████████████████████████████████████████████████████| 38/38 [00:07<00:00,  4.83it/s]\n"
     ]
    },
    {
     "name": "stdout",
     "output_type": "stream",
     "text": [
      "off_season now\n",
      "2026\n"
     ]
    },
    {
     "name": "stderr",
     "output_type": "stream",
     "text": [
      "100%|███████████████████████████████████████████████████████████████████████████████████| 38/38 [00:07<00:00,  4.89it/s]\n"
     ]
    },
    {
     "name": "stdout",
     "output_type": "stream",
     "text": [
      "off_season now\n",
      "2027\n"
     ]
    },
    {
     "name": "stderr",
     "output_type": "stream",
     "text": [
      "100%|███████████████████████████████████████████████████████████████████████████████████| 38/38 [00:07<00:00,  4.95it/s]\n"
     ]
    },
    {
     "name": "stdout",
     "output_type": "stream",
     "text": [
      "off_season now\n",
      "2028\n"
     ]
    },
    {
     "name": "stderr",
     "output_type": "stream",
     "text": [
      "100%|███████████████████████████████████████████████████████████████████████████████████| 38/38 [00:07<00:00,  4.85it/s]\n"
     ]
    },
    {
     "name": "stdout",
     "output_type": "stream",
     "text": [
      "off_season now\n",
      "2029\n"
     ]
    },
    {
     "name": "stderr",
     "output_type": "stream",
     "text": [
      "100%|███████████████████████████████████████████████████████████████████████████████████| 38/38 [00:07<00:00,  5.16it/s]\n"
     ]
    },
    {
     "name": "stdout",
     "output_type": "stream",
     "text": [
      "off_season now\n",
      "2030\n"
     ]
    },
    {
     "name": "stderr",
     "output_type": "stream",
     "text": [
      "100%|███████████████████████████████████████████████████████████████████████████████████| 38/38 [00:07<00:00,  4.85it/s]\n"
     ]
    },
    {
     "name": "stdout",
     "output_type": "stream",
     "text": [
      "off_season now\n",
      "2031\n"
     ]
    },
    {
     "name": "stderr",
     "output_type": "stream",
     "text": [
      "100%|███████████████████████████████████████████████████████████████████████████████████| 38/38 [00:07<00:00,  5.13it/s]\n"
     ]
    },
    {
     "name": "stdout",
     "output_type": "stream",
     "text": [
      "off_season now\n",
      "2032\n"
     ]
    },
    {
     "name": "stderr",
     "output_type": "stream",
     "text": [
      "100%|███████████████████████████████████████████████████████████████████████████████████| 38/38 [00:07<00:00,  4.95it/s]\n"
     ]
    },
    {
     "name": "stdout",
     "output_type": "stream",
     "text": [
      "off_season now\n",
      "2033\n"
     ]
    },
    {
     "name": "stderr",
     "output_type": "stream",
     "text": [
      "100%|███████████████████████████████████████████████████████████████████████████████████| 38/38 [00:07<00:00,  5.00it/s]\n"
     ]
    },
    {
     "name": "stdout",
     "output_type": "stream",
     "text": [
      "off_season now\n",
      "2034\n"
     ]
    },
    {
     "name": "stderr",
     "output_type": "stream",
     "text": [
      "100%|███████████████████████████████████████████████████████████████████████████████████| 38/38 [00:07<00:00,  4.95it/s]\n"
     ]
    },
    {
     "name": "stdout",
     "output_type": "stream",
     "text": [
      "off_season now\n",
      "2035\n"
     ]
    },
    {
     "name": "stderr",
     "output_type": "stream",
     "text": [
      "100%|███████████████████████████████████████████████████████████████████████████████████| 38/38 [00:07<00:00,  5.00it/s]\n"
     ]
    },
    {
     "name": "stdout",
     "output_type": "stream",
     "text": [
      "off_season now\n",
      "2036\n"
     ]
    },
    {
     "name": "stderr",
     "output_type": "stream",
     "text": [
      "100%|███████████████████████████████████████████████████████████████████████████████████| 38/38 [00:07<00:00,  5.17it/s]\n"
     ]
    },
    {
     "name": "stdout",
     "output_type": "stream",
     "text": [
      "off_season now\n",
      "2037\n"
     ]
    },
    {
     "name": "stderr",
     "output_type": "stream",
     "text": [
      "100%|███████████████████████████████████████████████████████████████████████████████████| 38/38 [00:07<00:00,  4.98it/s]\n"
     ]
    },
    {
     "name": "stdout",
     "output_type": "stream",
     "text": [
      "off_season now\n",
      "2038\n"
     ]
    },
    {
     "name": "stderr",
     "output_type": "stream",
     "text": [
      "100%|███████████████████████████████████████████████████████████████████████████████████| 38/38 [00:07<00:00,  5.09it/s]\n"
     ]
    },
    {
     "name": "stdout",
     "output_type": "stream",
     "text": [
      "off_season now\n",
      "2039\n"
     ]
    },
    {
     "name": "stderr",
     "output_type": "stream",
     "text": [
      "100%|███████████████████████████████████████████████████████████████████████████████████| 38/38 [00:07<00:00,  4.96it/s]\n"
     ]
    },
    {
     "name": "stdout",
     "output_type": "stream",
     "text": [
      "off_season now\n",
      "2040\n"
     ]
    },
    {
     "name": "stderr",
     "output_type": "stream",
     "text": [
      "100%|███████████████████████████████████████████████████████████████████████████████████| 38/38 [00:07<00:00,  4.97it/s]\n"
     ]
    },
    {
     "name": "stdout",
     "output_type": "stream",
     "text": [
      "off_season now\n",
      "2041\n"
     ]
    },
    {
     "name": "stderr",
     "output_type": "stream",
     "text": [
      "100%|███████████████████████████████████████████████████████████████████████████████████| 38/38 [00:07<00:00,  4.83it/s]\n"
     ]
    },
    {
     "name": "stdout",
     "output_type": "stream",
     "text": [
      "off_season now\n",
      "2042\n"
     ]
    },
    {
     "name": "stderr",
     "output_type": "stream",
     "text": [
      "100%|███████████████████████████████████████████████████████████████████████████████████| 38/38 [00:07<00:00,  5.00it/s]\n"
     ]
    },
    {
     "name": "stdout",
     "output_type": "stream",
     "text": [
      "off_season now\n",
      "2043\n"
     ]
    },
    {
     "name": "stderr",
     "output_type": "stream",
     "text": [
      "100%|███████████████████████████████████████████████████████████████████████████████████| 38/38 [00:07<00:00,  5.07it/s]\n"
     ]
    },
    {
     "name": "stdout",
     "output_type": "stream",
     "text": [
      "off_season now\n",
      "2044\n"
     ]
    },
    {
     "name": "stderr",
     "output_type": "stream",
     "text": [
      "100%|███████████████████████████████████████████████████████████████████████████████████| 38/38 [00:07<00:00,  4.87it/s]\n"
     ]
    },
    {
     "name": "stdout",
     "output_type": "stream",
     "text": [
      "off_season now\n",
      "2045\n"
     ]
    },
    {
     "name": "stderr",
     "output_type": "stream",
     "text": [
      "100%|███████████████████████████████████████████████████████████████████████████████████| 38/38 [00:08<00:00,  4.55it/s]\n"
     ]
    },
    {
     "name": "stdout",
     "output_type": "stream",
     "text": [
      "off_season now\n",
      "2046\n"
     ]
    },
    {
     "name": "stderr",
     "output_type": "stream",
     "text": [
      "100%|███████████████████████████████████████████████████████████████████████████████████| 38/38 [00:08<00:00,  4.55it/s]\n"
     ]
    },
    {
     "name": "stdout",
     "output_type": "stream",
     "text": [
      "off_season now\n",
      "2047\n"
     ]
    },
    {
     "name": "stderr",
     "output_type": "stream",
     "text": [
      "100%|███████████████████████████████████████████████████████████████████████████████████| 38/38 [00:07<00:00,  4.83it/s]\n"
     ]
    },
    {
     "name": "stdout",
     "output_type": "stream",
     "text": [
      "off_season now\n",
      "2048\n"
     ]
    },
    {
     "name": "stderr",
     "output_type": "stream",
     "text": [
      "100%|███████████████████████████████████████████████████████████████████████████████████| 38/38 [00:07<00:00,  5.07it/s]\n"
     ]
    },
    {
     "name": "stdout",
     "output_type": "stream",
     "text": [
      "off_season now\n",
      "2049\n"
     ]
    },
    {
     "name": "stderr",
     "output_type": "stream",
     "text": [
      "100%|███████████████████████████████████████████████████████████████████████████████████| 38/38 [00:07<00:00,  4.98it/s]\n"
     ]
    },
    {
     "name": "stdout",
     "output_type": "stream",
     "text": [
      "off_season now\n"
     ]
    }
   ],
   "source": [
    "England = ProSoccerLeague(name=\"england\", leagues=[L1, L2, L3, L4])\n",
    "\n",
    "for year in range(2000,  2050):\n",
    "    print(year)\n",
    "    competition = Competition(name=f\"FA杯_{year}\")\n",
    "\n",
    "    England.play_1season(year, competition)\n",
    "    print(\"off_season now\")\n",
    "    England.play_offseason(df_name_list, year)"
   ]
  },
  {
   "cell_type": "markdown",
   "id": "d8f5825c",
   "metadata": {},
   "source": [
    "for year in range(2030,  2040):\n",
    "    print(year)\n",
    "    competition = Competition(name=f\"FA杯_{year}\")\n",
    "\n",
    "    England.play_1season(year, competition)\n",
    "    England.play_offseason(df_name_list, year)"
   ]
  },
  {
   "cell_type": "code",
   "execution_count": 9,
   "id": "a1a3592f",
   "metadata": {},
   "outputs": [],
   "source": [
    "with open('../../data/pickle/20221023v2_50y.pickle', mode='wb') as f:\n",
    "    pickle.dump(England, f)"
   ]
  },
  {
   "cell_type": "code",
   "execution_count": null,
   "id": "ce238b59",
   "metadata": {},
   "outputs": [],
   "source": []
  }
 ],
 "metadata": {
  "kernelspec": {
   "display_name": "Python 3 (ipykernel)",
   "language": "python",
   "name": "python3"
  },
  "language_info": {
   "codemirror_mode": {
    "name": "ipython",
    "version": 3
   },
   "file_extension": ".py",
   "mimetype": "text/x-python",
   "name": "python",
   "nbconvert_exporter": "python",
   "pygments_lexer": "ipython3",
   "version": "3.8.13"
  }
 },
 "nbformat": 4,
 "nbformat_minor": 5
}
