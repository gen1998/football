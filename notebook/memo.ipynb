{
 "cells": [
  {
   "cell_type": "markdown",
   "id": "9d0e15cd",
   "metadata": {},
   "source": [
    "# 追加予定"
   ]
  },
  {
   "cell_type": "markdown",
   "id": "3a747e07",
   "metadata": {},
   "source": [
    "## 選手\n",
    "- 年齢\n",
    "- 身長・体重\n",
    "    - physicalの能力に合わせたい\n",
    "- 能力\n",
    "    - 詳細なもの\n",
    "- 国籍\n",
    "- 利き足・逆足\n",
    "- 衰え\n",
    "- 成長\n",
    "- 価値\n",
    "    - 能力より結果から\n",
    "- 契約年"
   ]
  },
  {
   "cell_type": "markdown",
   "id": "9acbb29b",
   "metadata": {},
   "source": [
    "## 試合\n",
    "- 得点者\n",
    "- アシスト者\n",
    "- 評点\n",
    "- スタミナ\n",
    "- 選手交代\n",
    "- 監督"
   ]
  },
  {
   "cell_type": "markdown",
   "id": "186aacf3",
   "metadata": {},
   "source": [
    "## チーム\n",
    "- 移籍\n",
    "    - レンタル\n",
    "        - 買取op,買取義務\n",
    "    - 移籍金\n",
    "        - FFP?\n",
    "- お金\n",
    "    - 大会報酬\n",
    "    - 給料\n",
    "    - 人気\n",
    "- 人気度\n",
    "- ユース\n",
    "- チームの成長"
   ]
  },
  {
   "cell_type": "markdown",
   "id": "130a6923",
   "metadata": {},
   "source": [
    "## リーグ\n",
    "- 歴史"
   ]
  },
  {
   "cell_type": "markdown",
   "id": "9351d26e",
   "metadata": {},
   "source": [
    "## 他\n",
    "- 監督\n",
    "- カップ戦\n",
    "- CL\n",
    "- EL\n",
    "- 代表戦"
   ]
  },
  {
   "cell_type": "code",
   "execution_count": null,
   "id": "0b73130b",
   "metadata": {},
   "outputs": [],
   "source": []
  }
 ],
 "metadata": {
  "kernelspec": {
   "display_name": "Python 3 (ipykernel)",
   "language": "python",
   "name": "python3"
  },
  "language_info": {
   "codemirror_mode": {
    "name": "ipython",
    "version": 3
   },
   "file_extension": ".py",
   "mimetype": "text/x-python",
   "name": "python",
   "nbconvert_exporter": "python",
   "pygments_lexer": "ipython3",
   "version": "3.8.10"
  }
 },
 "nbformat": 4,
 "nbformat_minor": 5
}
