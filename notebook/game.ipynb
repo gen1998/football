{
 "cells": [
  {
   "cell_type": "code",
   "execution_count": 1,
   "id": "a2232893",
   "metadata": {},
   "outputs": [],
   "source": [
    "import numpy as np\n",
    "import pandas as pd\n",
    "\n",
    "import sys\n",
    "sys.path.append(\"../\")\n",
    "\n",
    "from src.object import *\n",
    "from src.config import *\n",
    "from src.create import *\n",
    "\n",
    "from config.formation import *"
   ]
  },
  {
   "cell_type": "code",
   "execution_count": 2,
   "id": "c73b64e7",
   "metadata": {},
   "outputs": [],
   "source": [
    "F_343 = FORMATION_DICT['_343']\n",
    "F_433 = FORMATION_DICT['_433']\n",
    "F_4231 = FORMATION_DICT['_4231']"
   ]
  },
  {
   "cell_type": "code",
   "execution_count": 3,
   "id": "de2bb320",
   "metadata": {},
   "outputs": [],
   "source": [
    "df_name = pd.read_csv(\"../data/csv/NationalNames.csv\")\n",
    "df_name_list = list(df_name[df_name.Gender=='M'].Name.sample(500))"
   ]
  },
  {
   "cell_type": "code",
   "execution_count": 133,
   "id": "1f1919b5",
   "metadata": {},
   "outputs": [],
   "source": [
    "class Game:\n",
    "    def __init__(self, home, away, mid_rate=0.5, gk_rate=0.2):\n",
    "        self.home = home\n",
    "        self.away = away\n",
    "        self.mid_rate = mid_rate\n",
    "        self.gk_rate = gk_rate\n",
    "        self.home_goal = 0\n",
    "        self.away_goal = 0\n",
    "        self.result = None\n",
    "    \n",
    "    def moment_battle(self):\n",
    "        home_rate = self.home.formation.team_rate\n",
    "        away_rate = self.away.formation.team_rate\n",
    "\n",
    "        home_ratio = home_rate['ALL']/(home_rate['ALL']+away_rate['ALL'])\n",
    "        away_ratio = away_rate['ALL']/(home_rate['ALL']+away_rate['ALL'])\n",
    "        \n",
    "        home_attack = (home_rate['ATT']+home_rate['MID']*self.mid_rate)*home_ratio\n",
    "        away_attack = (away_rate['ATT']+away_rate['MID']*self.mid_rate)*away_ratio\n",
    "        \n",
    "        home_defence = (home_rate['DEF']+home_rate['MID']*self.mid_rate)*home_ratio+home_rate[\"GK\"]*self.gk_rate\n",
    "        away_defence = (away_rate['DEF']+away_rate['MID']*self.mid_rate)*away_ratio+away_rate[\"GK\"]*self.gk_rate\n",
    "        \n",
    "        if home_attack-away_defence+np.random.normal(0, 10) > 0:\n",
    "            self.home_goal += 1\n",
    "        \n",
    "        if away_attack-home_defence+np.random.normal(0, 10) > 0:\n",
    "            self.away_goal += 1\n",
    "    \n",
    "    def battle(self):\n",
    "        self.home_goal = 0\n",
    "        self.away_goal = 0\n",
    "\n",
    "        for i in range(0, 91, 15):\n",
    "            self.moment_battle()\n",
    "        \n",
    "        if self.home_goal==self.away_goal:\n",
    "            self.result=\"row\"\n",
    "        elif self.home_goal>self.away_goal:\n",
    "            self.result=\"home\"\n",
    "        else:\n",
    "            self.result=\"away\""
   ]
  },
  {
   "cell_type": "code",
   "execution_count": 134,
   "id": "e53adde9",
   "metadata": {},
   "outputs": [
    {
     "name": "stdout",
     "output_type": "stream",
     "text": [
      "{'ATT': 85.0, 'MID': 75.25, 'DEF': 82.33333333333333, 'GK': 86, 'ALL': 80.81818181818181}\n",
      "{'ATT': 78.66666666666667, 'MID': 73.66666666666667, 'DEF': 77.25, 'GK': 81, 'ALL': 77.0}\n"
     ]
    }
   ],
   "source": [
    "_343 = Formation(name=F_343[\"name\"],\n",
    "                 formation=F_343[\"formation\"],\n",
    "                 formation_priority=F_343['formation_priority'],\n",
    "                 formation_num=F_343['formation_num'])\n",
    "\n",
    "players = random_create_players(27, 3, 78, 95, df_name_list)\n",
    "A = Team(name=\"A\", formation=_343)\n",
    "\n",
    "A.set_all_players(players)\n",
    "A.set_starting_players()\n",
    "A.formation.cal_team_rate()\n",
    "\n",
    "\n",
    "_433 = Formation(name=F_433[\"name\"],\n",
    "                 formation=F_433[\"formation\"],\n",
    "                 formation_priority=F_433['formation_priority'],\n",
    "                 formation_num=F_433['formation_num'])\n",
    "\n",
    "players = random_create_players(27, 3, 70, 85, df_name_list)\n",
    "B = Team(name=\"B\", formation=_433)\n",
    "\n",
    "B.set_all_players(players)\n",
    "B.set_starting_players()\n",
    "B.formation.cal_team_rate()\n",
    "\n",
    "print(A.formation.team_rate)\n",
    "print(B.formation.team_rate)\n",
    "\n",
    "game1 = Game(home=A, away=B)\n",
    "game1.battle()"
   ]
  },
  {
   "cell_type": "code",
   "execution_count": 135,
   "id": "ab9bb6ab",
   "metadata": {},
   "outputs": [
    {
     "data": {
      "text/plain": [
       "'home'"
      ]
     },
     "execution_count": 135,
     "metadata": {},
     "output_type": "execute_result"
    }
   ],
   "source": [
    "game1.result"
   ]
  },
  {
   "cell_type": "code",
   "execution_count": 141,
   "id": "d9b164d8",
   "metadata": {},
   "outputs": [
    {
     "data": {
      "text/plain": [
       "2"
      ]
     },
     "execution_count": 141,
     "metadata": {},
     "output_type": "execute_result"
    }
   ],
   "source": [
    "np.random.randint(1, 10000)%3"
   ]
  },
  {
   "cell_type": "code",
   "execution_count": 154,
   "id": "f2372617",
   "metadata": {},
   "outputs": [
    {
     "data": {
      "text/plain": [
       "<src.object.Formation at 0x7f3181d91160>"
      ]
     },
     "execution_count": 154,
     "metadata": {},
     "output_type": "execute_result"
    }
   ],
   "source": [
    "random_create_formation()"
   ]
  },
  {
   "cell_type": "code",
   "execution_count": 153,
   "id": "bce76450",
   "metadata": {},
   "outputs": [],
   "source": [
    "N = 1000000\n"
   ]
  },
  {
   "cell_type": "code",
   "execution_count": null,
   "id": "bdfec226",
   "metadata": {},
   "outputs": [],
   "source": [
    "_4231 = Formation(name=F_4231[\"name\"],\n",
    "                 formation=F_4231[\"formation\"],\n",
    "                 formation_priority=F_4231['formation_priority'],\n",
    "                 formation_num=F_4231['formation_num'])\n",
    "\n",
    "players = random_create_players(27, 3, 78, 95, df_name_list)\n",
    "A = Team(name=\"A\", formation=_4231)\n",
    "\n",
    "A.set_all_players(players)\n",
    "A.set_starting_players()\n",
    "A.formation.cal_team_rate()\n",
    "\n",
    "print(A.formation.team_rate)"
   ]
  }
 ],
 "metadata": {
  "kernelspec": {
   "display_name": "Python 3 (ipykernel)",
   "language": "python",
   "name": "python3"
  },
  "language_info": {
   "codemirror_mode": {
    "name": "ipython",
    "version": 3
   },
   "file_extension": ".py",
   "mimetype": "text/x-python",
   "name": "python",
   "nbconvert_exporter": "python",
   "pygments_lexer": "ipython3",
   "version": "3.8.10"
  }
 },
 "nbformat": 4,
 "nbformat_minor": 5
}
