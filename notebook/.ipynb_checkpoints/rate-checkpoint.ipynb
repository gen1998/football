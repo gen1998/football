{
 "cells": [
  {
   "cell_type": "code",
   "execution_count": 9,
   "id": "8c7b5a26",
   "metadata": {},
   "outputs": [],
   "source": [
    "import numpy as np\n",
    "import pandas as pd\n",
    "\n",
    "import collections"
   ]
  },
  {
   "cell_type": "code",
   "execution_count": 2,
   "id": "5fb6141b",
   "metadata": {},
   "outputs": [],
   "source": [
    "ALL_POSITON_LOW = [\"ST\", \"CAM\", \"RW\", \"RM\", \"CM\", \"CDM\", \"RB\", \"CB\", \"RWB\"]\n",
    "ALL_POSITON = [\"ST\", \"CF\", \"CAM\", \"RW\", \"LW\", \"RM\", \"LM\", \"CM\", \"CDM\", \"RB\", \"LB\", \"CB\", \"RWB\", \"LWB\"]"
   ]
  },
  {
   "cell_type": "code",
   "execution_count": 22,
   "id": "a9186b93",
   "metadata": {},
   "outputs": [],
   "source": [
    "class Player:\n",
    "    def __init__(self, name, age, position, pace, shooting, passing, dribbling, defending, physicality):\n",
    "        self.name = name\n",
    "        self.age = age\n",
    "        self.main_position = position\n",
    "        self.pace = pace\n",
    "        self.shooting = shooting\n",
    "        self.passing = passing\n",
    "        self.dribbling = dribbling\n",
    "        self.defending = defending\n",
    "        self.physicality = physicality\n",
    "        self.main_rate = self.cal_rate(self.main_position)\n",
    "    \n",
    "    def cal_rate(self, position):\n",
    "        if position=='ST':\n",
    "            pac, sho, pas, dri, de, phy = 0.1, 0.85, 0.00, 0.03, 0, 0.05\n",
    "        if position=='CAM' or position=='CF':\n",
    "            pac, sho, pas, dri, de, phy = 0.1, 0.2, 0.43, 0.2, 0, 0.1\n",
    "        if position=='CM':\n",
    "            pac, sho, pas, dri, de, phy = 0.05, 0.05, 0.68, 0.1, 0.1, 0.05\n",
    "        if position=='CDM':\n",
    "            pac, sho, pas, dri, de, phy = 0.03, 0.0, 0.3, 0.1, 0.5, 0.1\n",
    "            \n",
    "        if position=='CB':\n",
    "            pac, sho, pas, dri, de, phy = 0.08, 0.0, 0.0, 0.0, 0.75, 0.20\n",
    "        if position=='RW' or position=='LW':\n",
    "            pac, sho, pas, dri, de, phy = 0.39, 0.05, 0.2, 0.39, 0, 0\n",
    "        if position=='LM' or position=='RM':\n",
    "            pac, sho, pas, dri, de, phy = 0.2, 0.1, 0.4, 0.15, 0.13, 0.05\n",
    "        if position=='LWB' or position=='RWB':\n",
    "            pac, sho, pas, dri, de, phy = 0.38, 0, 0.2, 0.1, 0.3, 0.05\n",
    "        if position=='LB' or position=='RB':\n",
    "            pac, sho, pas, dri, de, phy = 0.38, 0, 0.1, 0.1, 0.35, 0.1\n",
    "        \n",
    "        if position is None:\n",
    "            return 75\n",
    " \n",
    "        rate = self.pace*pac+self.shooting*sho+self.passing*pas+self.dribbling*dri+self.defending*de+self.physicality*phy\n",
    "        return np.int8(np.round(rate))\n",
    "    \n",
    "    def select_main_position(self):\n",
    "        rate_list = []\n",
    "        for pos in ALL_POSITON_LOW:\n",
    "            rate_list.append(self.cal_rate(pos))\n",
    "        self.main_position = ALL_POSITON_LOW[np.argmax(rate_list)]\n",
    "        self.main_rate = self.cal_rate(self.main_position)\n",
    "        \n",
    "        if self.main_position=='RW':\n",
    "            if np.random.rand()<0.5:\n",
    "                self.main_position='LW'\n",
    "\n",
    "        elif self.main_position=='RM':\n",
    "            if np.random.rand()<0.5:\n",
    "                self.main_position='LM'\n",
    "        \n",
    "        elif self.main_position=='CAM':\n",
    "            if np.random.rand()<0.1:\n",
    "                self.main_position='CF'\n",
    "        \n",
    "        elif self.main_position=='RWB':\n",
    "            if np.random.rand()<0.5:\n",
    "                self.main_position='LWB'\n",
    "        \n",
    "        if self.main_position=='RB':\n",
    "            if np.random.rand()<0.5:\n",
    "                self.main_position='LB'\n",
    "            \n",
    "    \n",
    "    def print_player_data(self):\n",
    "        print(self.name, '  Rate:', self.main_rate, '(', self.main_position, ')')\n",
    "        print('-'*25)\n",
    "        print('  PAC ', self.pace, '  DRI ', self.dribbling)\n",
    "        print('  SHO ', self.shooting, '  DEF ', self.defending)\n",
    "        print('  PAS ', self.passing, '  PHY ', self.physicality)\n",
    "        print()\n",
    "    \n",
    "    def print_all_rate(self):\n",
    "        print(self.name, '  Rate:', self.main_rate, '(', self.main_position, ')')\n",
    "        print('-'*25)\n",
    "        \n",
    "        print(f\"        ST:{self.cal_rate('ST')}\")\n",
    "        print(f\" LW:{self.cal_rate('LW')} CAM,CF:{self.cal_rate('CAM')} RW:{self.cal_rate('RW')}\")\n",
    "        print(f\" LM:{self.cal_rate('LM')}  CM:{self.cal_rate('CM')}    RM:{self.cal_rate('RM')}\")\n",
    "        print(f\"LWB:{self.cal_rate('LWB')} CDM:{self.cal_rate('CDM')}    RWB:{self.cal_rate('RWB')}\")\n",
    "        print(f\" LB:{self.cal_rate('LB')}  CB:{self.cal_rate('CB')}    RB:{self.cal_rate('RB')}\")\n",
    "        print()"
   ]
  },
  {
   "cell_type": "code",
   "execution_count": 4,
   "id": "4936241e",
   "metadata": {},
   "outputs": [],
   "source": [
    "class Team:\n",
    "    def __init_(self, name):\n",
    "        self.name = name\n",
    "        self.team_player = []\n",
    "    \n",
    "    def add_player(self, player):\n",
    "        self.team_player.push(player)"
   ]
  },
  {
   "cell_type": "code",
   "execution_count": 5,
   "id": "54e657fb",
   "metadata": {},
   "outputs": [],
   "source": [
    "df_name = pd.read_csv(\"../data/csv/NationalNames.csv\")\n",
    "df_name_list = list(df_name[df_name.Gender=='M'].Name.sample(500))"
   ]
  },
  {
   "cell_type": "markdown",
   "id": "8654618a",
   "metadata": {},
   "source": [
    "# それぞれの数値がとる値\n",
    "- pac, sho, pas, dri, phy\n",
    "    - 70, 10\n",
    "- def\n",
    "    - 50, 20"
   ]
  },
  {
   "cell_type": "code",
   "execution_count": 34,
   "id": "e5883e05",
   "metadata": {},
   "outputs": [],
   "source": [
    "players = []\n",
    "for i in range(100):\n",
    "    age = np.int8(np.round(np.random.normal(28, 5)))\n",
    "    pac = np.int8(np.round(np.random.normal(65, 15)))\n",
    "    sho = np.int8(np.round(np.random.normal(60, 10)))\n",
    "    pas = np.int8(np.round(np.random.normal(70, 10)))\n",
    "    dri = np.int8(np.round(np.random.normal(70, 10)))\n",
    "    de = np.int8(np.round(np.random.normal(60, 20)))\n",
    "    phy = np.int8(np.round(np.random.normal(60, 15)))\n",
    "    \n",
    "    if pac>99 or de>99 or sho>99 or pas>99 or dri>99 or phy>99:\n",
    "        continue\n",
    "\n",
    "    A = Player(age=age, name=df_name_list[i], position=None,\n",
    "               pace=pac, shooting=sho, passing=pas,\n",
    "               dribbling=dri, defending=de, physicality=phy)\n",
    "\n",
    "    A.select_main_position()\n",
    "    players.append(A)"
   ]
  },
  {
   "cell_type": "code",
   "execution_count": 40,
   "id": "29918da4",
   "metadata": {},
   "outputs": [
    {
     "name": "stdout",
     "output_type": "stream",
     "text": [
      "        ST:7\n",
      " LW:18 CAM,CF:9 RW:16\n",
      " LM:0  CM:23    RM:0\n",
      "LWB:1 CDM:10    RWB:0\n",
      " LB:1  CB:10    RB:2\n"
     ]
    }
   ],
   "source": [
    "position_list = []\n",
    "for p in players:\n",
    "    position_list.append(p.main_position)\n",
    "\n",
    "#print(collections.Counter(position_list))\n",
    "#print()\n",
    "\n",
    "team_pos = dict(collections.Counter(position_list))\n",
    "not_pos_list = list(set(ALL_POSITON)-set(team_pos.keys()))\n",
    "for pos in not_pos_list:\n",
    "    team_pos[pos] = 0\n",
    "\n",
    "print(f\"        ST:{team_pos['ST']}\")\n",
    "print(f\" LW:{team_pos['LW']} CAM,CF:{team_pos['CAM']} RW:{team_pos['RW']}\")\n",
    "print(f\" LM:{team_pos['LM']}  CM:{team_pos['CM']}    RM:{team_pos['RM']}\")\n",
    "print(f\"LWB:{team_pos['LWB']} CDM:{team_pos['CDM']}    RWB:{team_pos['RWB']}\")\n",
    "print(f\" LB:{team_pos['LB']}  CB:{team_pos['CB']}    RB:{team_pos['RB']}\")"
   ]
  },
  {
   "cell_type": "code",
   "execution_count": 36,
   "id": "aed584f7",
   "metadata": {},
   "outputs": [
    {
     "data": {
      "text/plain": [
       "Counter({'RB': 2,\n",
       "         'LW': 18,\n",
       "         'CDM': 10,\n",
       "         'RW': 16,\n",
       "         'CAM': 9,\n",
       "         'CM': 23,\n",
       "         'ST': 7,\n",
       "         'CB': 10,\n",
       "         'LWB': 1,\n",
       "         'LB': 1})"
      ]
     },
     "execution_count": 36,
     "metadata": {},
     "output_type": "execute_result"
    }
   ],
   "source": []
  },
  {
   "cell_type": "code",
   "execution_count": 37,
   "id": "6c28afaf",
   "metadata": {},
   "outputs": [
    {
     "name": "stdout",
     "output_type": "stream",
     "text": [
      "        ST:7\n",
      " LW:18 CAM,CF:9 RW:16\n",
      " LM:0  CM:23    RM:0\n",
      "LWB:1 CDM:10    RWB:0\n",
      " LB:1  CB:10    RB:2\n"
     ]
    }
   ],
   "source": []
  },
  {
   "cell_type": "code",
   "execution_count": null,
   "id": "a49612a6",
   "metadata": {},
   "outputs": [],
   "source": [
    "len(team_pos)"
   ]
  },
  {
   "cell_type": "code",
   "execution_count": null,
   "id": "bc882aee",
   "metadata": {
    "scrolled": false
   },
   "outputs": [],
   "source": [
    "for p in players:\n",
    "    if p.main_position == 'CM':# or p.main_position=='LW':\n",
    "        p.print_player_data()"
   ]
  },
  {
   "cell_type": "code",
   "execution_count": null,
   "id": "583fda38",
   "metadata": {},
   "outputs": [],
   "source": []
  }
 ],
 "metadata": {
  "kernelspec": {
   "display_name": "Python 3 (ipykernel)",
   "language": "python",
   "name": "python3"
  },
  "language_info": {
   "codemirror_mode": {
    "name": "ipython",
    "version": 3
   },
   "file_extension": ".py",
   "mimetype": "text/x-python",
   "name": "python",
   "nbconvert_exporter": "python",
   "pygments_lexer": "ipython3",
   "version": "3.8.10"
  }
 },
 "nbformat": 4,
 "nbformat_minor": 5
}
