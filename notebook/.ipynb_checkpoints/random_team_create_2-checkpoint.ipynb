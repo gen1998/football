{
 "cells": [
  {
   "cell_type": "code",
   "execution_count": 1,
   "id": "b135d3a6",
   "metadata": {},
   "outputs": [],
   "source": [
    "import numpy as np\n",
    "import pandas as pd\n",
    "\n",
    "pd.set_option('display.max_rows', 80)\n",
    "\n",
    "import random\n",
    "\n",
    "import time\n",
    "\n",
    "import sys\n",
    "sys.path.append(\"../\")\n",
    "\n",
    "from src.object import *\n",
    "from src.create import *\n",
    "\n",
    "from config.formation import *\n",
    "from config.config import *\n",
    "\n",
    "from IPython.core.interactiveshell import InteractiveShell\n",
    "InteractiveShell.ast_node_interactivity = \"all\""
   ]
  },
  {
   "cell_type": "code",
   "execution_count": 2,
   "id": "8ca6d351",
   "metadata": {},
   "outputs": [],
   "source": [
    "df_name = pd.read_csv(\"../data/csv/NationalNames.csv\")\n",
    "df_name_list = list(df_name[df_name.Gender=='M'].Name.sample(1000))"
   ]
  },
  {
   "cell_type": "code",
   "execution_count": 3,
   "id": "df1d12e0",
   "metadata": {},
   "outputs": [],
   "source": [
    "df_place = pd.read_csv(\"../data/csv/results.csv\")\n",
    "df_place = df_place.city.unique()\n",
    "df_place_count = 0"
   ]
  },
  {
   "cell_type": "code",
   "execution_count": 4,
   "id": "d4c60866",
   "metadata": {},
   "outputs": [
    {
     "ename": "KeyboardInterrupt",
     "evalue": "",
     "output_type": "error",
     "traceback": [
      "\u001b[0;31m---------------------------------------------------------------------------\u001b[0m",
      "\u001b[0;31mKeyboardInterrupt\u001b[0m                         Traceback (most recent call last)",
      "Cell \u001b[0;32mIn [4], line 11\u001b[0m\n\u001b[1;32m      5\u001b[0m max_rate \u001b[38;5;241m=\u001b[39m min_rate \u001b[38;5;241m+\u001b[39m \u001b[38;5;241m17\u001b[39m\n\u001b[1;32m      6\u001b[0m Cp \u001b[38;5;241m=\u001b[39m Create_player(position_num\u001b[38;5;241m=\u001b[39m{\u001b[38;5;124m\"\u001b[39m\u001b[38;5;124mST\u001b[39m\u001b[38;5;124m\"\u001b[39m:\u001b[38;5;241m4\u001b[39m, \u001b[38;5;124m\"\u001b[39m\u001b[38;5;124mRW\u001b[39m\u001b[38;5;124m\"\u001b[39m:\u001b[38;5;241m2\u001b[39m, \u001b[38;5;124m\"\u001b[39m\u001b[38;5;124mCAM\u001b[39m\u001b[38;5;124m\"\u001b[39m:\u001b[38;5;241m3\u001b[39m, \u001b[38;5;124m\"\u001b[39m\u001b[38;5;124mRM\u001b[39m\u001b[38;5;124m\"\u001b[39m:\u001b[38;5;241m2\u001b[39m, \u001b[38;5;124m\"\u001b[39m\u001b[38;5;124mCM\u001b[39m\u001b[38;5;124m\"\u001b[39m:\u001b[38;5;241m5\u001b[39m, \u001b[38;5;124m\"\u001b[39m\u001b[38;5;124mCDM\u001b[39m\u001b[38;5;124m\"\u001b[39m:\u001b[38;5;241m3\u001b[39m, \u001b[38;5;124m\"\u001b[39m\u001b[38;5;124mCB\u001b[39m\u001b[38;5;124m\"\u001b[39m:\u001b[38;5;241m4\u001b[39m, \u001b[38;5;124m\"\u001b[39m\u001b[38;5;124mRB\u001b[39m\u001b[38;5;124m\"\u001b[39m:\u001b[38;5;241m4\u001b[39m, \u001b[38;5;124m\"\u001b[39m\u001b[38;5;124mGK\u001b[39m\u001b[38;5;124m\"\u001b[39m:\u001b[38;5;241m3\u001b[39m}, \n\u001b[1;32m      7\u001b[0m                    min_rate\u001b[38;5;241m=\u001b[39mmin_rate, max_rate\u001b[38;5;241m=\u001b[39mmax_rate, \n\u001b[1;32m      8\u001b[0m                    age_mean\u001b[38;5;241m=\u001b[39m\u001b[38;5;241m27\u001b[39m,\n\u001b[1;32m      9\u001b[0m                    mean_rate\u001b[38;5;241m=\u001b[39mmin_rate\u001b[38;5;241m+\u001b[39m\u001b[38;5;241m7\u001b[39m,\n\u001b[1;32m     10\u001b[0m                    df_name_list\u001b[38;5;241m=\u001b[39mdf_name_list)\n\u001b[0;32m---> 11\u001b[0m \u001b[43mCp\u001b[49m\u001b[38;5;241;43m.\u001b[39;49m\u001b[43mcreate_teams\u001b[49m\u001b[43m(\u001b[49m\u001b[43m)\u001b[49m\n\u001b[1;32m     12\u001b[0m players \u001b[38;5;241m=\u001b[39m Cp\u001b[38;5;241m.\u001b[39mplayers\n\u001b[1;32m     13\u001b[0m formation \u001b[38;5;241m=\u001b[39m random_create_formation()\n",
      "File \u001b[0;32m~/program/game/football/notebook/../src/object.py:819\u001b[0m, in \u001b[0;36mCreate_player.create_teams\u001b[0;34m(self)\u001b[0m\n\u001b[1;32m    817\u001b[0m \u001b[38;5;28mself\u001b[39m\u001b[38;5;241m.\u001b[39mcreate_player(pos)\n\u001b[1;32m    818\u001b[0m age \u001b[38;5;241m=\u001b[39m \u001b[38;5;28mmin\u001b[39m(\u001b[38;5;28mmax\u001b[39m(np\u001b[38;5;241m.\u001b[39mint8(np\u001b[38;5;241m.\u001b[39mround(np\u001b[38;5;241m.\u001b[39mrandom\u001b[38;5;241m.\u001b[39mnormal(\u001b[38;5;28mself\u001b[39m\u001b[38;5;241m.\u001b[39mage_mean, \u001b[38;5;241m4\u001b[39m))), \u001b[38;5;241m18\u001b[39m), \u001b[38;5;241m37\u001b[39m)\n\u001b[0;32m--> 819\u001b[0m injury_possibility \u001b[38;5;241m=\u001b[39m np\u001b[38;5;241m.\u001b[39mrandom\u001b[38;5;241m.\u001b[39mnormal(\u001b[38;5;241m0.03\u001b[39m, \u001b[38;5;241m0.02\u001b[39m) \u001b[38;5;241m+\u001b[39m \u001b[38;5;28;43mmax\u001b[39;49m\u001b[43m(\u001b[49m\u001b[43m(\u001b[49m\u001b[38;5;28;43mself\u001b[39;49m\u001b[38;5;241;43m.\u001b[39;49m\u001b[43mpac\u001b[49m\u001b[38;5;241;43m-\u001b[39;49m\u001b[38;5;241;43m85\u001b[39;49m\u001b[43m)\u001b[49m\u001b[38;5;241;43m*\u001b[39;49m\u001b[38;5;241;43m0.005\u001b[39;49m\u001b[43m,\u001b[49m\u001b[43m \u001b[49m\u001b[38;5;241;43m0\u001b[39;49m\u001b[43m)\u001b[49m\n\u001b[1;32m    821\u001b[0m A \u001b[38;5;241m=\u001b[39m FieldPlayer(age\u001b[38;5;241m=\u001b[39mage, name\u001b[38;5;241m=\u001b[39mrandom\u001b[38;5;241m.\u001b[39mchoice(\u001b[38;5;28mself\u001b[39m\u001b[38;5;241m.\u001b[39mdf_name_list), position\u001b[38;5;241m=\u001b[39m\u001b[38;5;28;01mNone\u001b[39;00m,\n\u001b[1;32m    822\u001b[0m             pace\u001b[38;5;241m=\u001b[39m\u001b[38;5;28mself\u001b[39m\u001b[38;5;241m.\u001b[39mpac, shooting\u001b[38;5;241m=\u001b[39m\u001b[38;5;28mself\u001b[39m\u001b[38;5;241m.\u001b[39msho, passing\u001b[38;5;241m=\u001b[39m\u001b[38;5;28mself\u001b[39m\u001b[38;5;241m.\u001b[39mpas,\n\u001b[1;32m    823\u001b[0m             dribbling\u001b[38;5;241m=\u001b[39m\u001b[38;5;28mself\u001b[39m\u001b[38;5;241m.\u001b[39mdri, defending\u001b[38;5;241m=\u001b[39m\u001b[38;5;28mself\u001b[39m\u001b[38;5;241m.\u001b[39mde, physicality\u001b[38;5;241m=\u001b[39m\u001b[38;5;28mself\u001b[39m\u001b[38;5;241m.\u001b[39mphy,\n\u001b[1;32m    824\u001b[0m             injury_possibility\u001b[38;5;241m=\u001b[39minjury_possibility)\n\u001b[1;32m    826\u001b[0m A\u001b[38;5;241m.\u001b[39mselect_main_position()\n",
      "\u001b[0;31mKeyboardInterrupt\u001b[0m: "
     ]
    }
   ],
   "source": [
    "league_team = []\n",
    "\n",
    "for i in range(20):\n",
    "    min_rate = np.random.normal(71, 2.5)\n",
    "    max_rate = min_rate + 17\n",
    "    Cp = Create_player(position_num={\"ST\":4, \"RW\":2, \"CAM\":3, \"RM\":2, \"CM\":5, \"CDM\":3, \"CB\":4, \"RB\":4, \"GK\":3}, \n",
    "                       min_rate=min_rate, max_rate=max_rate, \n",
    "                       age_mean=27,\n",
    "                       mean_rate=min_rate+7,\n",
    "                       df_name_list=df_name_list)\n",
    "    Cp.create_teams()\n",
    "    players = Cp.players\n",
    "    formation = random_create_formation()\n",
    "    A = Team(name=df_place[df_place_count], \n",
    "             formation=formation,\n",
    "             min_rate=min_rate,\n",
    "             max_rate=max_rate)\n",
    "    A.affilation_players = players\n",
    "    \n",
    "    league_team.append(A)\n",
    "    df_place_count += 1\n",
    "\n",
    "L1 = League(name=\"premia\", \n",
    "            teams=league_team,\n",
    "            num=20,\n",
    "            min_rate=75,\n",
    "            max_rate=90,\n",
    "            mean_rate=80,\n",
    "            category='top',\n",
    "            relegation_num=3)"
   ]
  },
  {
   "cell_type": "code",
   "execution_count": null,
   "id": "24eb5b64",
   "metadata": {},
   "outputs": [],
   "source": [
    "league_team = []\n",
    "\n",
    "for i in range(20):\n",
    "    min_rate = np.random.randint(63, 73)\n",
    "    max_rate = min_rate + 7\n",
    "    Cp = Create_player(position_num={\"ST\":4, \"RW\":2, \"CAM\":3, \"RM\":2, \"CM\":5, \"CDM\":3, \"CB\":4, \"RB\":4, \"GK\":3}, \n",
    "                       min_rate=min_rate, max_rate=max_rate, \n",
    "                       age_mean=27,\n",
    "                       mean_rate=min_rate+3,\n",
    "                       df_name_list=df_name_list)\n",
    "    Cp.create_teams()\n",
    "    players = Cp.players\n",
    "    formation = random_create_formation()\n",
    "    A = Team(name=df_place[df_place_count], \n",
    "             formation=formation,\n",
    "             min_rate=min_rate,\n",
    "             max_rate=max_rate)\n",
    "    A.affilation_players = players\n",
    "    \n",
    "    league_team.append(A)\n",
    "    df_place_count += 1\n",
    "\n",
    "L2 = League(name=\"championship\",\n",
    "            teams=league_team,\n",
    "            num=20,\n",
    "            min_rate=63,\n",
    "            max_rate=78,\n",
    "            mean_rate=70\n",
    "            category='middle',\n",
    "            relegation_num=3,\n",
    "            promotion_num=3)"
   ]
  },
  {
   "cell_type": "code",
   "execution_count": null,
   "id": "dd5bc3a3",
   "metadata": {},
   "outputs": [],
   "source": [
    "league_team = []\n",
    "\n",
    "for i in range(20):\n",
    "    min_rate = np.random.randint(60, 68)\n",
    "    max_rate = min_rate + 7\n",
    "    Cp = Create_player(position_num={\"ST\":4, \"RW\":2, \"CAM\":3, \"RM\":2, \"CM\":5, \"CDM\":3, \"CB\":4, \"RB\":4, \"GK\":3}, \n",
    "                       min_rate=min_rate, max_rate=max_rate, \n",
    "                       age_mean=27,\n",
    "                       mean_rate=min_rate+3,\n",
    "                       df_name_list=df_name_list)\n",
    "    Cp.create_teams()\n",
    "    players = Cp.players\n",
    "    formation = random_create_formation()\n",
    "    A = Team(name=df_place[df_place_count], \n",
    "             formation=formation,\n",
    "             min_rate=min_rate,\n",
    "             max_rate=max_rate)\n",
    "    A.affilation_players = players\n",
    "    \n",
    "    league_team.append(A)\n",
    "    df_place_count += 1\n",
    "\n",
    "L3 = League(name=\"EFL\",\n",
    "            teams=league_team,\n",
    "            num=20,\n",
    "            min_rate=60,\n",
    "            max_rate=73,\n",
    "            mean_rate=75,\n",
    "            category='lowest',\n",
    "            relegation_num=0,\n",
    "            promotion_num=3)"
   ]
  },
  {
   "cell_type": "code",
   "execution_count": null,
   "id": "93a0af17",
   "metadata": {
    "scrolled": true
   },
   "outputs": [],
   "source": [
    "England = ProSoccerLeague(name=\"england\", leagues=[L1, L2, L3])\n",
    "\n",
    "for year in range(2000,  2020):\n",
    "    print(year)\n",
    "    competition = Competition(name=f\"FA杯_{year}\")\n",
    "\n",
    "    England.play_1season(year, competition)\n",
    "    England.play_offseason(df_name_list)"
   ]
  },
  {
   "cell_type": "code",
   "execution_count": null,
   "id": "f2a07862",
   "metadata": {},
   "outputs": [],
   "source": [
    "all_member = pd.DataFrame()\n",
    "for l in England.leagues:\n",
    "    for t in l.teams:\n",
    "        for p in t.affilation_players:\n",
    "            buff = pd.DataFrame(np.array([[p.name, p.uuid, p.age, p.main_position, p.main_rate, p.pace, p.shooting, p.passing, p.dribbling, p.defending, p.physicality, \"現役\"]]), \n",
    "                                columns = [\"名前\", \"uuid\", \"年齢\", \"ポジション\", \"Rate\", \"pac\", \"sho\", \"pas\", \"dri\", \"def\", \"phy\", \"進退\"])\n",
    "            all_member = pd.concat([all_member, buff])\n",
    "        for p in t.retire_players:\n",
    "            buff = pd.DataFrame(np.array([[p.name, p.uuid, p.age, p.main_position, p.main_rate, p.pace, p.shooting, p.passing, p.dribbling, p.defending, p.physicality, \"引退\"]]), \n",
    "                                columns = [\"名前\", \"uuid\", \"年齢\", \"ポジション\", \"Rate\", \"pac\", \"sho\", \"pas\", \"dri\", \"def\", \"phy\", \"進退\"])\n",
    "            all_member = pd.concat([all_member, buff])\n",
    "all_member = all_member.reset_index(drop=True)"
   ]
  },
  {
   "cell_type": "markdown",
   "id": "9c04acaf",
   "metadata": {},
   "source": [
    "# 結果一覧"
   ]
  },
  {
   "cell_type": "markdown",
   "id": "4337f171",
   "metadata": {},
   "source": [
    "## リーグ・カップ戦結果"
   ]
  },
  {
   "cell_type": "code",
   "execution_count": null,
   "id": "14413ac1",
   "metadata": {},
   "outputs": [],
   "source": [
    "league_num = 1\n",
    "\n",
    "print(\"チーム一覧\")\n",
    "print([t.name for t in England.leagues[league_num].teams])\n",
    "\n",
    "England.leagues[league_num].champion\n",
    "\n",
    "England.competition_result_top"
   ]
  },
  {
   "cell_type": "markdown",
   "id": "38cb4f17",
   "metadata": {},
   "source": [
    "## チームごとの結果"
   ]
  },
  {
   "cell_type": "code",
   "execution_count": null,
   "id": "73dc5284",
   "metadata": {
    "scrolled": false
   },
   "outputs": [],
   "source": [
    "team_num = 16\n",
    "\n",
    "print(England.leagues[league_num].teams[team_num].name)\n",
    "b = England.leagues[league_num].teams[team_num].competition_result\n",
    "pd.DataFrame(b.values(), index=b.keys(), columns=[\"ラウンド\"])\n",
    "England.leagues[league_num].teams[team_num].result\n",
    "\n",
    "output = England.players_result\n",
    "output = output[output[\"チーム\"]==England.leagues[league_num].teams[team_num].name]\n",
    "output = output[output[\"分類\"]==\"リーグ\"]\n",
    "output.groupby(\"uuid\").sum()[[\"ポジション\", \"試合数\", \"goal\", \"assist\", \"CS\"]].sort_values(\"assist\", ascending=False).head(40)"
   ]
  },
  {
   "cell_type": "markdown",
   "id": "727c1431",
   "metadata": {},
   "source": [
    "## 選手ごとの結果"
   ]
  },
  {
   "cell_type": "code",
   "execution_count": null,
   "id": "49cdc5d2",
   "metadata": {},
   "outputs": [],
   "source": [
    "uuid_ = \"828dd7e0-43aa-11ed-88b2-00155d19776f\"\n",
    "all_member[all_member.uuid==uuid.UUID(f\"{uuid_}\")]\n",
    "\n",
    "output = England.players_result\n",
    "output = output[output.uuid==uuid.UUID(f\"{uuid_}\")]\n",
    "output[output[\"分類\"]==\"リーグ\"]"
   ]
  },
  {
   "cell_type": "markdown",
   "id": "9519fdb2",
   "metadata": {},
   "source": [
    "## 年ごとの結果"
   ]
  },
  {
   "cell_type": "code",
   "execution_count": null,
   "id": "572015c0",
   "metadata": {
    "scrolled": false
   },
   "outputs": [],
   "source": [
    "year = 2001\n",
    "league_name = f\"{England.leagues[league_num].name}_{year}\"\n",
    "competition_name = f\"FA杯_{year}\"\n",
    "England.leagues[league_num].team_result[league_name]\n",
    "England.competition_result[competition_name]"
   ]
  },
  {
   "cell_type": "code",
   "execution_count": null,
   "id": "192ae268",
   "metadata": {},
   "outputs": [],
   "source": [
    "England.leagues[league_num].teams[team_num].formation.print_formation()"
   ]
  },
  {
   "cell_type": "code",
   "execution_count": null,
   "id": "fbadbe62",
   "metadata": {},
   "outputs": [],
   "source": []
  }
 ],
 "metadata": {
  "kernelspec": {
   "display_name": "Python 3 (ipykernel)",
   "language": "python",
   "name": "python3"
  },
  "language_info": {
   "codemirror_mode": {
    "name": "ipython",
    "version": 3
   },
   "file_extension": ".py",
   "mimetype": "text/x-python",
   "name": "python",
   "nbconvert_exporter": "python",
   "pygments_lexer": "ipython3",
   "version": "3.8.10"
  }
 },
 "nbformat": 4,
 "nbformat_minor": 5
}
