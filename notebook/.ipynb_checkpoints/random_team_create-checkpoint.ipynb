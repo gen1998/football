{
 "cells": [
  {
   "cell_type": "code",
   "execution_count": 1,
   "id": "c83e07e1",
   "metadata": {},
   "outputs": [],
   "source": [
    "import numpy as np\n",
    "import pandas as pd"
   ]
  },
  {
   "cell_type": "code",
   "execution_count": null,
   "id": "1fa2ef8d",
   "metadata": {},
   "outputs": [],
   "source": [
    "class Create_player:\n",
    "    def __init__(self, position_num, min_rate, max_rate, df_name_list):\n",
    "        self.position_num = position_num\n",
    "        self.min_rate = min_rate\n",
    "        self.max_rate = max_rate\n",
    "        \n",
    "        self.age_mean = 17\n",
    "        self.players = []\n",
    "        \n",
    "        # buff zone\n",
    "        self.pac = 0\n",
    "        self.sho = 0\n",
    "        self.pas = 0\n",
    "        self.dri = 0\n",
    "        self.de = 0\n",
    "        self.phy = 0\n",
    "    \n",
    "    def create_teams(self):\n",
    "        num = position_num[\"ST\"]\n",
    "        self.create_ST(\"ST\")\n",
    "        injury_possibility = np.random.normal(0.03, 0.02) + max((pac-85)*0.005, 0)\n",
    "\n",
    "        A = FieldPlayer(age=age, name=random.choice(df_name_list), position=None,\n",
    "                    pace=self.pac, shooting=self.sho, passing=self.pas,\n",
    "                    dribbling=self.dri, defending=self.de, physicality=self.phy,\n",
    "                    injury_possibility=injury_possibility)\n",
    "\n",
    "        A.select_main_position()\n",
    "        if A.main_rate<self.min_rate or A.main_rate>self.max_rate:\n",
    "            continue\n",
    "        A.cal_all_rate()\n",
    "        self.players.append(A)\n",
    "        count += 1\n",
    "\n",
    "    def create_player(self, pos):\n",
    "        while True:\n",
    "            if pos == \"ST\":\n",
    "                self.pac = np.int8(np.round(np.random.normal(70, 10)))\n",
    "                self.sho = np.int8(np.round(np.random.normal(pac, 3)))\n",
    "                self.pas = np.int8(np.round(np.random.normal(60, 10)))\n",
    "                self.dri = np.int8(np.round(np.random.normal(pac, 3)))\n",
    "                self.de = np.int8(np.round(np.random.normal(30, 10)))\n",
    "                self.phy = np.int8(np.round(np.random.normal(60, 10)))\n",
    "\n",
    "            if self.pac>99 and self.de>99 or self.sho>99 or self.pas>99 or self.dri>99 or self.phy>99:\n",
    "                continue\n",
    "            else:\n",
    "                break"
   ]
  },
  {
   "cell_type": "code",
   "execution_count": 3,
   "id": "1663efa6",
   "metadata": {},
   "outputs": [
    {
     "name": "stdout",
     "output_type": "stream",
     "text": [
      "11.977508686530081\n",
      "11.758979010141381\n",
      "12.305152649787114\n",
      "10.987610473739979\n"
     ]
    }
   ],
   "source": [
    "while True:\n",
    "    i = np.random.normal(10, 2)\n",
    "    print(i)\n",
    "    if i>11:\n",
    "        continue\n",
    "    else:\n",
    "        break"
   ]
  },
  {
   "cell_type": "code",
   "execution_count": 2,
   "id": "3f4b02c2",
   "metadata": {},
   "outputs": [],
   "source": [
    "k = [\"a\", \"c\", \"f\"]"
   ]
  },
  {
   "cell_type": "code",
   "execution_count": 3,
   "id": "83d42b24",
   "metadata": {},
   "outputs": [
    {
     "ename": "AttributeError",
     "evalue": "'list' object has no attribute 'sample'",
     "output_type": "error",
     "traceback": [
      "\u001b[0;31m---------------------------------------------------------------------------\u001b[0m",
      "\u001b[0;31mAttributeError\u001b[0m                            Traceback (most recent call last)",
      "Cell \u001b[0;32mIn [3], line 1\u001b[0m\n\u001b[0;32m----> 1\u001b[0m \u001b[43mk\u001b[49m\u001b[38;5;241;43m.\u001b[39;49m\u001b[43msample\u001b[49m(\u001b[38;5;241m1\u001b[39m)\n",
      "\u001b[0;31mAttributeError\u001b[0m: 'list' object has no attribute 'sample'"
     ]
    }
   ],
   "source": [
    "k.sample(1)"
   ]
  },
  {
   "cell_type": "code",
   "execution_count": 4,
   "id": "214f62e4",
   "metadata": {},
   "outputs": [],
   "source": [
    "import random"
   ]
  },
  {
   "cell_type": "code",
   "execution_count": 5,
   "id": "d8950e40",
   "metadata": {},
   "outputs": [
    {
     "data": {
      "text/plain": [
       "'a'"
      ]
     },
     "execution_count": 5,
     "metadata": {},
     "output_type": "execute_result"
    }
   ],
   "source": [
    "random.choice(k)"
   ]
  },
  {
   "cell_type": "code",
   "execution_count": null,
   "id": "6a2cfea2",
   "metadata": {},
   "outputs": [],
   "source": []
  }
 ],
 "metadata": {
  "kernelspec": {
   "display_name": "Python 3 (ipykernel)",
   "language": "python",
   "name": "python3"
  },
  "language_info": {
   "codemirror_mode": {
    "name": "ipython",
    "version": 3
   },
   "file_extension": ".py",
   "mimetype": "text/x-python",
   "name": "python",
   "nbconvert_exporter": "python",
   "pygments_lexer": "ipython3",
   "version": "3.8.10"
  }
 },
 "nbformat": 4,
 "nbformat_minor": 5
}
