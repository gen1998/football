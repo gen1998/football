{
 "cells": [
  {
   "cell_type": "code",
   "execution_count": 1,
   "id": "fa254db7",
   "metadata": {},
   "outputs": [],
   "source": [
    "import numpy as np\n",
    "import pandas as pd"
   ]
  },
  {
   "cell_type": "code",
   "execution_count": 2,
   "id": "a59f42a0",
   "metadata": {},
   "outputs": [],
   "source": [
    "import sys\n",
    "sys.path.append(\"../\")\n",
    "\n",
    "from src.object import *\n",
    "from src.config import *"
   ]
  },
  {
   "cell_type": "code",
   "execution_count": 3,
   "id": "408f7f81",
   "metadata": {},
   "outputs": [],
   "source": [
    "class FootBaller:\n",
    "    def __init__(self, name, age):\n",
    "        self.age = age\n",
    "        self.name = name"
   ]
  },
  {
   "cell_type": "code",
   "execution_count": 4,
   "id": "d0beefa2",
   "metadata": {},
   "outputs": [],
   "source": [
    "class FieldPlayer(FootBaller):\n",
    "    def __init__(self, name, age, position, pace, shooting, passing, dribbling, defending, physicality):\n",
    "        super().__init__(name, age)\n",
    "        self.main_position = position\n",
    "        self.pace = pace\n",
    "        self.shooting = shooting\n",
    "        self.passing = passing\n",
    "        self.dribbling = dribbling\n",
    "        self.defending = defending\n",
    "        self.physicality = physicality\n",
    "        self.main_rate = self.cal_rate(self.main_position)\n",
    "    \n",
    "    def cal_rate(self, position):\n",
    "        if position=='ST':\n",
    "            pac, sho, pas, dri, de, phy = 0.10, 0.80, 0.00, 0.03, 0.00, 0.10\n",
    "        if position=='CAM' or position=='CF':\n",
    "            pac, sho, pas, dri, de, phy = 0.10, 0.30, 0.38, 0.20, 0.00, 0.05\n",
    "        if position=='CM':\n",
    "            pac, sho, pas, dri, de, phy = 0.05, 0.05, 0.58, 0.20, 0.10, 0.05\n",
    "        if position=='CDM':\n",
    "            pac, sho, pas, dri, de, phy = 0.03, 0.00, 0.30, 0.10, 0.40, 0.20\n",
    "\n",
    "        if position=='CB':\n",
    "            pac, sho, pas, dri, de, phy = 0.08, 0.00, 0.00, 0.00, 0.75, 0.20\n",
    "\n",
    "        if position=='RW' or position=='LW':\n",
    "            pac, sho, pas, dri, de, phy = 0.39, 0.10, 0.15, 0.39, 0.00, 0.00\n",
    "        if position=='LM' or position=='RM':\n",
    "            pac, sho, pas, dri, de, phy = 0.20, 0.20, 0.33, 0.20, 0.10, 0.00\n",
    "        if position=='LWB' or position=='RWB':\n",
    "            pac, sho, pas, dri, de, phy = 0.38, 0.00, 0.20, 0.10, 0.30, 0.05\n",
    "        if position=='LB' or position=='RB':\n",
    "            pac, sho, pas, dri, de, phy = 0.38, 0.00, 0.10, 0.20, 0.30, 0.05\n",
    "        \n",
    "        if position is None:\n",
    "            return 75\n",
    " \n",
    "        rate = self.pace*pac+self.shooting*sho+self.passing*pas+self.dribbling*dri+self.defending*de+self.physicality*phy\n",
    "        return np.int8(np.round(rate))\n",
    "    \n",
    "    def select_main_position(self):\n",
    "        rate_list = []\n",
    "        for pos in ALL_POSITON_LOW:\n",
    "            rate_list.append(self.cal_rate(pos))\n",
    "        self.main_position = ALL_POSITON_LOW[np.argmax(rate_list)]\n",
    "        self.main_rate = self.cal_rate(self.main_position)\n",
    "        \n",
    "        if self.main_position=='RW':\n",
    "            if np.random.rand()<0.5:\n",
    "                self.main_position='LW'\n",
    "\n",
    "        elif self.main_position=='RM':\n",
    "            if np.random.rand()<0.5:\n",
    "                self.main_position='LM'\n",
    "        \n",
    "        elif self.main_position=='CAM':\n",
    "            if np.random.rand()<0.1:\n",
    "                self.main_position='CF'\n",
    "        \n",
    "        elif self.main_position=='RWB':\n",
    "            if np.random.rand()<0.5:\n",
    "                self.main_position='LWB'\n",
    "        \n",
    "        if self.main_position=='RB':\n",
    "            if np.random.rand()<0.5:\n",
    "                self.main_position='LB'\n",
    "    \n",
    "    def print_player_data(self):\n",
    "        print(self.name, '  Rate:', self.main_rate, '(', self.main_position, ')')\n",
    "        print('-'*25)\n",
    "        print('  PAC ', self.pace, '  DRI ', self.dribbling)\n",
    "        print('  SHO ', self.shooting, '  DEF ', self.defending)\n",
    "        print('  PAS ', self.passing, '  PHY ', self.physicality)\n",
    "        print()\n",
    "        \n",
    "        print(f\"        ST:{self.cal_rate('ST')}\")\n",
    "        print(f\" LW:{self.cal_rate('LW')} CAM,CF:{self.cal_rate('CAM')} RW:{self.cal_rate('RW')}\")\n",
    "        print(f\" LM:{self.cal_rate('LM')}  CM:{self.cal_rate('CM')}    RM:{self.cal_rate('RM')}\")\n",
    "        print(f\"LWB:{self.cal_rate('LWB')} CDM:{self.cal_rate('CDM')}    RWB:{self.cal_rate('RWB')}\")\n",
    "        print(f\" LB:{self.cal_rate('LB')}  CB:{self.cal_rate('CB')}    RB:{self.cal_rate('RB')}\")\n",
    "        print()"
   ]
  },
  {
   "cell_type": "code",
   "execution_count": 6,
   "id": "aba8c989",
   "metadata": {},
   "outputs": [
    {
     "name": "stdout",
     "output_type": "stream",
     "text": [
      "Lewandwski   Rate: 92 ( ST )\n",
      "-------------------------\n",
      "  PAC  78   DRI  86\n",
      "  SHO  92   DEF  44\n",
      "  PAS  79   PHY  82\n",
      "\n",
      "        ST:92\n",
      " LW:85 CAM,CF:87 RW:85\n",
      " LM:82  CM:80    RM:82\n",
      "LWB:71 CDM:69    RWB:71\n",
      " LB:72  CB:56    RB:72\n",
      "\n"
     ]
    }
   ],
   "source": [
    "lewa = FieldPlayer(\"Lewandwski\", 34, 'ST', 78, 92, 79, 86, 44, 82)\n",
    "lewa.print_player_data()"
   ]
  },
  {
   "cell_type": "code",
   "execution_count": 22,
   "id": "34ccd0d4",
   "metadata": {},
   "outputs": [],
   "source": [
    "class GK(FootBaller):\n",
    "    def __init__(self, name, age, position, diving, handling, kicking, reflexes, speed, positioning):\n",
    "        super().__init__(name, age)\n",
    "        self.main_position = position\n",
    "        self.diving = diving\n",
    "        self.handling = handling\n",
    "        self.kicking = kicking\n",
    "        self.reflexes = reflexes\n",
    "        self.speed = speed\n",
    "        self.positioning = positioning\n",
    "        self.main_rate = self.cal_rate_gk()\n",
    "    \n",
    "    def cal_rate_gk(self):\n",
    "        div, han, kic, ref, spe, pos = 0.22, 0.22, 0.1, 0.22, 0.05, 0.22\n",
    "        output = self.diving*div + self.handling*han + self.kicking*kic + self.reflexes*ref + self.speed*spe + self.positioning*pos\n",
    "        return np.int8(np.round(output))\n",
    "\n",
    "    def print_player_data_gk(self):\n",
    "        print(self.name, '  Rate:', self.main_rate, '(', self.main_position, ')')\n",
    "        print('-'*25)\n",
    "        print('  DIV ', self.diving, '  REF ', self.reflexes)\n",
    "        print('  HAN ', self.handling, '  SPE ', self.speed)\n",
    "        print('  KIC ', self.kicking, '  POS ', self.positioning)\n",
    "        print()"
   ]
  },
  {
   "cell_type": "code",
   "execution_count": 23,
   "id": "5484fac9",
   "metadata": {},
   "outputs": [],
   "source": [
    "don = GK(name=\"Donnarumma\", age=24, position=\"GK\",\n",
    "         diving=98, handling=90, kicking=90,\n",
    "         reflexes=97, speed=63, positioning=92)"
   ]
  },
  {
   "cell_type": "code",
   "execution_count": 24,
   "id": "79227d10",
   "metadata": {},
   "outputs": [
    {
     "name": "stdout",
     "output_type": "stream",
     "text": [
      "Donnarumma   Rate: 95 ( GK )\n",
      "-------------------------\n",
      "  DIV  98   REF  97\n",
      "  HAN  90   SPE  63\n",
      "  KIC  90   POS  92\n",
      "\n"
     ]
    }
   ],
   "source": [
    "don.print_player_data_gk()"
   ]
  },
  {
   "cell_type": "code",
   "execution_count": null,
   "id": "235c896d",
   "metadata": {},
   "outputs": [],
   "source": []
  }
 ],
 "metadata": {
  "kernelspec": {
   "display_name": "Python 3 (ipykernel)",
   "language": "python",
   "name": "python3"
  },
  "language_info": {
   "codemirror_mode": {
    "name": "ipython",
    "version": 3
   },
   "file_extension": ".py",
   "mimetype": "text/x-python",
   "name": "python",
   "nbconvert_exporter": "python",
   "pygments_lexer": "ipython3",
   "version": "3.8.10"
  }
 },
 "nbformat": 4,
 "nbformat_minor": 5
}
