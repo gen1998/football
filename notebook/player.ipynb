{
 "cells": [
  {
   "cell_type": "code",
   "execution_count": 2,
   "id": "343b3f28",
   "metadata": {},
   "outputs": [],
   "source": [
    "import numpy as np\n",
    "import pandas as pd"
   ]
  },
  {
   "cell_type": "code",
   "execution_count": 3,
   "id": "ca961d04",
   "metadata": {},
   "outputs": [],
   "source": [
    "class Team:\n",
    "    def __init_(self, name):\n",
    "        self.name = name\n",
    "        self.team_player = []\n",
    "    \n",
    "    def add_player(self, player):\n",
    "        self.team_player.push(player)"
   ]
  },
  {
   "cell_type": "code",
   "execution_count": 254,
   "id": "58eb482c",
   "metadata": {},
   "outputs": [],
   "source": [
    "class Player:\n",
    "    def __init__(self, name, age, position, pace, shooting, passing, dribbling, defending, physicality):\n",
    "        self.name = name\n",
    "        self.age = age\n",
    "        self.main_position = position\n",
    "        self.pace = pace\n",
    "        self.shooting = shooting\n",
    "        self.passing = passing\n",
    "        self.dribbling = dribbling\n",
    "        self.defending = defending\n",
    "        self.physicality = physicality\n",
    "        self.main_rate = self.cal_rate(self.main_position)\n",
    "    \n",
    "    def cal_rate(self, position):\n",
    "        if position=='ST':\n",
    "            pac, sho, pas, dri, de, phy = 0.1, 0.85, 0.00, 0.03, 0, 0.05\n",
    "        if position=='RW' or position=='LW':\n",
    "            pac, sho, pas, dri, de, phy = 0.39, 0.05, 0.2, 0.39, 0, 0\n",
    "        if position=='CAM' or position=='CF':\n",
    "            pac, sho, pas, dri, de, phy = 0.1, 0.2, 0.43, 0.2, 0, 0.1\n",
    "        if position=='LM' or position=='RM':\n",
    "            pac, sho, pas, dri, de, phy = 0.2, 0.1, 0.4, 0.15, 0.13, 0.05\n",
    "        if position=='CM':\n",
    "            pac, sho, pas, dri, de, phy = 0.05, 0.05, 0.68, 0.1, 0.1, 0.05\n",
    "        if position=='CDM':\n",
    "            pac, sho, pas, dri, de, phy = 0.03, 0.0, 0.3, 0.1, 0.5, 0.1\n",
    "        if position=='LWB' or position=='RWB':\n",
    "            pac, sho, pas, dri, de, phy = 0.38, 0, 0.2, 0.1, 0.3, 0.05\n",
    "        if position=='CB':\n",
    "            pac, sho, pas, dri, de, phy = 0.08, 0.0, 0.0, 0.0, 0.75, 0.20\n",
    "        if position=='LB' or position=='RB':\n",
    "            pac, sho, pas, dri, de, phy = 0.38, 0, 0.1, 0.1, 0.35, 0.1\n",
    " \n",
    "        rate = self.pace*pac+self.shooting*sho+self.passing*pas+self.dribbling*dri+self.defending*de+self.physicality*phy\n",
    "        return np.int8(np.round(rate))\n",
    "    \n",
    "    def print_player_data(self):\n",
    "        print(self.name, '  Rate:', self.main_rate, '(', self.main_position, ')')\n",
    "        print('-'*25)\n",
    "        print('  PAC ', self.pace, '  DRI ', self.dribbling)\n",
    "        print('  SHO ', self.shooting, '  DEF ', self.defending)\n",
    "        print('  PAS ', self.passing, '  PHY ', self.physicality)\n",
    "        print()\n",
    "    \n",
    "    def print_all_rate(self):\n",
    "        print(self.name, '  Rate:', self.main_rate, '(', self.main_position, ')')\n",
    "        print('-'*25)\n",
    "        \n",
    "        print(f\"        ST:{self.cal_rate('ST')}\")\n",
    "        print(f\" LW:{self.cal_rate('LW')} CAM,CF:{self.cal_rate('CAM')} RW:{self.cal_rate('RW')}\")\n",
    "        print(f\" LM:{self.cal_rate('LM')}  CM:{self.cal_rate('CM')}    RM:{self.cal_rate('RM')}\")\n",
    "        print(f\"LWB:{self.cal_rate('LWB')} CDM:{self.cal_rate('CDM')}    RWB:{self.cal_rate('RWB')}\")\n",
    "        print(f\" LB:{self.cal_rate('LB')}  CB:{self.cal_rate('CB')}    RB:{self.cal_rate('RB')}\")\n",
    "        print()"
   ]
  },
  {
   "cell_type": "code",
   "execution_count": 259,
   "id": "c7c0e865",
   "metadata": {},
   "outputs": [
    {
     "name": "stdout",
     "output_type": "stream",
     "text": [
      "Lewandwski   Rate: 93 ( ST )\n",
      "-------------------------\n",
      "        ST:93\n",
      " LW:84 CAM,CF:86 RW:84\n",
      " LM:79  CM:79    RM:79\n",
      "LWB:71 CDM:65    RWB:71\n",
      " LB:70  CB:56    RB:70\n",
      "\n",
      "kroos   Rate: 87 ( CM )\n",
      "-------------------------\n",
      "        ST:80\n",
      " LW:75 CAM,CF:84 RW:75\n",
      " LM:80  CM:87    RM:80\n",
      "LWB:71 CDM:79    RWB:71\n",
      " LB:69  CB:71    RB:69\n",
      "\n",
      "kante   Rate: 85 ( CDM )\n",
      "-------------------------\n",
      "        ST:71\n",
      " LW:81 CAM,CF:78 RW:81\n",
      " LM:80  CM:79    RM:80\n",
      "LWB:83 CDM:85    RWB:83\n",
      " LB:84  CB:88    RB:84\n",
      "\n",
      "van dijk   Rate: 91 ( CB )\n",
      "-------------------------\n",
      "        ST:72\n",
      " LW:76 CAM,CF:75 RW:76\n",
      " LM:78  CM:76    RM:78\n",
      "LWB:83 CDM:85    RWB:83\n",
      " LB:84  CB:91    RB:84\n",
      "\n"
     ]
    }
   ],
   "source": [
    "lewa = Player(\"Lewandwski\", 34, 'ST', 78, 92, 79, 86, 44, 82)\n",
    "lewa.print_all_rate()\n",
    "\n",
    "kroos = Player(\"kroos\", 32, 'CM', 53, 81, 91, 81, 71, 68)\n",
    "kroos.print_all_rate()\n",
    "\n",
    "kante = Player(\"kante\", 31, 'CDM', 78, 66, 75, 82, 87, 83)\n",
    "kante.print_all_rate()\n",
    "\n",
    "van_dijk = Player(\"van dijk\", 31, 'CB', 78, 68, 71, 72, 91, 84)\n",
    "van_dijk.print_all_rate()"
   ]
  },
  {
   "cell_type": "code",
   "execution_count": null,
   "id": "84d973d6",
   "metadata": {},
   "outputs": [],
   "source": []
  }
 ],
 "metadata": {
  "kernelspec": {
   "display_name": "Python 3 (ipykernel)",
   "language": "python",
   "name": "python3"
  },
  "language_info": {
   "codemirror_mode": {
    "name": "ipython",
    "version": 3
   },
   "file_extension": ".py",
   "mimetype": "text/x-python",
   "name": "python",
   "nbconvert_exporter": "python",
   "pygments_lexer": "ipython3",
   "version": "3.8.10"
  }
 },
 "nbformat": 4,
 "nbformat_minor": 5
}
