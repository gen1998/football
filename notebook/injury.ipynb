{
 "cells": [
  {
   "cell_type": "code",
   "execution_count": 1,
   "id": "1ba60809",
   "metadata": {},
   "outputs": [],
   "source": [
    "import numpy as np\n",
    "import pandas as pd\n",
    "\n",
    "pd.set_option('display.max_rows', 80)\n",
    "\n",
    "import random\n",
    "\n",
    "import sys\n",
    "sys.path.append(\"../\")\n",
    "\n",
    "from src.object import *\n",
    "from src.create import *\n",
    "\n",
    "from config.formation import *\n",
    "\n",
    "from IPython.core.interactiveshell import InteractiveShell\n",
    "InteractiveShell.ast_node_interactivity = \"all\""
   ]
  },
  {
   "cell_type": "code",
   "execution_count": 2,
   "id": "231c2a1e",
   "metadata": {},
   "outputs": [],
   "source": [
    "df_name = pd.read_csv(\"../data/csv/NationalNames.csv\")\n",
    "df_name_list = list(df_name[df_name.Gender=='M'].Name.sample(500))\n",
    "\n",
    "df_place = pd.read_csv(\"../data/csv/results.csv\")\n",
    "df_place = df_place.city.unique()"
   ]
  },
  {
   "cell_type": "code",
   "execution_count": 3,
   "id": "88e63475",
   "metadata": {},
   "outputs": [],
   "source": [
    "class Team:\n",
    "    def __init__(self, name, formation):\n",
    "        self.name = name\n",
    "        self.formation = formation\n",
    "        self.relegation = 0\n",
    "        self.promotion = 0\n",
    "        self.result = pd.DataFrame(columns=['win', 'lose', 'row', '得点', '失点', '得失点差', 'Points', '順位', 'リーグ名'])\n",
    "        self.competition_result = {}\n",
    "        self.affilation_players = None\n",
    "        self.league_name = None\n",
    "    \n",
    "    def set_affilation_players_rate(self):\n",
    "        output = pd.DataFrame(columns=ALL_POSITON)\n",
    "        output_gk = pd.DataFrame(columns=[\"GK\"])\n",
    "\n",
    "        for i, p in enumerate(self.affilation_players):\n",
    "            if p.main_position!=\"GK\":\n",
    "                df = p.position_all_rate\n",
    "                buff = pd.DataFrame(df, index=[i])\n",
    "                buff.loc[i, \"injury\"] = int(p.injury)\n",
    "                output = pd.concat([output, buff])\n",
    "            else:\n",
    "                output_gk = pd.concat([output_gk, pd.DataFrame([p.main_rate], columns=[\"GK\"], index=[i])])\n",
    "        output[\"partification\"] = 0\n",
    "        self.affilation_players_all_rate = output\n",
    "        self.affilation_players_gk_rate = output_gk\n",
    "    \n",
    "    def set_onfield_players(self):\n",
    "        self.formation.set_players_position()\n",
    "        for fp in self.formation.formation_priority:\n",
    "            select_num = self.formation.formation_num[fp]\n",
    "            df = self.affilation_players_all_rate[((self.affilation_players_all_rate.partification==0)&(self.affilation_players_all_rate.injury<1))]\n",
    "            select_index = df.sort_values(fp, ascending=False).index.values[:select_num]\n",
    "            self.affilation_players_all_rate.loc[select_index, \"partification\"] = 1\n",
    "            \n",
    "            for index in select_index:\n",
    "                self.affilation_players[index].partification = 1\n",
    "                self.affilation_players[index].partification_position = fp\n",
    "                self.formation.players[fp].append(self.affilation_players[index])\n",
    "        \n",
    "        gk_index = self.affilation_players_gk_rate.sort_values(\"GK\", ascending=False).index.values[0]\n",
    "        self.formation.players[\"GK\"].append(self.affilation_players[gk_index])\n",
    "\n",
    "        for fps in self.formation.players.values():\n",
    "            if fps[0].main_position!=\"GK\":\n",
    "                self.formation.players_flat.extend(fps)"
   ]
  },
  {
   "cell_type": "code",
   "execution_count": 4,
   "id": "92cffe20",
   "metadata": {},
   "outputs": [],
   "source": [
    "league_team = []\n",
    "\n",
    "min_rate = np.random.randint(70, 78)\n",
    "max_rate = min_rate + 15\n",
    "players = random_create_players(27, 3, min_rate, max_rate, df_name_list)\n",
    "formation = random_create_formation()\n",
    "A = Team(name=df_place[0], \n",
    "         formation=formation)\n",
    "\n",
    "A.affilation_players = players\n",
    "\n",
    "A.set_affilation_players_rate()\n",
    "A.set_onfield_players()"
   ]
  },
  {
   "cell_type": "code",
   "execution_count": 7,
   "id": "512a5f9a",
   "metadata": {},
   "outputs": [
    {
     "data": {
      "text/plain": [
       "5.5198698734802015e-05"
      ]
     },
     "execution_count": 7,
     "metadata": {},
     "output_type": "execute_result"
    }
   ],
   "source": [
    "A.affilation_players[2].injury_possibility"
   ]
  },
  {
   "cell_type": "code",
   "execution_count": 27,
   "id": "90fac020",
   "metadata": {},
   "outputs": [
    {
     "data": {
      "text/plain": [
       "11"
      ]
     },
     "execution_count": 27,
     "metadata": {},
     "output_type": "execute_result"
    }
   ],
   "source": []
  },
  {
   "cell_type": "code",
   "execution_count": null,
   "id": "c81f6616",
   "metadata": {},
   "outputs": [],
   "source": []
  }
 ],
 "metadata": {
  "kernelspec": {
   "display_name": "Python 3 (ipykernel)",
   "language": "python",
   "name": "python3"
  },
  "language_info": {
   "codemirror_mode": {
    "name": "ipython",
    "version": 3
   },
   "file_extension": ".py",
   "mimetype": "text/x-python",
   "name": "python",
   "nbconvert_exporter": "python",
   "pygments_lexer": "ipython3",
   "version": "3.8.10"
  }
 },
 "nbformat": 4,
 "nbformat_minor": 5
}
